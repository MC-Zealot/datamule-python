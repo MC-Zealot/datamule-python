{
 "cells": [
  {
   "cell_type": "code",
   "metadata": {
    "ExecuteTime": {
     "end_time": "2025-04-29T11:21:51.794236Z",
     "start_time": "2025-04-29T11:21:51.778861Z"
    }
   },
   "source": [
    "# Get Insider Trading Data for Q1 2024\n",
    "\n",
    "from datamule import Submission,Portfolio\n",
    "import pandas as pd\n",
    "from tqdm import tqdm\n",
    "\n",
    "\n",
    "# I set my api_key using the environment variable 'DATAMULE_API_KEY'\n",
    "# downloader = PremiumDownloader()\n",
    "\n",
    "# Downloads for me in about 45 seconds (200/sec)\n",
    "#downloader.download_submissions(filing_date=('2024-01-01','2024-03-31'),submission_type='13F-HR',output_dir='q1_24')\n",
    "portfolio = Portfolio('q2_24')\n",
    "\n",
    "\n",
    "# This is not optimized for speed, but it's a good example of how to iterate over the portfolio. Takes about 10 minutes to run all.\n",
    "info_table_dict_list = []\n",
    "\n",
    "\n",
    "# Just using the first 100 submissions for this example, feel free to remove this line to get all submissions\n",
    "portfolio.submissions = portfolio.submissions[:10]  \n",
    "\n",
    "total_submissions = len(portfolio.submissions)\n",
    "# Using tqdm to create a progress bar\n",
    "df_list = []\n",
    "for submission in tqdm(portfolio, total=total_submissions, desc=\"Processing submissions\"):\n",
    "    for info_table in submission.document_type('INFORMATION TABLE'):\n",
    "        df_list.append(pd.DataFrame(info_table))\n",
    "\n",
    "print(len(df_list))\n",
    "# pd.concat(df_list).to_csv('q1_24_info_table.csv',index=False)"
   ],
   "outputs": [
    {
     "name": "stdout",
     "output_type": "stream",
     "text": [
      "Loading 0 submissions\n"
     ]
    },
    {
     "name": "stderr",
     "output_type": "stream",
     "text": [
      "Loading submissions: 0it [00:00, ?it/s]\n"
     ]
    },
    {
     "name": "stdout",
     "output_type": "stream",
     "text": [
      "Successfully loaded 0 submissions\n"
     ]
    },
    {
     "name": "stderr",
     "output_type": "stream",
     "text": [
      "Processing submissions: 0it [00:00, ?it/s]"
     ]
    },
    {
     "name": "stdout",
     "output_type": "stream",
     "text": [
      "0\n"
     ]
    },
    {
     "name": "stderr",
     "output_type": "stream",
     "text": [
      "\n"
     ]
    }
   ],
   "execution_count": 3
  },
  {
   "metadata": {},
   "cell_type": "code",
   "outputs": [],
   "execution_count": null,
   "source": ""
  }
 ],
 "metadata": {
  "kernelspec": {
   "display_name": "Python 3",
   "language": "python",
   "name": "python3"
  },
  "language_info": {
   "codemirror_mode": {
    "name": "ipython",
    "version": 3
   },
   "file_extension": ".py",
   "mimetype": "text/x-python",
   "name": "python",
   "nbconvert_exporter": "python",
   "pygments_lexer": "ipython3",
   "version": "3.11.5"
  }
 },
 "nbformat": 4,
 "nbformat_minor": 2
}
