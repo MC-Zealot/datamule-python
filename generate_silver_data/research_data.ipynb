{
 "cells": [
  {
   "metadata": {
    "ExecuteTime": {
     "end_time": "2025-05-02T09:08:22.966260Z",
     "start_time": "2025-05-02T09:08:16.112875Z"
    }
   },
   "cell_type": "code",
   "source": [
    "import pandas as pd\n",
    "\n",
    "# 1. Load the TSV file into a DataFrame\n",
    "df = pd.read_csv(\"/Users/zealot/Downloads/2020q1_form13f/INFOTABLE.tsv\", sep=\"\\t\")\n",
    "\n",
    "# 2. Count the total number of unique companies\n",
    "total_companies = df[\"NAMEOFISSUER\"].nunique()\n",
    "\n",
    "# 3. Count how many records (rows) each company has\n",
    "company_record_counts = df[\"NAMEOFISSUER\"].value_counts()\n",
    "\n",
    "# 4. Get the top 10 companies with the most records\n",
    "top_10_companies = company_record_counts.head(20)\n",
    "\n",
    "# 5. Count the total number of unique investment institutions\n",
    "total_institutions = df[\"ACCESSION_NUMBER\"].nunique()\n",
    "\n",
    "# 6. For each institution, count how many unique companies they invested in\n",
    "institution_company_counts = df.groupby(\"ACCESSION_NUMBER\")[\"NAMEOFISSUER\"].nunique()\n",
    "\n",
    "# 7. Get the top 10 institutions that invested in the most companies\n",
    "top_10_institutions = institution_company_counts.sort_values(ascending=False).head(10)\n",
    "\n",
    "# 8. Print the results\n",
    "print(\"✅ Total number of companies:\", total_companies)\n",
    "print(\"✅ Total number of investment institutions:\", total_institutions)\n",
    "\n",
    "print(\"\\n📊 Top 10 companies by number of records:\")\n",
    "print(top_10_companies)\n",
    "\n",
    "print(\"\\n🏦 Top 10 institutions by number of companies invested in:\")\n",
    "print(top_10_institutions)\n"
   ],
   "id": "efa0d5e582516be3",
   "outputs": [
    {
     "name": "stdout",
     "output_type": "stream",
     "text": [
      "✅ Total number of companies: 152346\n",
      "✅ Total number of investment institutions: 5712\n",
      "\n",
      "📊 Top 10 companies by number of records:\n",
      "NAMEOFISSUER\n",
      "ISHARES TR                      59963\n",
      "SPDR SERIES TRUST               13362\n",
      "VANGUARD INDEX FDS               9777\n",
      "SELECT SECTOR SPDR TR            8353\n",
      "SCHWAB STRATEGIC TR              7550\n",
      "ISHARES INC                      6803\n",
      "INVESCO EXCHANGE TRADED FD T     6441\n",
      "ALPHABET INC                     6278\n",
      "INVESCO EXCHNG TRADED FD TR      6060\n",
      "APPLE INC                        5097\n",
      "FIRST TR EXCHANGE TRADED FD      4987\n",
      "WISDOMTREE TR                    4906\n",
      "MICROSOFT CORP                   4582\n",
      "AMAZON COM INC                   4157\n",
      "VANGUARD INTL EQUITY INDEX F     4136\n",
      "SPDR S&P 500 ETF TR              3634\n",
      "JOHNSON & JOHNSON                3545\n",
      "VANECK VECTORS ETF TRUST         3506\n",
      "FACEBOOK INC                     3420\n",
      "VANGUARD SCOTTSDALE FDS          3419\n",
      "Name: count, dtype: int64\n",
      "\n",
      "🏦 Top 10 institutions by number of companies invested in:\n",
      "ACCESSION_NUMBER\n",
      "0000752798-20-000002    6301\n",
      "0000950123-20-002037    5298\n",
      "0000895421-20-000215    5227\n",
      "0000950123-20-000620    4932\n",
      "0001567619-20-003877    4872\n",
      "0001567619-20-003889    4824\n",
      "0000072971-20-000209    4818\n",
      "0000019617-20-000205    4532\n",
      "0000950123-20-001059    4374\n",
      "0001086364-20-000006    4325\n",
      "Name: NAMEOFISSUER, dtype: int64\n"
     ]
    }
   ],
   "execution_count": 1
  },
  {
   "metadata": {
    "ExecuteTime": {
     "end_time": "2025-05-02T09:08:22.995393Z",
     "start_time": "2025-05-02T09:08:22.982746Z"
    }
   },
   "cell_type": "code",
   "source": "df.columns",
   "id": "dfc6e76e435473fe",
   "outputs": [
    {
     "data": {
      "text/plain": [
       "Index(['ACCESSION_NUMBER', 'INFOTABLE_SK', 'NAMEOFISSUER', 'TITLEOFCLASS',\n",
       "       'CUSIP', 'FIGI', 'VALUE', 'SSHPRNAMT', 'SSHPRNAMTTYPE', 'PUTCALL',\n",
       "       'INVESTMENTDISCRETION', 'OTHERMANAGER', 'VOTING_AUTH_SOLE',\n",
       "       'VOTING_AUTH_SHARED', 'VOTING_AUTH_NONE'],\n",
       "      dtype='object')"
      ]
     },
     "execution_count": 2,
     "metadata": {},
     "output_type": "execute_result"
    }
   ],
   "execution_count": 2
  },
  {
   "metadata": {
    "ExecuteTime": {
     "end_time": "2025-05-02T09:08:39.763857Z",
     "start_time": "2025-05-02T09:08:23.235177Z"
    }
   },
   "cell_type": "code",
   "source": [
    "from datamule import Portfolio\n",
    "\n",
    "portfolio_path_13F_HR_path = \"/Users/zealot/Documents/SEC_13F-HR/portfolio_output_dir\"\n",
    "\n",
    "portfolio = Portfolio(portfolio_path_13F_HR_path)\n",
    "text_query=\"APPLE INC\"\n",
    "filing_date=('2024-01-01', '2024-03-31')\n",
    "submission_type='13F-HR'\n",
    "ret = portfolio.filter_text(text_query=text_query,submission_type=submission_type,filing_date=filing_date)\n",
    "# for document in portfolio.contains_string(r'APPLE INC'):\n",
    "#     doc_type = document.type\n",
    "#     content = document.content\n",
    "#     print(doc_type)\n",
    "#     print(content)\n",
    "#     print(\"***************\"*10)\n"
   ],
   "id": "3a2c53c206fd0039",
   "outputs": [
    {
     "name": "stderr",
     "output_type": "stream",
     "text": [
      "/Users/zealot/.conda/envs/datamule38/lib/python3.10/site-packages/tqdm/auto.py:21: TqdmWarning: IProgress not found. Please update jupyter and ipywidgets. See https://ipywidgets.readthedocs.io/en/stable/user_install.html\n",
      "  from .autonotebook import tqdm as notebook_tqdm\n"
     ]
    },
    {
     "name": "stdout",
     "output_type": "stream",
     "text": [
      "Loading 7591 submissions\n"
     ]
    },
    {
     "name": "stderr",
     "output_type": "stream",
     "text": [
      "Loading submissions: 100%|██████████| 7591/7591 [00:00<00:00, 23144.35it/s]\n"
     ]
    },
    {
     "name": "stdout",
     "output_type": "stream",
     "text": [
      "Successfully loaded 7591 submissions\n",
      "\n",
      "--- Starting query planning phase ---\n",
      "Analyzing request and splitting into manageable chunks...\n",
      "Fetching https://efts.sec.gov/LATEST/search-index?forms=13F-HR%2C-13F-HR%2FA&startdt=2024-01-01&enddt=2024-03-31&q=APPLE+INC&from=0&size=1...\n",
      "Found 5,034 total documents to retrieve.\n",
      "Fetching https://efts.sec.gov/LATEST/search-index?forms=13F-HR%2C-13F-HR%2FA&startdt=2024-01-01&enddt=2024-03-31&q=APPLE+INC&from=0&size=1...\n",
      "Planning: Analyzing query: forms=13F-HR,-13F-HR/A, dates=2024-01-01 to 2024-03-31 [5,034 hits]\n",
      "No additional forms to process with negation\n",
      "\n",
      "--- Starting query phase ---\n"
     ]
    },
    {
     "name": "stderr",
     "output_type": "stream",
     "text": [
      "Querying documents [Rate: 0/s | 0 MB/s]:   0%|          | 0/5034 [00:00<?, ?it/s]"
     ]
    },
    {
     "name": "stdout",
     "output_type": "stream",
     "text": [
      "Fetching https://efts.sec.gov/LATEST/search-index?forms=13F-HR%2C-13F-HR%2FA&startdt=2024-01-01&enddt=2024-03-31&q=APPLE+INC&from=0&size=100...\n",
      "Fetching https://efts.sec.gov/LATEST/search-index?forms=13F-HR%2C-13F-HR%2FA&startdt=2024-01-01&enddt=2024-03-31&q=APPLE+INC&from=100&size=100...\n",
      "Fetching https://efts.sec.gov/LATEST/search-index?forms=13F-HR%2C-13F-HR%2FA&startdt=2024-01-01&enddt=2024-03-31&q=APPLE+INC&from=200&size=100...\n",
      "Fetching https://efts.sec.gov/LATEST/search-index?forms=13F-HR%2C-13F-HR%2FA&startdt=2024-01-01&enddt=2024-03-31&q=APPLE+INC&from=300&size=100...\n",
      "Fetching https://efts.sec.gov/LATEST/search-index?forms=13F-HR%2C-13F-HR%2FA&startdt=2024-01-01&enddt=2024-03-31&q=APPLE+INC&from=400&size=100...\n"
     ]
    },
    {
     "name": "stderr",
     "output_type": "stream",
     "text": [
      "Querying documents [Rate: 3.0/s | 0.17 MB/s]:   2%|▏         | 100/5034 [00:00<00:20, 242.27it/s]"
     ]
    },
    {
     "name": "stdout",
     "output_type": "stream",
     "text": [
      "Fetching https://efts.sec.gov/LATEST/search-index?forms=13F-HR%2C-13F-HR%2FA&startdt=2024-01-01&enddt=2024-03-31&q=APPLE+INC&from=500&size=100...\n"
     ]
    },
    {
     "name": "stderr",
     "output_type": "stream",
     "text": [
      "Querying documents [Rate: 2.0/s | 0.11 MB/s]:   4%|▍         | 200/5034 [00:01<00:28, 168.21it/s]"
     ]
    },
    {
     "name": "stdout",
     "output_type": "stream",
     "text": [
      "Fetching https://efts.sec.gov/LATEST/search-index?forms=13F-HR%2C-13F-HR%2FA&startdt=2024-01-01&enddt=2024-03-31&q=APPLE+INC&from=600&size=100...\n"
     ]
    },
    {
     "name": "stderr",
     "output_type": "stream",
     "text": [
      "Querying documents [Rate: 3.0/s | 0.17 MB/s]:   6%|▌         | 300/5034 [00:01<00:28, 166.60it/s]"
     ]
    },
    {
     "name": "stdout",
     "output_type": "stream",
     "text": [
      "Fetching https://efts.sec.gov/LATEST/search-index?forms=13F-HR%2C-13F-HR%2FA&startdt=2024-01-01&enddt=2024-03-31&q=APPLE+INC&from=700&size=100...\n",
      "Fetching https://efts.sec.gov/LATEST/search-index?forms=13F-HR%2C-13F-HR%2FA&startdt=2024-01-01&enddt=2024-03-31&q=APPLE+INC&from=800&size=100...\n"
     ]
    },
    {
     "name": "stderr",
     "output_type": "stream",
     "text": [
      "Querying documents [Rate: 4.0/s | 0.23 MB/s]:  10%|▉         | 500/5034 [00:01<00:15, 299.99it/s]"
     ]
    },
    {
     "name": "stdout",
     "output_type": "stream",
     "text": [
      "Fetching https://efts.sec.gov/LATEST/search-index?forms=13F-HR%2C-13F-HR%2FA&startdt=2024-01-01&enddt=2024-03-31&q=APPLE+INC&from=900&size=100...\n"
     ]
    },
    {
     "name": "stderr",
     "output_type": "stream",
     "text": [
      "Querying documents [Rate: 5.0/s | 0.29 MB/s]:  14%|█▍        | 700/5034 [00:02<00:11, 375.73it/s]"
     ]
    },
    {
     "name": "stdout",
     "output_type": "stream",
     "text": [
      "Fetching https://efts.sec.gov/LATEST/search-index?forms=13F-HR%2C-13F-HR%2FA&startdt=2024-01-01&enddt=2024-03-31&q=APPLE+INC&from=1000&size=100...\n",
      "Fetching https://efts.sec.gov/LATEST/search-index?forms=13F-HR%2C-13F-HR%2FA&startdt=2024-01-01&enddt=2024-03-31&q=APPLE+INC&from=1100&size=100...\n"
     ]
    },
    {
     "name": "stderr",
     "output_type": "stream",
     "text": [
      "Querying documents [Rate: 7.0/s | 0.4 MB/s]:  18%|█▊        | 900/5034 [00:02<00:07, 582.30it/s] "
     ]
    },
    {
     "name": "stdout",
     "output_type": "stream",
     "text": [
      "Fetching https://efts.sec.gov/LATEST/search-index?forms=13F-HR%2C-13F-HR%2FA&startdt=2024-01-01&enddt=2024-03-31&q=APPLE+INC&from=1200&size=100...\n",
      "Fetching https://efts.sec.gov/LATEST/search-index?forms=13F-HR%2C-13F-HR%2FA&startdt=2024-01-01&enddt=2024-03-31&q=APPLE+INC&from=1300&size=100...\n"
     ]
    },
    {
     "name": "stderr",
     "output_type": "stream",
     "text": [
      "Querying documents [Rate: 7.0/s | 0.4 MB/s]:  22%|██▏       | 1100/5034 [00:02<00:07, 554.01it/s] "
     ]
    },
    {
     "name": "stdout",
     "output_type": "stream",
     "text": [
      "Fetching https://efts.sec.gov/LATEST/search-index?forms=13F-HR%2C-13F-HR%2FA&startdt=2024-01-01&enddt=2024-03-31&q=APPLE+INC&from=1400&size=100...\n",
      "Fetching https://efts.sec.gov/LATEST/search-index?forms=13F-HR%2C-13F-HR%2FA&startdt=2024-01-01&enddt=2024-03-31&q=APPLE+INC&from=1500&size=100...\n"
     ]
    },
    {
     "name": "stderr",
     "output_type": "stream",
     "text": [
      "Querying documents [Rate: 7.0/s | 0.4 MB/s]:  24%|██▍       | 1200/5034 [00:03<00:08, 444.93it/s]"
     ]
    },
    {
     "name": "stdout",
     "output_type": "stream",
     "text": [
      "Fetching https://efts.sec.gov/LATEST/search-index?forms=13F-HR%2C-13F-HR%2FA&startdt=2024-01-01&enddt=2024-03-31&q=APPLE+INC&from=1600&size=100...\n",
      "Fetching https://efts.sec.gov/LATEST/search-index?forms=13F-HR%2C-13F-HR%2FA&startdt=2024-01-01&enddt=2024-03-31&q=APPLE+INC&from=1700&size=100...\n"
     ]
    },
    {
     "name": "stderr",
     "output_type": "stream",
     "text": [
      "Querying documents [Rate: 6.0/s | 0.34 MB/s]:  30%|██▉       | 1500/5034 [00:03<00:06, 546.75it/s]"
     ]
    },
    {
     "name": "stdout",
     "output_type": "stream",
     "text": [
      "Fetching https://efts.sec.gov/LATEST/search-index?forms=13F-HR%2C-13F-HR%2FA&startdt=2024-01-01&enddt=2024-03-31&q=APPLE+INC&from=1800&size=100...\n",
      "Fetching https://efts.sec.gov/LATEST/search-index?forms=13F-HR%2C-13F-HR%2FA&startdt=2024-01-01&enddt=2024-03-31&q=APPLE+INC&from=1900&size=100...\n"
     ]
    },
    {
     "name": "stderr",
     "output_type": "stream",
     "text": [
      "Querying documents [Rate: 6.0/s | 0.34 MB/s]:  34%|███▍      | 1700/5034 [00:04<00:06, 547.05it/s]"
     ]
    },
    {
     "name": "stdout",
     "output_type": "stream",
     "text": [
      "Fetching https://efts.sec.gov/LATEST/search-index?forms=13F-HR%2C-13F-HR%2FA&startdt=2024-01-01&enddt=2024-03-31&q=APPLE+INC&from=2000&size=100...\n",
      "Fetching https://efts.sec.gov/LATEST/search-index?forms=13F-HR%2C-13F-HR%2FA&startdt=2024-01-01&enddt=2024-03-31&q=APPLE+INC&from=2100&size=100...\n"
     ]
    },
    {
     "name": "stderr",
     "output_type": "stream",
     "text": [
      "Querying documents [Rate: 7.0/s | 0.4 MB/s]:  36%|███▌      | 1800/5034 [00:04<00:06, 529.48it/s] "
     ]
    },
    {
     "name": "stdout",
     "output_type": "stream",
     "text": [
      "Fetching https://efts.sec.gov/LATEST/search-index?forms=13F-HR%2C-13F-HR%2FA&startdt=2024-01-01&enddt=2024-03-31&q=APPLE+INC&from=2200&size=100...\n"
     ]
    },
    {
     "name": "stderr",
     "output_type": "stream",
     "text": [
      "Querying documents [Rate: 6.0/s | 0.34 MB/s]:  38%|███▊      | 1900/5034 [00:04<00:07, 416.41it/s]"
     ]
    },
    {
     "name": "stdout",
     "output_type": "stream",
     "text": [
      "Fetching https://efts.sec.gov/LATEST/search-index?forms=13F-HR%2C-13F-HR%2FA&startdt=2024-01-01&enddt=2024-03-31&q=APPLE+INC&from=2300&size=100...\n",
      "Fetching https://efts.sec.gov/LATEST/search-index?forms=13F-HR%2C-13F-HR%2FA&startdt=2024-01-01&enddt=2024-03-31&q=APPLE+INC&from=2400&size=100...\n"
     ]
    },
    {
     "name": "stderr",
     "output_type": "stream",
     "text": [
      "Querying documents [Rate: 6.0/s | 0.34 MB/s]:  44%|████▎     | 2200/5034 [00:05<00:05, 541.52it/s]"
     ]
    },
    {
     "name": "stdout",
     "output_type": "stream",
     "text": [
      "Fetching https://efts.sec.gov/LATEST/search-index?forms=13F-HR%2C-13F-HR%2FA&startdt=2024-01-01&enddt=2024-03-31&q=APPLE+INC&from=2500&size=100...\n",
      "Fetching https://efts.sec.gov/LATEST/search-index?forms=13F-HR%2C-13F-HR%2FA&startdt=2024-01-01&enddt=2024-03-31&q=APPLE+INC&from=2600&size=100...\n"
     ]
    },
    {
     "name": "stderr",
     "output_type": "stream",
     "text": [
      "Querying documents [Rate: 6.0/s | 0.34 MB/s]:  46%|████▌     | 2300/5034 [00:05<00:05, 523.41it/s]"
     ]
    },
    {
     "name": "stdout",
     "output_type": "stream",
     "text": [
      "Fetching https://efts.sec.gov/LATEST/search-index?forms=13F-HR%2C-13F-HR%2FA&startdt=2024-01-01&enddt=2024-03-31&q=APPLE+INC&from=2700&size=100...\n"
     ]
    },
    {
     "name": "stderr",
     "output_type": "stream",
     "text": [
      "Querying documents [Rate: 5.0/s | 0.29 MB/s]:  50%|████▉     | 2500/5034 [00:05<00:05, 490.96it/s]"
     ]
    },
    {
     "name": "stdout",
     "output_type": "stream",
     "text": [
      "Fetching https://efts.sec.gov/LATEST/search-index?forms=13F-HR%2C-13F-HR%2FA&startdt=2024-01-01&enddt=2024-03-31&q=APPLE+INC&from=2800&size=100...\n",
      "Fetching https://efts.sec.gov/LATEST/search-index?forms=13F-HR%2C-13F-HR%2FA&startdt=2024-01-01&enddt=2024-03-31&q=APPLE+INC&from=2900&size=100...\n"
     ]
    },
    {
     "name": "stderr",
     "output_type": "stream",
     "text": [
      "Querying documents [Rate: 5.0/s | 0.29 MB/s]:  52%|█████▏    | 2600/5034 [00:06<00:04, 513.76it/s]"
     ]
    },
    {
     "name": "stdout",
     "output_type": "stream",
     "text": [
      "Fetching https://efts.sec.gov/LATEST/search-index?forms=13F-HR%2C-13F-HR%2FA&startdt=2024-01-01&enddt=2024-03-31&q=APPLE+INC&from=3000&size=100...\n"
     ]
    },
    {
     "name": "stderr",
     "output_type": "stream",
     "text": [
      "Querying documents [Rate: 5.0/s | 0.29 MB/s]:  54%|█████▎    | 2700/5034 [00:06<00:04, 507.74it/s]"
     ]
    },
    {
     "name": "stdout",
     "output_type": "stream",
     "text": [
      "Fetching https://efts.sec.gov/LATEST/search-index?forms=13F-HR%2C-13F-HR%2FA&startdt=2024-01-01&enddt=2024-03-31&q=APPLE+INC&from=3100&size=100...\n"
     ]
    },
    {
     "name": "stderr",
     "output_type": "stream",
     "text": [
      "Querying documents [Rate: 6.0/s | 0.34 MB/s]:  56%|█████▌    | 2800/5034 [00:06<00:04, 500.53it/s]"
     ]
    },
    {
     "name": "stdout",
     "output_type": "stream",
     "text": [
      "Fetching https://efts.sec.gov/LATEST/search-index?forms=13F-HR%2C-13F-HR%2FA&startdt=2024-01-01&enddt=2024-03-31&q=APPLE+INC&from=3200&size=100...\n"
     ]
    },
    {
     "name": "stderr",
     "output_type": "stream",
     "text": [
      "Querying documents [Rate: 6.0/s | 0.34 MB/s]:  60%|█████▉    | 3000/5034 [00:06<00:03, 521.64it/s]"
     ]
    },
    {
     "name": "stdout",
     "output_type": "stream",
     "text": [
      "Fetching https://efts.sec.gov/LATEST/search-index?forms=13F-HR%2C-13F-HR%2FA&startdt=2024-01-01&enddt=2024-03-31&q=APPLE+INC&from=3300&size=100...\n",
      "Fetching https://efts.sec.gov/LATEST/search-index?forms=13F-HR%2C-13F-HR%2FA&startdt=2024-01-01&enddt=2024-03-31&q=APPLE+INC&from=3400&size=100...\n"
     ]
    },
    {
     "name": "stderr",
     "output_type": "stream",
     "text": [
      "Querying documents [Rate: 5.0/s | 0.29 MB/s]:  62%|██████▏   | 3100/5034 [00:06<00:03, 500.02it/s]"
     ]
    },
    {
     "name": "stdout",
     "output_type": "stream",
     "text": [
      "Fetching https://efts.sec.gov/LATEST/search-index?forms=13F-HR%2C-13F-HR%2FA&startdt=2024-01-01&enddt=2024-03-31&q=APPLE+INC&from=3500&size=100...\n"
     ]
    },
    {
     "name": "stderr",
     "output_type": "stream",
     "text": [
      "Querying documents [Rate: 6.0/s | 0.34 MB/s]:  66%|██████▌   | 3300/5034 [00:07<00:03, 503.05it/s]"
     ]
    },
    {
     "name": "stdout",
     "output_type": "stream",
     "text": [
      "Fetching https://efts.sec.gov/LATEST/search-index?forms=13F-HR%2C-13F-HR%2FA&startdt=2024-01-01&enddt=2024-03-31&q=APPLE+INC&from=3600&size=100...\n",
      "Fetching https://efts.sec.gov/LATEST/search-index?forms=13F-HR%2C-13F-HR%2FA&startdt=2024-01-01&enddt=2024-03-31&q=APPLE+INC&from=3700&size=100...\n"
     ]
    },
    {
     "name": "stderr",
     "output_type": "stream",
     "text": [
      "Querying documents [Rate: 6.0/s | 0.34 MB/s]:  68%|██████▊   | 3400/5034 [00:07<00:03, 503.28it/s]"
     ]
    },
    {
     "name": "stdout",
     "output_type": "stream",
     "text": [
      "Fetching https://efts.sec.gov/LATEST/search-index?forms=13F-HR%2C-13F-HR%2FA&startdt=2024-01-01&enddt=2024-03-31&q=APPLE+INC&from=3800&size=100...\n"
     ]
    },
    {
     "name": "stderr",
     "output_type": "stream",
     "text": [
      "Querying documents [Rate: 5.0/s | 0.29 MB/s]:  70%|██████▉   | 3500/5034 [00:07<00:03, 479.11it/s]"
     ]
    },
    {
     "name": "stdout",
     "output_type": "stream",
     "text": [
      "Fetching https://efts.sec.gov/LATEST/search-index?forms=13F-HR%2C-13F-HR%2FA&startdt=2024-01-01&enddt=2024-03-31&q=APPLE+INC&from=3900&size=100...\n"
     ]
    },
    {
     "name": "stderr",
     "output_type": "stream",
     "text": [
      "Querying documents [Rate: 5.0/s | 0.29 MB/s]:  74%|███████▎  | 3700/5034 [00:08<00:02, 500.26it/s]"
     ]
    },
    {
     "name": "stdout",
     "output_type": "stream",
     "text": [
      "Fetching https://efts.sec.gov/LATEST/search-index?forms=13F-HR%2C-13F-HR%2FA&startdt=2024-01-01&enddt=2024-03-31&q=APPLE+INC&from=4000&size=100...\n",
      "Fetching https://efts.sec.gov/LATEST/search-index?forms=13F-HR%2C-13F-HR%2FA&startdt=2024-01-01&enddt=2024-03-31&q=APPLE+INC&from=4100&size=100...\n"
     ]
    },
    {
     "name": "stderr",
     "output_type": "stream",
     "text": [
      "Querying documents [Rate: 5.0/s | 0.29 MB/s]:  77%|███████▋  | 3900/5034 [00:08<00:02, 498.88it/s]"
     ]
    },
    {
     "name": "stdout",
     "output_type": "stream",
     "text": [
      "Fetching https://efts.sec.gov/LATEST/search-index?forms=13F-HR%2C-13F-HR%2FA&startdt=2024-01-01&enddt=2024-03-31&q=APPLE+INC&from=4200&size=100...\n",
      "Fetching https://efts.sec.gov/LATEST/search-index?forms=13F-HR%2C-13F-HR%2FA&startdt=2024-01-01&enddt=2024-03-31&q=APPLE+INC&from=4300&size=100...\n"
     ]
    },
    {
     "name": "stderr",
     "output_type": "stream",
     "text": [
      "Querying documents [Rate: 6.0/s | 0.34 MB/s]:  81%|████████▏ | 4100/5034 [00:08<00:01, 497.46it/s]"
     ]
    },
    {
     "name": "stdout",
     "output_type": "stream",
     "text": [
      "Fetching https://efts.sec.gov/LATEST/search-index?forms=13F-HR%2C-13F-HR%2FA&startdt=2024-01-01&enddt=2024-03-31&q=APPLE+INC&from=4400&size=100...\n",
      "Fetching https://efts.sec.gov/LATEST/search-index?forms=13F-HR%2C-13F-HR%2FA&startdt=2024-01-01&enddt=2024-03-31&q=APPLE+INC&from=4500&size=100...\n"
     ]
    },
    {
     "name": "stderr",
     "output_type": "stream",
     "text": [
      "Querying documents [Rate: 5.0/s | 0.29 MB/s]:  83%|████████▎ | 4200/5034 [00:09<00:01, 500.65it/s]"
     ]
    },
    {
     "name": "stdout",
     "output_type": "stream",
     "text": [
      "Fetching https://efts.sec.gov/LATEST/search-index?forms=13F-HR%2C-13F-HR%2FA&startdt=2024-01-01&enddt=2024-03-31&q=APPLE+INC&from=4600&size=100...\n"
     ]
    },
    {
     "name": "stderr",
     "output_type": "stream",
     "text": [
      "Querying documents [Rate: 6.0/s | 0.34 MB/s]:  87%|████████▋ | 4400/5034 [00:09<00:01, 510.44it/s]"
     ]
    },
    {
     "name": "stdout",
     "output_type": "stream",
     "text": [
      "Fetching https://efts.sec.gov/LATEST/search-index?forms=13F-HR%2C-13F-HR%2FA&startdt=2024-01-01&enddt=2024-03-31&q=APPLE+INC&from=4700&size=100...\n",
      "Fetching https://efts.sec.gov/LATEST/search-index?forms=13F-HR%2C-13F-HR%2FA&startdt=2024-01-01&enddt=2024-03-31&q=APPLE+INC&from=4800&size=100...\n"
     ]
    },
    {
     "name": "stderr",
     "output_type": "stream",
     "text": [
      "Querying documents [Rate: 5.0/s | 0.29 MB/s]:  89%|████████▉ | 4500/5034 [00:09<00:01, 405.35it/s]"
     ]
    },
    {
     "name": "stdout",
     "output_type": "stream",
     "text": [
      "Fetching https://efts.sec.gov/LATEST/search-index?forms=13F-HR%2C-13F-HR%2FA&startdt=2024-01-01&enddt=2024-03-31&q=APPLE+INC&from=4900&size=100...\n",
      "Fetching https://efts.sec.gov/LATEST/search-index?forms=13F-HR%2C-13F-HR%2FA&startdt=2024-01-01&enddt=2024-03-31&q=APPLE+INC&from=5000&size=100...\n"
     ]
    },
    {
     "name": "stderr",
     "output_type": "stream",
     "text": [
      "Querying documents [Rate: 5.0/s | 0.25 MB/s]: 100%|██████████| 5034/5034 [00:11<00:00, 457.43it/s]"
     ]
    },
    {
     "name": "stdout",
     "output_type": "stream",
     "text": [
      "\n",
      "--- Query complete: 5,034 submissions retrieved ---\n"
     ]
    },
    {
     "name": "stderr",
     "output_type": "stream",
     "text": [
      "\n"
     ]
    }
   ],
   "execution_count": 3
  },
  {
   "metadata": {
    "ExecuteTime": {
     "end_time": "2025-05-02T09:08:49.811915Z",
     "start_time": "2025-05-02T09:08:49.807482Z"
    }
   },
   "cell_type": "code",
   "source": "print(type(ret))",
   "id": "3fc9fa17caee0c59",
   "outputs": [
    {
     "name": "stdout",
     "output_type": "stream",
     "text": [
      "<class 'NoneType'>\n"
     ]
    }
   ],
   "execution_count": 6
  },
  {
   "metadata": {
    "ExecuteTime": {
     "end_time": "2025-05-02T09:08:50.821101Z",
     "start_time": "2025-05-02T09:08:50.815005Z"
    }
   },
   "cell_type": "code",
   "source": "print(ret)",
   "id": "127d20d54d2e1122",
   "outputs": [
    {
     "name": "stdout",
     "output_type": "stream",
     "text": [
      "None\n"
     ]
    }
   ],
   "execution_count": 7
  },
  {
   "metadata": {
    "ExecuteTime": {
     "end_time": "2025-05-02T09:08:52.270029Z",
     "start_time": "2025-05-02T09:08:52.265441Z"
    }
   },
   "cell_type": "code",
   "source": "print(len(portfolio.accession_numbers))",
   "id": "b2e91bc0c7252456",
   "outputs": [
    {
     "name": "stdout",
     "output_type": "stream",
     "text": [
      "5034\n"
     ]
    }
   ],
   "execution_count": 8
  },
  {
   "metadata": {
    "ExecuteTime": {
     "end_time": "2025-05-02T09:23:20.090185Z",
     "start_time": "2025-05-02T09:23:13.211872Z"
    }
   },
   "cell_type": "code",
   "source": [
    "def callback_function(document):\n",
    "    try:\n",
    "        if document.contains_string(\"APPLE INC\"):\n",
    "            return document.content\n",
    "    except Exception as e:\n",
    "        print(f\"Error processing document: {e}\")\n",
    "\n",
    "# Process submissions - note that filters are applied here\n",
    "ret = portfolio.process_documents(callback=callback_function)"
   ],
   "id": "7d9aeb030d21f048",
   "outputs": [
    {
     "name": "stdout",
     "output_type": "stream",
     "text": [
      "Error processing document: cannot use a string pattern on a bytes-like object\n",
      "Error processing document: cannot use a string pattern on a bytes-like object\n",
      "Error processing document: cannot use a string pattern on a bytes-like object\n",
      "Error processing document: cannot use a string pattern on a bytes-like object\n",
      "Error processing document: cannot use a string pattern on a bytes-like object\n",
      "Error processing document: cannot use a string pattern on a bytes-like object\n",
      "Error processing document: cannot use a string pattern on a bytes-like object\n",
      "Error processing document: cannot use a string pattern on a bytes-like object\n",
      "Error processing document: cannot use a string pattern on a bytes-like object\n",
      "Error processing document: cannot use a string pattern on a bytes-like object\n",
      "Error processing document: cannot use a string pattern on a bytes-like object\n",
      "Error processing document: cannot use a string pattern on a bytes-like object\n",
      "Error processing document: cannot use a string pattern on a bytes-like object\n",
      "Error processing document: cannot use a string pattern on a bytes-like object\n",
      "Error processing document: cannot use a string pattern on a bytes-like objectError processing document: cannot use a string pattern on a bytes-like object\n",
      "Error processing document: cannot use a string pattern on a bytes-like object\n",
      "\n",
      "Error processing document: cannot use a string pattern on a bytes-like object\n",
      "Error processing document: cannot use a string pattern on a bytes-like object\n",
      "Error processing document: cannot use a string pattern on a bytes-like object\n",
      "Error processing document: cannot use a string pattern on a bytes-like object\n",
      "Error processing document: cannot use a string pattern on a bytes-like object\n",
      "Error processing document: cannot use a string pattern on a bytes-like object\n",
      "Error processing document: cannot use a string pattern on a bytes-like object\n",
      "Error processing document: cannot use a string pattern on a bytes-like object\n",
      "Error processing document: cannot use a string pattern on a bytes-like object\n",
      "Error processing document: cannot use a string pattern on a bytes-like object\n",
      "Error processing document: cannot use a string pattern on a bytes-like object\n",
      "Error processing document: cannot use a string pattern on a bytes-like object\n",
      "Error processing document: cannot use a string pattern on a bytes-like objectError processing document: cannot use a string pattern on a bytes-like object\n",
      "\n"
     ]
    },
    {
     "name": "stderr",
     "output_type": "stream",
     "text": [
      "Processing documents: 100%|██████████| 15182/15182 [00:00<00:00, 244886.83it/s]\n"
     ]
    }
   ],
   "execution_count": 24
  },
  {
   "metadata": {
    "ExecuteTime": {
     "end_time": "2025-05-02T09:23:25.053271Z",
     "start_time": "2025-05-02T09:23:25.045229Z"
    }
   },
   "cell_type": "code",
   "source": "ret[9]",
   "id": "663372ff7e263ef1",
   "outputs": [
    {
     "data": {
      "text/plain": [
       "'<?xml version=\"1.0\" encoding=\"UTF-8\" standalone=\"yes\"?>\\n<ns1:informationTable xmlns:ns1=\"http://www.sec.gov/edgar/document/thirteenf/informationtable\">\\n\\t<ns1:infoTable>\\n\\t\\t<ns1:nameOfIssuer>ABB LTD SP ADR</ns1:nameOfIssuer>\\n\\t\\t<ns1:titleOfClass>ADR</ns1:titleOfClass>\\n\\t\\t<ns1:cusip>000375204</ns1:cusip>\\n\\t\\t<ns1:value>33477466</ns1:value>\\n\\t\\t<ns1:shrsOrPrnAmt>\\n\\t\\t\\t<ns1:sshPrnamt>755699</ns1:sshPrnamt>\\n\\t\\t\\t<ns1:sshPrnamtType>SH</ns1:sshPrnamtType>\\n\\t\\t</ns1:shrsOrPrnAmt>\\n\\t\\t<ns1:investmentDiscretion>SOLE</ns1:investmentDiscretion>\\n\\t\\t<ns1:votingAuthority>\\n\\t\\t\\t<ns1:Sole>740409</ns1:Sole>\\n\\t\\t\\t<ns1:Shared>0</ns1:Shared>\\n\\t\\t\\t<ns1:None>15290</ns1:None>\\n\\t\\t</ns1:votingAuthority>\\n\\t</ns1:infoTable>\\n\\t<ns1:infoTable>\\n\\t\\t<ns1:nameOfIssuer>ASML HOLDING NV</ns1:nameOfIssuer>\\n\\t\\t<ns1:titleOfClass>ADR</ns1:titleOfClass>\\n\\t\\t<ns1:cusip>N07059210</ns1:cusip>\\n\\t\\t<ns1:value>26320379</ns1:value>\\n\\t\\t<ns1:shrsOrPrnAmt>\\n\\t\\t\\t<ns1:sshPrnamt>34773</ns1:sshPrnamt>\\n\\t\\t\\t<ns1:sshPrnamtType>SH</ns1:sshPrnamtType>\\n\\t\\t</ns1:shrsOrPrnAmt>\\n\\t\\t<ns1:investmentDiscretion>SOLE</ns1:investmentDiscretion>\\n\\t\\t<ns1:votingAuthority>\\n\\t\\t\\t<ns1:Sole>34107</ns1:Sole>\\n\\t\\t\\t<ns1:Shared>0</ns1:Shared>\\n\\t\\t\\t<ns1:None>666</ns1:None>\\n\\t\\t</ns1:votingAuthority>\\n\\t</ns1:infoTable>\\n\\t<ns1:infoTable>\\n\\t\\t<ns1:nameOfIssuer>BP PLC SP ADR</ns1:nameOfIssuer>\\n\\t\\t<ns1:titleOfClass>ADR</ns1:titleOfClass>\\n\\t\\t<ns1:cusip>055622104</ns1:cusip>\\n\\t\\t<ns1:value>424694</ns1:value>\\n\\t\\t<ns1:shrsOrPrnAmt>\\n\\t\\t\\t<ns1:sshPrnamt>11997</ns1:sshPrnamt>\\n\\t\\t\\t<ns1:sshPrnamtType>SH</ns1:sshPrnamtType>\\n\\t\\t</ns1:shrsOrPrnAmt>\\n\\t\\t<ns1:investmentDiscretion>SOLE</ns1:investmentDiscretion>\\n\\t\\t<ns1:votingAuthority>\\n\\t\\t\\t<ns1:Sole>11997</ns1:Sole>\\n\\t\\t\\t<ns1:Shared>0</ns1:Shared>\\n\\t\\t\\t<ns1:None>0</ns1:None>\\n\\t\\t</ns1:votingAuthority>\\n\\t</ns1:infoTable>\\n\\t<ns1:infoTable>\\n\\t\\t<ns1:nameOfIssuer>DIAGEO PLC SP ADR</ns1:nameOfIssuer>\\n\\t\\t<ns1:titleOfClass>ADR</ns1:titleOfClass>\\n\\t\\t<ns1:cusip>25243Q205</ns1:cusip>\\n\\t\\t<ns1:value>200282</ns1:value>\\n\\t\\t<ns1:shrsOrPrnAmt>\\n\\t\\t\\t<ns1:sshPrnamt>1375</ns1:sshPrnamt>\\n\\t\\t\\t<ns1:sshPrnamtType>SH</ns1:sshPrnamtType>\\n\\t\\t</ns1:shrsOrPrnAmt>\\n\\t\\t<ns1:investmentDiscretion>SOLE</ns1:investmentDiscretion>\\n\\t\\t<ns1:votingAuthority>\\n\\t\\t\\t<ns1:Sole>1375</ns1:Sole>\\n\\t\\t\\t<ns1:Shared>0</ns1:Shared>\\n\\t\\t\\t<ns1:None>0</ns1:None>\\n\\t\\t</ns1:votingAuthority>\\n\\t</ns1:infoTable>\\n\\t<ns1:infoTable>\\n\\t\\t<ns1:nameOfIssuer>NOVARTIS AG SP ADR</ns1:nameOfIssuer>\\n\\t\\t<ns1:titleOfClass>ADR</ns1:titleOfClass>\\n\\t\\t<ns1:cusip>66987V109</ns1:cusip>\\n\\t\\t<ns1:value>2660761</ns1:value>\\n\\t\\t<ns1:shrsOrPrnAmt>\\n\\t\\t\\t<ns1:sshPrnamt>26352</ns1:sshPrnamt>\\n\\t\\t\\t<ns1:sshPrnamtType>SH</ns1:sshPrnamtType>\\n\\t\\t</ns1:shrsOrPrnAmt>\\n\\t\\t<ns1:investmentDiscretion>SOLE</ns1:investmentDiscretion>\\n\\t\\t<ns1:votingAuthority>\\n\\t\\t\\t<ns1:Sole>25177</ns1:Sole>\\n\\t\\t\\t<ns1:Shared>0</ns1:Shared>\\n\\t\\t\\t<ns1:None>1175</ns1:None>\\n\\t\\t</ns1:votingAuthority>\\n\\t</ns1:infoTable>\\n\\t<ns1:infoTable>\\n\\t\\t<ns1:nameOfIssuer>NOVO-NORDISK AS ADR</ns1:nameOfIssuer>\\n\\t\\t<ns1:titleOfClass>ADR</ns1:titleOfClass>\\n\\t\\t<ns1:cusip>670100205</ns1:cusip>\\n\\t\\t<ns1:value>368282</ns1:value>\\n\\t\\t<ns1:shrsOrPrnAmt>\\n\\t\\t\\t<ns1:sshPrnamt>3560</ns1:sshPrnamt>\\n\\t\\t\\t<ns1:sshPrnamtType>SH</ns1:sshPrnamtType>\\n\\t\\t</ns1:shrsOrPrnAmt>\\n\\t\\t<ns1:investmentDiscretion>SOLE</ns1:investmentDiscretion>\\n\\t\\t<ns1:votingAuthority>\\n\\t\\t\\t<ns1:Sole>300</ns1:Sole>\\n\\t\\t\\t<ns1:Shared>0</ns1:Shared>\\n\\t\\t\\t<ns1:None>3260</ns1:None>\\n\\t\\t</ns1:votingAuthority>\\n\\t</ns1:infoTable>\\n\\t<ns1:infoTable>\\n\\t\\t<ns1:nameOfIssuer>VANGUARD ALL WORLD EX-US ETF</ns1:nameOfIssuer>\\n\\t\\t<ns1:titleOfClass>ALLWRLD EX US</ns1:titleOfClass>\\n\\t\\t<ns1:cusip>922042775</ns1:cusip>\\n\\t\\t<ns1:value>3589704</ns1:value>\\n\\t\\t<ns1:shrsOrPrnAmt>\\n\\t\\t\\t<ns1:sshPrnamt>63942</ns1:sshPrnamt>\\n\\t\\t\\t<ns1:sshPrnamtType>SH</ns1:sshPrnamtType>\\n\\t\\t</ns1:shrsOrPrnAmt>\\n\\t\\t<ns1:investmentDiscretion>SOLE</ns1:investmentDiscretion>\\n\\t\\t<ns1:votingAuthority>\\n\\t\\t\\t<ns1:Sole>63942</ns1:Sole>\\n\\t\\t\\t<ns1:Shared>0</ns1:Shared>\\n\\t\\t\\t<ns1:None>0</ns1:None>\\n\\t\\t</ns1:votingAuthority>\\n\\t</ns1:infoTable>\\n\\t<ns1:infoTable>\\n\\t\\t<ns1:nameOfIssuer>BLOCK INC</ns1:nameOfIssuer>\\n\\t\\t<ns1:titleOfClass>CL A</ns1:titleOfClass>\\n\\t\\t<ns1:cusip>852234103</ns1:cusip>\\n\\t\\t<ns1:value>201110</ns1:value>\\n\\t\\t<ns1:shrsOrPrnAmt>\\n\\t\\t\\t<ns1:sshPrnamt>2600</ns1:sshPrnamt>\\n\\t\\t\\t<ns1:sshPrnamtType>SH</ns1:sshPrnamtType>\\n\\t\\t</ns1:shrsOrPrnAmt>\\n\\t\\t<ns1:investmentDiscretion>SOLE</ns1:investmentDiscretion>\\n\\t\\t<ns1:votingAuthority>\\n\\t\\t\\t<ns1:Sole>2600</ns1:Sole>\\n\\t\\t\\t<ns1:Shared>0</ns1:Shared>\\n\\t\\t\\t<ns1:None>0</ns1:None>\\n\\t\\t</ns1:votingAuthority>\\n\\t</ns1:infoTable>\\n\\t<ns1:infoTable>\\n\\t\\t<ns1:nameOfIssuer>META PLATFORMS INC CL A</ns1:nameOfIssuer>\\n\\t\\t<ns1:titleOfClass>CL A</ns1:titleOfClass>\\n\\t\\t<ns1:cusip>30303M102</ns1:cusip>\\n\\t\\t<ns1:value>34576937</ns1:value>\\n\\t\\t<ns1:shrsOrPrnAmt>\\n\\t\\t\\t<ns1:sshPrnamt>97686</ns1:sshPrnamt>\\n\\t\\t\\t<ns1:sshPrnamtType>SH</ns1:sshPrnamtType>\\n\\t\\t</ns1:shrsOrPrnAmt>\\n\\t\\t<ns1:investmentDiscretion>SOLE</ns1:investmentDiscretion>\\n\\t\\t<ns1:votingAuthority>\\n\\t\\t\\t<ns1:Sole>93034</ns1:Sole>\\n\\t\\t\\t<ns1:Shared>0</ns1:Shared>\\n\\t\\t\\t<ns1:None>4652</ns1:None>\\n\\t\\t</ns1:votingAuthority>\\n\\t</ns1:infoTable>\\n\\t<ns1:infoTable>\\n\\t\\t<ns1:nameOfIssuer>3M CO</ns1:nameOfIssuer>\\n\\t\\t<ns1:titleOfClass>COM</ns1:titleOfClass>\\n\\t\\t<ns1:cusip>88579Y101</ns1:cusip>\\n\\t\\t<ns1:value>1015801</ns1:value>\\n\\t\\t<ns1:shrsOrPrnAmt>\\n\\t\\t\\t<ns1:sshPrnamt>9292</ns1:sshPrnamt>\\n\\t\\t\\t<ns1:sshPrnamtType>SH</ns1:sshPrnamtType>\\n\\t\\t</ns1:shrsOrPrnAmt>\\n\\t\\t<ns1:investmentDiscretion>SOLE</ns1:investmentDiscretion>\\n\\t\\t<ns1:votingAuthority>\\n\\t\\t\\t<ns1:Sole>9167</ns1:Sole>\\n\\t\\t\\t<ns1:Shared>0</ns1:Shared>\\n\\t\\t\\t<ns1:None>125</ns1:None>\\n\\t\\t</ns1:votingAuthority>\\n\\t</ns1:infoTable>\\n\\t<ns1:infoTable>\\n\\t\\t<ns1:nameOfIssuer>ABBOTT LABORATORIES</ns1:nameOfIssuer>\\n\\t\\t<ns1:titleOfClass>COM</ns1:titleOfClass>\\n\\t\\t<ns1:cusip>002824100</ns1:cusip>\\n\\t\\t<ns1:value>10987297</ns1:value>\\n\\t\\t<ns1:shrsOrPrnAmt>\\n\\t\\t\\t<ns1:sshPrnamt>99821</ns1:sshPrnamt>\\n\\t\\t\\t<ns1:sshPrnamtType>SH</ns1:sshPrnamtType>\\n\\t\\t</ns1:shrsOrPrnAmt>\\n\\t\\t<ns1:investmentDiscretion>SOLE</ns1:investmentDiscretion>\\n\\t\\t<ns1:votingAuthority>\\n\\t\\t\\t<ns1:Sole>99016</ns1:Sole>\\n\\t\\t\\t<ns1:Shared>0</ns1:Shared>\\n\\t\\t\\t<ns1:None>805</ns1:None>\\n\\t\\t</ns1:votingAuthority>\\n\\t</ns1:infoTable>\\n\\t<ns1:infoTable>\\n\\t\\t<ns1:nameOfIssuer>ABBVIE INC</ns1:nameOfIssuer>\\n\\t\\t<ns1:titleOfClass>COM</ns1:titleOfClass>\\n\\t\\t<ns1:cusip>00287Y109</ns1:cusip>\\n\\t\\t<ns1:value>1812684</ns1:value>\\n\\t\\t<ns1:shrsOrPrnAmt>\\n\\t\\t\\t<ns1:sshPrnamt>11697</ns1:sshPrnamt>\\n\\t\\t\\t<ns1:sshPrnamtType>SH</ns1:sshPrnamtType>\\n\\t\\t</ns1:shrsOrPrnAmt>\\n\\t\\t<ns1:investmentDiscretion>SOLE</ns1:investmentDiscretion>\\n\\t\\t<ns1:votingAuthority>\\n\\t\\t\\t<ns1:Sole>10927</ns1:Sole>\\n\\t\\t\\t<ns1:Shared>0</ns1:Shared>\\n\\t\\t\\t<ns1:None>770</ns1:None>\\n\\t\\t</ns1:votingAuthority>\\n\\t</ns1:infoTable>\\n\\t<ns1:infoTable>\\n\\t\\t<ns1:nameOfIssuer>ADOBE SYSTEMS INC</ns1:nameOfIssuer>\\n\\t\\t<ns1:titleOfClass>COM</ns1:titleOfClass>\\n\\t\\t<ns1:cusip>00724F101</ns1:cusip>\\n\\t\\t<ns1:value>10342061</ns1:value>\\n\\t\\t<ns1:shrsOrPrnAmt>\\n\\t\\t\\t<ns1:sshPrnamt>17335</ns1:sshPrnamt>\\n\\t\\t\\t<ns1:sshPrnamtType>SH</ns1:sshPrnamtType>\\n\\t\\t</ns1:shrsOrPrnAmt>\\n\\t\\t<ns1:investmentDiscretion>SOLE</ns1:investmentDiscretion>\\n\\t\\t<ns1:votingAuthority>\\n\\t\\t\\t<ns1:Sole>16940</ns1:Sole>\\n\\t\\t\\t<ns1:Shared>0</ns1:Shared>\\n\\t\\t\\t<ns1:None>395</ns1:None>\\n\\t\\t</ns1:votingAuthority>\\n\\t</ns1:infoTable>\\n\\t<ns1:infoTable>\\n\\t\\t<ns1:nameOfIssuer>ADVANCED MICRO DEVICES INC</ns1:nameOfIssuer>\\n\\t\\t<ns1:titleOfClass>COM</ns1:titleOfClass>\\n\\t\\t<ns1:cusip>007903107</ns1:cusip>\\n\\t\\t<ns1:value>716560</ns1:value>\\n\\t\\t<ns1:shrsOrPrnAmt>\\n\\t\\t\\t<ns1:sshPrnamt>4861</ns1:sshPrnamt>\\n\\t\\t\\t<ns1:sshPrnamtType>SH</ns1:sshPrnamtType>\\n\\t\\t</ns1:shrsOrPrnAmt>\\n\\t\\t<ns1:investmentDiscretion>SOLE</ns1:investmentDiscretion>\\n\\t\\t<ns1:votingAuthority>\\n\\t\\t\\t<ns1:Sole>516</ns1:Sole>\\n\\t\\t\\t<ns1:Shared>0</ns1:Shared>\\n\\t\\t\\t<ns1:None>4345</ns1:None>\\n\\t\\t</ns1:votingAuthority>\\n\\t</ns1:infoTable>\\n\\t<ns1:infoTable>\\n\\t\\t<ns1:nameOfIssuer>AIR PRODS &amp; CHEMS INC</ns1:nameOfIssuer>\\n\\t\\t<ns1:titleOfClass>COM</ns1:titleOfClass>\\n\\t\\t<ns1:cusip>009158106</ns1:cusip>\\n\\t\\t<ns1:value>3673848</ns1:value>\\n\\t\\t<ns1:shrsOrPrnAmt>\\n\\t\\t\\t<ns1:sshPrnamt>13418</ns1:sshPrnamt>\\n\\t\\t\\t<ns1:sshPrnamtType>SH</ns1:sshPrnamtType>\\n\\t\\t</ns1:shrsOrPrnAmt>\\n\\t\\t<ns1:investmentDiscretion>SOLE</ns1:investmentDiscretion>\\n\\t\\t<ns1:votingAuthority>\\n\\t\\t\\t<ns1:Sole>13418</ns1:Sole>\\n\\t\\t\\t<ns1:Shared>0</ns1:Shared>\\n\\t\\t\\t<ns1:None>0</ns1:None>\\n\\t\\t</ns1:votingAuthority>\\n\\t</ns1:infoTable>\\n\\t<ns1:infoTable>\\n\\t\\t<ns1:nameOfIssuer>AKAMAI TECHNOLOGIES INC</ns1:nameOfIssuer>\\n\\t\\t<ns1:titleOfClass>COM</ns1:titleOfClass>\\n\\t\\t<ns1:cusip>00971T101</ns1:cusip>\\n\\t\\t<ns1:value>9348940</ns1:value>\\n\\t\\t<ns1:shrsOrPrnAmt>\\n\\t\\t\\t<ns1:sshPrnamt>78994</ns1:sshPrnamt>\\n\\t\\t\\t<ns1:sshPrnamtType>SH</ns1:sshPrnamtType>\\n\\t\\t</ns1:shrsOrPrnAmt>\\n\\t\\t<ns1:investmentDiscretion>SOLE</ns1:investmentDiscretion>\\n\\t\\t<ns1:votingAuthority>\\n\\t\\t\\t<ns1:Sole>77829</ns1:Sole>\\n\\t\\t\\t<ns1:Shared>0</ns1:Shared>\\n\\t\\t\\t<ns1:None>1165</ns1:None>\\n\\t\\t</ns1:votingAuthority>\\n\\t</ns1:infoTable>\\n\\t<ns1:infoTable>\\n\\t\\t<ns1:nameOfIssuer>ALPHABET INC CL A</ns1:nameOfIssuer>\\n\\t\\t<ns1:titleOfClass>COM</ns1:titleOfClass>\\n\\t\\t<ns1:cusip>02079K305</ns1:cusip>\\n\\t\\t<ns1:value>80598755</ns1:value>\\n\\t\\t<ns1:shrsOrPrnAmt>\\n\\t\\t\\t<ns1:sshPrnamt>576983</ns1:sshPrnamt>\\n\\t\\t\\t<ns1:sshPrnamtType>SH</ns1:sshPrnamtType>\\n\\t\\t</ns1:shrsOrPrnAmt>\\n\\t\\t<ns1:investmentDiscretion>SOLE</ns1:investmentDiscretion>\\n\\t\\t<ns1:votingAuthority>\\n\\t\\t\\t<ns1:Sole>567383</ns1:Sole>\\n\\t\\t\\t<ns1:Shared>0</ns1:Shared>\\n\\t\\t\\t<ns1:None>9600</ns1:None>\\n\\t\\t</ns1:votingAuthority>\\n\\t</ns1:infoTable>\\n\\t<ns1:infoTable>\\n\\t\\t<ns1:nameOfIssuer>ALPHABET INC CL C</ns1:nameOfIssuer>\\n\\t\\t<ns1:titleOfClass>COM</ns1:titleOfClass>\\n\\t\\t<ns1:cusip>02079K107</ns1:cusip>\\n\\t\\t<ns1:value>16999540</ns1:value>\\n\\t\\t<ns1:shrsOrPrnAmt>\\n\\t\\t\\t<ns1:sshPrnamt>120624</ns1:sshPrnamt>\\n\\t\\t\\t<ns1:sshPrnamtType>SH</ns1:sshPrnamtType>\\n\\t\\t</ns1:shrsOrPrnAmt>\\n\\t\\t<ns1:investmentDiscretion>SOLE</ns1:investmentDiscretion>\\n\\t\\t<ns1:votingAuthority>\\n\\t\\t\\t<ns1:Sole>116496</ns1:Sole>\\n\\t\\t\\t<ns1:Shared>0</ns1:Shared>\\n\\t\\t\\t<ns1:None>4128</ns1:None>\\n\\t\\t</ns1:votingAuthority>\\n\\t</ns1:infoTable>\\n\\t<ns1:infoTable>\\n\\t\\t<ns1:nameOfIssuer>AMAZON.COM INC</ns1:nameOfIssuer>\\n\\t\\t<ns1:titleOfClass>COM</ns1:titleOfClass>\\n\\t\\t<ns1:cusip>023135106</ns1:cusip>\\n\\t\\t<ns1:value>86550646</ns1:value>\\n\\t\\t<ns1:shrsOrPrnAmt>\\n\\t\\t\\t<ns1:sshPrnamt>569637</ns1:sshPrnamt>\\n\\t\\t\\t<ns1:sshPrnamtType>SH</ns1:sshPrnamtType>\\n\\t\\t</ns1:shrsOrPrnAmt>\\n\\t\\t<ns1:investmentDiscretion>SOLE</ns1:investmentDiscretion>\\n\\t\\t<ns1:votingAuthority>\\n\\t\\t\\t<ns1:Sole>558477</ns1:Sole>\\n\\t\\t\\t<ns1:Shared>0</ns1:Shared>\\n\\t\\t\\t<ns1:None>11160</ns1:None>\\n\\t\\t</ns1:votingAuthority>\\n\\t</ns1:infoTable>\\n\\t<ns1:infoTable>\\n\\t\\t<ns1:nameOfIssuer>AMCOR PLC</ns1:nameOfIssuer>\\n\\t\\t<ns1:titleOfClass>COM</ns1:titleOfClass>\\n\\t\\t<ns1:cusip>G0250X107</ns1:cusip>\\n\\t\\t<ns1:value>2967674</ns1:value>\\n\\t\\t<ns1:shrsOrPrnAmt>\\n\\t\\t\\t<ns1:sshPrnamt>307850</ns1:sshPrnamt>\\n\\t\\t\\t<ns1:sshPrnamtType>SH</ns1:sshPrnamtType>\\n\\t\\t</ns1:shrsOrPrnAmt>\\n\\t\\t<ns1:investmentDiscretion>SOLE</ns1:investmentDiscretion>\\n\\t\\t<ns1:votingAuthority>\\n\\t\\t\\t<ns1:Sole>307850</ns1:Sole>\\n\\t\\t\\t<ns1:Shared>0</ns1:Shared>\\n\\t\\t\\t<ns1:None>0</ns1:None>\\n\\t\\t</ns1:votingAuthority>\\n\\t</ns1:infoTable>\\n\\t<ns1:infoTable>\\n\\t\\t<ns1:nameOfIssuer>AMERICAN ELECTRIC POWER INC</ns1:nameOfIssuer>\\n\\t\\t<ns1:titleOfClass>COM</ns1:titleOfClass>\\n\\t\\t<ns1:cusip>025537101</ns1:cusip>\\n\\t\\t<ns1:value>314506</ns1:value>\\n\\t\\t<ns1:shrsOrPrnAmt>\\n\\t\\t\\t<ns1:sshPrnamt>3872</ns1:sshPrnamt>\\n\\t\\t\\t<ns1:sshPrnamtType>SH</ns1:sshPrnamtType>\\n\\t\\t</ns1:shrsOrPrnAmt>\\n\\t\\t<ns1:investmentDiscretion>SOLE</ns1:investmentDiscretion>\\n\\t\\t<ns1:votingAuthority>\\n\\t\\t\\t<ns1:Sole>3872</ns1:Sole>\\n\\t\\t\\t<ns1:Shared>0</ns1:Shared>\\n\\t\\t\\t<ns1:None>0</ns1:None>\\n\\t\\t</ns1:votingAuthority>\\n\\t</ns1:infoTable>\\n\\t<ns1:infoTable>\\n\\t\\t<ns1:nameOfIssuer>AMERICAN TOWER CORP</ns1:nameOfIssuer>\\n\\t\\t<ns1:titleOfClass>COM</ns1:titleOfClass>\\n\\t\\t<ns1:cusip>03027X100</ns1:cusip>\\n\\t\\t<ns1:value>41731331</ns1:value>\\n\\t\\t<ns1:shrsOrPrnAmt>\\n\\t\\t\\t<ns1:sshPrnamt>193308</ns1:sshPrnamt>\\n\\t\\t\\t<ns1:sshPrnamtType>SH</ns1:sshPrnamtType>\\n\\t\\t</ns1:shrsOrPrnAmt>\\n\\t\\t<ns1:investmentDiscretion>SOLE</ns1:investmentDiscretion>\\n\\t\\t<ns1:votingAuthority>\\n\\t\\t\\t<ns1:Sole>191676</ns1:Sole>\\n\\t\\t\\t<ns1:Shared>0</ns1:Shared>\\n\\t\\t\\t<ns1:None>1632</ns1:None>\\n\\t\\t</ns1:votingAuthority>\\n\\t</ns1:infoTable>\\n\\t<ns1:infoTable>\\n\\t\\t<ns1:nameOfIssuer>AMGEN INC</ns1:nameOfIssuer>\\n\\t\\t<ns1:titleOfClass>COM</ns1:titleOfClass>\\n\\t\\t<ns1:cusip>031162100</ns1:cusip>\\n\\t\\t<ns1:value>1578926</ns1:value>\\n\\t\\t<ns1:shrsOrPrnAmt>\\n\\t\\t\\t<ns1:sshPrnamt>5482</ns1:sshPrnamt>\\n\\t\\t\\t<ns1:sshPrnamtType>SH</ns1:sshPrnamtType>\\n\\t\\t</ns1:shrsOrPrnAmt>\\n\\t\\t<ns1:investmentDiscretion>SOLE</ns1:investmentDiscretion>\\n\\t\\t<ns1:votingAuthority>\\n\\t\\t\\t<ns1:Sole>4402</ns1:Sole>\\n\\t\\t\\t<ns1:Shared>0</ns1:Shared>\\n\\t\\t\\t<ns1:None>1080</ns1:None>\\n\\t\\t</ns1:votingAuthority>\\n\\t</ns1:infoTable>\\n\\t<ns1:infoTable>\\n\\t\\t<ns1:nameOfIssuer>ANALOG DEVICES INC</ns1:nameOfIssuer>\\n\\t\\t<ns1:titleOfClass>COM</ns1:titleOfClass>\\n\\t\\t<ns1:cusip>032654105</ns1:cusip>\\n\\t\\t<ns1:value>223579</ns1:value>\\n\\t\\t<ns1:shrsOrPrnAmt>\\n\\t\\t\\t<ns1:sshPrnamt>1126</ns1:sshPrnamt>\\n\\t\\t\\t<ns1:sshPrnamtType>SH</ns1:sshPrnamtType>\\n\\t\\t</ns1:shrsOrPrnAmt>\\n\\t\\t<ns1:investmentDiscretion>SOLE</ns1:investmentDiscretion>\\n\\t\\t<ns1:votingAuthority>\\n\\t\\t\\t<ns1:Sole>1126</ns1:Sole>\\n\\t\\t\\t<ns1:Shared>0</ns1:Shared>\\n\\t\\t\\t<ns1:None>0</ns1:None>\\n\\t\\t</ns1:votingAuthority>\\n\\t</ns1:infoTable>\\n\\t<ns1:infoTable>\\n\\t\\t<ns1:nameOfIssuer>APPLE INC</ns1:nameOfIssuer>\\n\\t\\t<ns1:titleOfClass>COM</ns1:titleOfClass>\\n\\t\\t<ns1:cusip>037833100</ns1:cusip>\\n\\t\\t<ns1:value>133867817</ns1:value>\\n\\t\\t<ns1:shrsOrPrnAmt>\\n\\t\\t\\t<ns1:sshPrnamt>695309</ns1:sshPrnamt>\\n\\t\\t\\t<ns1:sshPrnamtType>SH</ns1:sshPrnamtType>\\n\\t\\t</ns1:shrsOrPrnAmt>\\n\\t\\t<ns1:investmentDiscretion>SOLE</ns1:investmentDiscretion>\\n\\t\\t<ns1:votingAuthority>\\n\\t\\t\\t<ns1:Sole>678133</ns1:Sole>\\n\\t\\t\\t<ns1:Shared>0</ns1:Shared>\\n\\t\\t\\t<ns1:None>17176</ns1:None>\\n\\t\\t</ns1:votingAuthority>\\n\\t</ns1:infoTable>\\n\\t<ns1:infoTable>\\n\\t\\t<ns1:nameOfIssuer>ARCHER DANIELS MIDLAND CO</ns1:nameOfIssuer>\\n\\t\\t<ns1:titleOfClass>COM</ns1:titleOfClass>\\n\\t\\t<ns1:cusip>039483102</ns1:cusip>\\n\\t\\t<ns1:value>376988</ns1:value>\\n\\t\\t<ns1:shrsOrPrnAmt>\\n\\t\\t\\t<ns1:sshPrnamt>5220</ns1:sshPrnamt>\\n\\t\\t\\t<ns1:sshPrnamtType>SH</ns1:sshPrnamtType>\\n\\t\\t</ns1:shrsOrPrnAmt>\\n\\t\\t<ns1:investmentDiscretion>SOLE</ns1:investmentDiscretion>\\n\\t\\t<ns1:votingAuthority>\\n\\t\\t\\t<ns1:Sole>5220</ns1:Sole>\\n\\t\\t\\t<ns1:Shared>0</ns1:Shared>\\n\\t\\t\\t<ns1:None>0</ns1:None>\\n\\t\\t</ns1:votingAuthority>\\n\\t</ns1:infoTable>\\n\\t<ns1:infoTable>\\n\\t\\t<ns1:nameOfIssuer>AT&amp;T INC</ns1:nameOfIssuer>\\n\\t\\t<ns1:titleOfClass>COM</ns1:titleOfClass>\\n\\t\\t<ns1:cusip>00206R102</ns1:cusip>\\n\\t\\t<ns1:value>852296</ns1:value>\\n\\t\\t<ns1:shrsOrPrnAmt>\\n\\t\\t\\t<ns1:sshPrnamt>50792</ns1:sshPrnamt>\\n\\t\\t\\t<ns1:sshPrnamtType>SH</ns1:sshPrnamtType>\\n\\t\\t</ns1:shrsOrPrnAmt>\\n\\t\\t<ns1:investmentDiscretion>SOLE</ns1:investmentDiscretion>\\n\\t\\t<ns1:votingAuthority>\\n\\t\\t\\t<ns1:Sole>45132</ns1:Sole>\\n\\t\\t\\t<ns1:Shared>0</ns1:Shared>\\n\\t\\t\\t<ns1:None>5660</ns1:None>\\n\\t\\t</ns1:votingAuthority>\\n\\t</ns1:infoTable>\\n\\t<ns1:infoTable>\\n\\t\\t<ns1:nameOfIssuer>AUTOMATIC DATA PROCESSING INC</ns1:nameOfIssuer>\\n\\t\\t<ns1:titleOfClass>COM</ns1:titleOfClass>\\n\\t\\t<ns1:cusip>053015103</ns1:cusip>\\n\\t\\t<ns1:value>1801790</ns1:value>\\n\\t\\t<ns1:shrsOrPrnAmt>\\n\\t\\t\\t<ns1:sshPrnamt>7734</ns1:sshPrnamt>\\n\\t\\t\\t<ns1:sshPrnamtType>SH</ns1:sshPrnamtType>\\n\\t\\t</ns1:shrsOrPrnAmt>\\n\\t\\t<ns1:investmentDiscretion>SOLE</ns1:investmentDiscretion>\\n\\t\\t<ns1:votingAuthority>\\n\\t\\t\\t<ns1:Sole>7634</ns1:Sole>\\n\\t\\t\\t<ns1:Shared>0</ns1:Shared>\\n\\t\\t\\t<ns1:None>100</ns1:None>\\n\\t\\t</ns1:votingAuthority>\\n\\t</ns1:infoTable>\\n\\t<ns1:infoTable>\\n\\t\\t<ns1:nameOfIssuer>BANK OF AMERICA CORP</ns1:nameOfIssuer>\\n\\t\\t<ns1:titleOfClass>COM</ns1:titleOfClass>\\n\\t\\t<ns1:cusip>060505104</ns1:cusip>\\n\\t\\t<ns1:value>5489523</ns1:value>\\n\\t\\t<ns1:shrsOrPrnAmt>\\n\\t\\t\\t<ns1:sshPrnamt>163039</ns1:sshPrnamt>\\n\\t\\t\\t<ns1:sshPrnamtType>SH</ns1:sshPrnamtType>\\n\\t\\t</ns1:shrsOrPrnAmt>\\n\\t\\t<ns1:investmentDiscretion>SOLE</ns1:investmentDiscretion>\\n\\t\\t<ns1:votingAuthority>\\n\\t\\t\\t<ns1:Sole>156619</ns1:Sole>\\n\\t\\t\\t<ns1:Shared>0</ns1:Shared>\\n\\t\\t\\t<ns1:None>6420</ns1:None>\\n\\t\\t</ns1:votingAuthority>\\n\\t</ns1:infoTable>\\n\\t<ns1:infoTable>\\n\\t\\t<ns1:nameOfIssuer>BERKSHIRE HATHAWAY INC CL B</ns1:nameOfIssuer>\\n\\t\\t<ns1:titleOfClass>COM</ns1:titleOfClass>\\n\\t\\t<ns1:cusip>084670702</ns1:cusip>\\n\\t\\t<ns1:value>51155992</ns1:value>\\n\\t\\t<ns1:shrsOrPrnAmt>\\n\\t\\t\\t<ns1:sshPrnamt>143431</ns1:sshPrnamt>\\n\\t\\t\\t<ns1:sshPrnamtType>SH</ns1:sshPrnamtType>\\n\\t\\t</ns1:shrsOrPrnAmt>\\n\\t\\t<ns1:investmentDiscretion>SOLE</ns1:investmentDiscretion>\\n\\t\\t<ns1:votingAuthority>\\n\\t\\t\\t<ns1:Sole>141858</ns1:Sole>\\n\\t\\t\\t<ns1:Shared>0</ns1:Shared>\\n\\t\\t\\t<ns1:None>1573</ns1:None>\\n\\t\\t</ns1:votingAuthority>\\n\\t</ns1:infoTable>\\n\\t<ns1:infoTable>\\n\\t\\t<ns1:nameOfIssuer>BLACKROCK INC</ns1:nameOfIssuer>\\n\\t\\t<ns1:titleOfClass>COM</ns1:titleOfClass>\\n\\t\\t<ns1:cusip>09247X101</ns1:cusip>\\n\\t\\t<ns1:value>15709954</ns1:value>\\n\\t\\t<ns1:shrsOrPrnAmt>\\n\\t\\t\\t<ns1:sshPrnamt>19352</ns1:sshPrnamt>\\n\\t\\t\\t<ns1:sshPrnamtType>SH</ns1:sshPrnamtType>\\n\\t\\t</ns1:shrsOrPrnAmt>\\n\\t\\t<ns1:investmentDiscretion>SOLE</ns1:investmentDiscretion>\\n\\t\\t<ns1:votingAuthority>\\n\\t\\t\\t<ns1:Sole>19017</ns1:Sole>\\n\\t\\t\\t<ns1:Shared>0</ns1:Shared>\\n\\t\\t\\t<ns1:None>335</ns1:None>\\n\\t\\t</ns1:votingAuthority>\\n\\t</ns1:infoTable>\\n\\t<ns1:infoTable>\\n\\t\\t<ns1:nameOfIssuer>BLACKSTONE INC COM</ns1:nameOfIssuer>\\n\\t\\t<ns1:titleOfClass>COM</ns1:titleOfClass>\\n\\t\\t<ns1:cusip>09260D107</ns1:cusip>\\n\\t\\t<ns1:value>28621231</ns1:value>\\n\\t\\t<ns1:shrsOrPrnAmt>\\n\\t\\t\\t<ns1:sshPrnamt>218616</ns1:sshPrnamt>\\n\\t\\t\\t<ns1:sshPrnamtType>SH</ns1:sshPrnamtType>\\n\\t\\t</ns1:shrsOrPrnAmt>\\n\\t\\t<ns1:investmentDiscretion>SOLE</ns1:investmentDiscretion>\\n\\t\\t<ns1:votingAuthority>\\n\\t\\t\\t<ns1:Sole>212985</ns1:Sole>\\n\\t\\t\\t<ns1:Shared>0</ns1:Shared>\\n\\t\\t\\t<ns1:None>5631</ns1:None>\\n\\t\\t</ns1:votingAuthority>\\n\\t</ns1:infoTable>\\n\\t<ns1:infoTable>\\n\\t\\t<ns1:nameOfIssuer>BOEING CO</ns1:nameOfIssuer>\\n\\t\\t<ns1:titleOfClass>COM</ns1:titleOfClass>\\n\\t\\t<ns1:cusip>097023105</ns1:cusip>\\n\\t\\t<ns1:value>474401</ns1:value>\\n\\t\\t<ns1:shrsOrPrnAmt>\\n\\t\\t\\t<ns1:sshPrnamt>1820</ns1:sshPrnamt>\\n\\t\\t\\t<ns1:sshPrnamtType>SH</ns1:sshPrnamtType>\\n\\t\\t</ns1:shrsOrPrnAmt>\\n\\t\\t<ns1:investmentDiscretion>SOLE</ns1:investmentDiscretion>\\n\\t\\t<ns1:votingAuthority>\\n\\t\\t\\t<ns1:Sole>1820</ns1:Sole>\\n\\t\\t\\t<ns1:Shared>0</ns1:Shared>\\n\\t\\t\\t<ns1:None>0</ns1:None>\\n\\t\\t</ns1:votingAuthority>\\n\\t</ns1:infoTable>\\n\\t<ns1:infoTable>\\n\\t\\t<ns1:nameOfIssuer>BRISTOL-MYERS SQUIBB CO</ns1:nameOfIssuer>\\n\\t\\t<ns1:titleOfClass>COM</ns1:titleOfClass>\\n\\t\\t<ns1:cusip>110122108</ns1:cusip>\\n\\t\\t<ns1:value>592169</ns1:value>\\n\\t\\t<ns1:shrsOrPrnAmt>\\n\\t\\t\\t<ns1:sshPrnamt>11541</ns1:sshPrnamt>\\n\\t\\t\\t<ns1:sshPrnamtType>SH</ns1:sshPrnamtType>\\n\\t\\t</ns1:shrsOrPrnAmt>\\n\\t\\t<ns1:investmentDiscretion>SOLE</ns1:investmentDiscretion>\\n\\t\\t<ns1:votingAuthority>\\n\\t\\t\\t<ns1:Sole>11011</ns1:Sole>\\n\\t\\t\\t<ns1:Shared>0</ns1:Shared>\\n\\t\\t\\t<ns1:None>530</ns1:None>\\n\\t\\t</ns1:votingAuthority>\\n\\t</ns1:infoTable>\\n\\t<ns1:infoTable>\\n\\t\\t<ns1:nameOfIssuer>BROWN FORMAN CORP CL B</ns1:nameOfIssuer>\\n\\t\\t<ns1:titleOfClass>COM</ns1:titleOfClass>\\n\\t\\t<ns1:cusip>115637209</ns1:cusip>\\n\\t\\t<ns1:value>2777116</ns1:value>\\n\\t\\t<ns1:shrsOrPrnAmt>\\n\\t\\t\\t<ns1:sshPrnamt>48636</ns1:sshPrnamt>\\n\\t\\t\\t<ns1:sshPrnamtType>SH</ns1:sshPrnamtType>\\n\\t\\t</ns1:shrsOrPrnAmt>\\n\\t\\t<ns1:investmentDiscretion>SOLE</ns1:investmentDiscretion>\\n\\t\\t<ns1:votingAuthority>\\n\\t\\t\\t<ns1:Sole>48636</ns1:Sole>\\n\\t\\t\\t<ns1:Shared>0</ns1:Shared>\\n\\t\\t\\t<ns1:None>0</ns1:None>\\n\\t\\t</ns1:votingAuthority>\\n\\t</ns1:infoTable>\\n\\t<ns1:infoTable>\\n\\t\\t<ns1:nameOfIssuer>CAMBRIDGE BANCORP</ns1:nameOfIssuer>\\n\\t\\t<ns1:titleOfClass>COM</ns1:titleOfClass>\\n\\t\\t<ns1:cusip>132152109</ns1:cusip>\\n\\t\\t<ns1:value>1445741</ns1:value>\\n\\t\\t<ns1:shrsOrPrnAmt>\\n\\t\\t\\t<ns1:sshPrnamt>20832</ns1:sshPrnamt>\\n\\t\\t\\t<ns1:sshPrnamtType>SH</ns1:sshPrnamtType>\\n\\t\\t</ns1:shrsOrPrnAmt>\\n\\t\\t<ns1:investmentDiscretion>SOLE</ns1:investmentDiscretion>\\n\\t\\t<ns1:votingAuthority>\\n\\t\\t\\t<ns1:Sole>20832</ns1:Sole>\\n\\t\\t\\t<ns1:Shared>0</ns1:Shared>\\n\\t\\t\\t<ns1:None>0</ns1:None>\\n\\t\\t</ns1:votingAuthority>\\n\\t</ns1:infoTable>\\n\\t<ns1:infoTable>\\n\\t\\t<ns1:nameOfIssuer>CARLYLE GROUP INC</ns1:nameOfIssuer>\\n\\t\\t<ns1:titleOfClass>COM</ns1:titleOfClass>\\n\\t\\t<ns1:cusip>14316J108</ns1:cusip>\\n\\t\\t<ns1:value>264485</ns1:value>\\n\\t\\t<ns1:shrsOrPrnAmt>\\n\\t\\t\\t<ns1:sshPrnamt>6500</ns1:sshPrnamt>\\n\\t\\t\\t<ns1:sshPrnamtType>SH</ns1:sshPrnamtType>\\n\\t\\t</ns1:shrsOrPrnAmt>\\n\\t\\t<ns1:investmentDiscretion>SOLE</ns1:investmentDiscretion>\\n\\t\\t<ns1:votingAuthority>\\n\\t\\t\\t<ns1:Sole>6500</ns1:Sole>\\n\\t\\t\\t<ns1:Shared>0</ns1:Shared>\\n\\t\\t\\t<ns1:None>0</ns1:None>\\n\\t\\t</ns1:votingAuthority>\\n\\t</ns1:infoTable>\\n\\t<ns1:infoTable>\\n\\t\\t<ns1:nameOfIssuer>CARRIER GLOBAL CORPORATION</ns1:nameOfIssuer>\\n\\t\\t<ns1:titleOfClass>COM</ns1:titleOfClass>\\n\\t\\t<ns1:cusip>14448C104</ns1:cusip>\\n\\t\\t<ns1:value>286675</ns1:value>\\n\\t\\t<ns1:shrsOrPrnAmt>\\n\\t\\t\\t<ns1:sshPrnamt>4990</ns1:sshPrnamt>\\n\\t\\t\\t<ns1:sshPrnamtType>SH</ns1:sshPrnamtType>\\n\\t\\t</ns1:shrsOrPrnAmt>\\n\\t\\t<ns1:investmentDiscretion>SOLE</ns1:investmentDiscretion>\\n\\t\\t<ns1:votingAuthority>\\n\\t\\t\\t<ns1:Sole>4990</ns1:Sole>\\n\\t\\t\\t<ns1:Shared>0</ns1:Shared>\\n\\t\\t\\t<ns1:None>0</ns1:None>\\n\\t\\t</ns1:votingAuthority>\\n\\t</ns1:infoTable>\\n\\t<ns1:infoTable>\\n\\t\\t<ns1:nameOfIssuer>CATERPILLAR INC</ns1:nameOfIssuer>\\n\\t\\t<ns1:titleOfClass>COM</ns1:titleOfClass>\\n\\t\\t<ns1:cusip>149123101</ns1:cusip>\\n\\t\\t<ns1:value>5805776</ns1:value>\\n\\t\\t<ns1:shrsOrPrnAmt>\\n\\t\\t\\t<ns1:sshPrnamt>19636</ns1:sshPrnamt>\\n\\t\\t\\t<ns1:sshPrnamtType>SH</ns1:sshPrnamtType>\\n\\t\\t</ns1:shrsOrPrnAmt>\\n\\t\\t<ns1:investmentDiscretion>SOLE</ns1:investmentDiscretion>\\n\\t\\t<ns1:votingAuthority>\\n\\t\\t\\t<ns1:Sole>19381</ns1:Sole>\\n\\t\\t\\t<ns1:Shared>0</ns1:Shared>\\n\\t\\t\\t<ns1:None>255</ns1:None>\\n\\t\\t</ns1:votingAuthority>\\n\\t</ns1:infoTable>\\n\\t<ns1:infoTable>\\n\\t\\t<ns1:nameOfIssuer>CHEVRON CORP</ns1:nameOfIssuer>\\n\\t\\t<ns1:titleOfClass>COM</ns1:titleOfClass>\\n\\t\\t<ns1:cusip>166764100</ns1:cusip>\\n\\t\\t<ns1:value>18180204</ns1:value>\\n\\t\\t<ns1:shrsOrPrnAmt>\\n\\t\\t\\t<ns1:sshPrnamt>121884</ns1:sshPrnamt>\\n\\t\\t\\t<ns1:sshPrnamtType>SH</ns1:sshPrnamtType>\\n\\t\\t</ns1:shrsOrPrnAmt>\\n\\t\\t<ns1:investmentDiscretion>SOLE</ns1:investmentDiscretion>\\n\\t\\t<ns1:votingAuthority>\\n\\t\\t\\t<ns1:Sole>118078</ns1:Sole>\\n\\t\\t\\t<ns1:Shared>0</ns1:Shared>\\n\\t\\t\\t<ns1:None>3806</ns1:None>\\n\\t\\t</ns1:votingAuthority>\\n\\t</ns1:infoTable>\\n\\t<ns1:infoTable>\\n\\t\\t<ns1:nameOfIssuer>CHUBB LIMITED</ns1:nameOfIssuer>\\n\\t\\t<ns1:titleOfClass>COM</ns1:titleOfClass>\\n\\t\\t<ns1:cusip>H1467J104</ns1:cusip>\\n\\t\\t<ns1:value>795972</ns1:value>\\n\\t\\t<ns1:shrsOrPrnAmt>\\n\\t\\t\\t<ns1:sshPrnamt>3522</ns1:sshPrnamt>\\n\\t\\t\\t<ns1:sshPrnamtType>SH</ns1:sshPrnamtType>\\n\\t\\t</ns1:shrsOrPrnAmt>\\n\\t\\t<ns1:investmentDiscretion>SOLE</ns1:investmentDiscretion>\\n\\t\\t<ns1:votingAuthority>\\n\\t\\t\\t<ns1:Sole>3522</ns1:Sole>\\n\\t\\t\\t<ns1:Shared>0</ns1:Shared>\\n\\t\\t\\t<ns1:None>0</ns1:None>\\n\\t\\t</ns1:votingAuthority>\\n\\t</ns1:infoTable>\\n\\t<ns1:infoTable>\\n\\t\\t<ns1:nameOfIssuer>CHURCH &amp; DWIGHT INC</ns1:nameOfIssuer>\\n\\t\\t<ns1:titleOfClass>COM</ns1:titleOfClass>\\n\\t\\t<ns1:cusip>171340102</ns1:cusip>\\n\\t\\t<ns1:value>7552696</ns1:value>\\n\\t\\t<ns1:shrsOrPrnAmt>\\n\\t\\t\\t<ns1:sshPrnamt>79872</ns1:sshPrnamt>\\n\\t\\t\\t<ns1:sshPrnamtType>SH</ns1:sshPrnamtType>\\n\\t\\t</ns1:shrsOrPrnAmt>\\n\\t\\t<ns1:investmentDiscretion>SOLE</ns1:investmentDiscretion>\\n\\t\\t<ns1:votingAuthority>\\n\\t\\t\\t<ns1:Sole>76352</ns1:Sole>\\n\\t\\t\\t<ns1:Shared>0</ns1:Shared>\\n\\t\\t\\t<ns1:None>3520</ns1:None>\\n\\t\\t</ns1:votingAuthority>\\n\\t</ns1:infoTable>\\n\\t<ns1:infoTable>\\n\\t\\t<ns1:nameOfIssuer>CISCO SYSTEMS INC</ns1:nameOfIssuer>\\n\\t\\t<ns1:titleOfClass>COM</ns1:titleOfClass>\\n\\t\\t<ns1:cusip>17275R102</ns1:cusip>\\n\\t\\t<ns1:value>2773125</ns1:value>\\n\\t\\t<ns1:shrsOrPrnAmt>\\n\\t\\t\\t<ns1:sshPrnamt>54892</ns1:sshPrnamt>\\n\\t\\t\\t<ns1:sshPrnamtType>SH</ns1:sshPrnamtType>\\n\\t\\t</ns1:shrsOrPrnAmt>\\n\\t\\t<ns1:investmentDiscretion>SOLE</ns1:investmentDiscretion>\\n\\t\\t<ns1:votingAuthority>\\n\\t\\t\\t<ns1:Sole>54892</ns1:Sole>\\n\\t\\t\\t<ns1:Shared>0</ns1:Shared>\\n\\t\\t\\t<ns1:None>0</ns1:None>\\n\\t\\t</ns1:votingAuthority>\\n\\t</ns1:infoTable>\\n\\t<ns1:infoTable>\\n\\t\\t<ns1:nameOfIssuer>CLOROX CO</ns1:nameOfIssuer>\\n\\t\\t<ns1:titleOfClass>COM</ns1:titleOfClass>\\n\\t\\t<ns1:cusip>189054109</ns1:cusip>\\n\\t\\t<ns1:value>11124729</ns1:value>\\n\\t\\t<ns1:shrsOrPrnAmt>\\n\\t\\t\\t<ns1:sshPrnamt>78019</ns1:sshPrnamt>\\n\\t\\t\\t<ns1:sshPrnamtType>SH</ns1:sshPrnamtType>\\n\\t\\t</ns1:shrsOrPrnAmt>\\n\\t\\t<ns1:investmentDiscretion>SOLE</ns1:investmentDiscretion>\\n\\t\\t<ns1:votingAuthority>\\n\\t\\t\\t<ns1:Sole>77012</ns1:Sole>\\n\\t\\t\\t<ns1:Shared>0</ns1:Shared>\\n\\t\\t\\t<ns1:None>1007</ns1:None>\\n\\t\\t</ns1:votingAuthority>\\n\\t</ns1:infoTable>\\n\\t<ns1:infoTable>\\n\\t\\t<ns1:nameOfIssuer>COCA-COLA CO</ns1:nameOfIssuer>\\n\\t\\t<ns1:titleOfClass>COM</ns1:titleOfClass>\\n\\t\\t<ns1:cusip>191216100</ns1:cusip>\\n\\t\\t<ns1:value>2295677</ns1:value>\\n\\t\\t<ns1:shrsOrPrnAmt>\\n\\t\\t\\t<ns1:sshPrnamt>38956</ns1:sshPrnamt>\\n\\t\\t\\t<ns1:sshPrnamtType>SH</ns1:sshPrnamtType>\\n\\t\\t</ns1:shrsOrPrnAmt>\\n\\t\\t<ns1:investmentDiscretion>SOLE</ns1:investmentDiscretion>\\n\\t\\t<ns1:votingAuthority>\\n\\t\\t\\t<ns1:Sole>38956</ns1:Sole>\\n\\t\\t\\t<ns1:Shared>0</ns1:Shared>\\n\\t\\t\\t<ns1:None>0</ns1:None>\\n\\t\\t</ns1:votingAuthority>\\n\\t</ns1:infoTable>\\n\\t<ns1:infoTable>\\n\\t\\t<ns1:nameOfIssuer>COLGATE PALMOLIVE CO</ns1:nameOfIssuer>\\n\\t\\t<ns1:titleOfClass>COM</ns1:titleOfClass>\\n\\t\\t<ns1:cusip>194162103</ns1:cusip>\\n\\t\\t<ns1:value>4464717</ns1:value>\\n\\t\\t<ns1:shrsOrPrnAmt>\\n\\t\\t\\t<ns1:sshPrnamt>56012</ns1:sshPrnamt>\\n\\t\\t\\t<ns1:sshPrnamtType>SH</ns1:sshPrnamtType>\\n\\t\\t</ns1:shrsOrPrnAmt>\\n\\t\\t<ns1:investmentDiscretion>SOLE</ns1:investmentDiscretion>\\n\\t\\t<ns1:votingAuthority>\\n\\t\\t\\t<ns1:Sole>56012</ns1:Sole>\\n\\t\\t\\t<ns1:Shared>0</ns1:Shared>\\n\\t\\t\\t<ns1:None>0</ns1:None>\\n\\t\\t</ns1:votingAuthority>\\n\\t</ns1:infoTable>\\n\\t<ns1:infoTable>\\n\\t\\t<ns1:nameOfIssuer>COMCAST CORP CL A</ns1:nameOfIssuer>\\n\\t\\t<ns1:titleOfClass>COM</ns1:titleOfClass>\\n\\t\\t<ns1:cusip>20030N101</ns1:cusip>\\n\\t\\t<ns1:value>1342512</ns1:value>\\n\\t\\t<ns1:shrsOrPrnAmt>\\n\\t\\t\\t<ns1:sshPrnamt>30616</ns1:sshPrnamt>\\n\\t\\t\\t<ns1:sshPrnamtType>SH</ns1:sshPrnamtType>\\n\\t\\t</ns1:shrsOrPrnAmt>\\n\\t\\t<ns1:investmentDiscretion>SOLE</ns1:investmentDiscretion>\\n\\t\\t<ns1:votingAuthority>\\n\\t\\t\\t<ns1:Sole>29516</ns1:Sole>\\n\\t\\t\\t<ns1:Shared>0</ns1:Shared>\\n\\t\\t\\t<ns1:None>1100</ns1:None>\\n\\t\\t</ns1:votingAuthority>\\n\\t</ns1:infoTable>\\n\\t<ns1:infoTable>\\n\\t\\t<ns1:nameOfIssuer>CONOCOPHILLIPS</ns1:nameOfIssuer>\\n\\t\\t<ns1:titleOfClass>COM</ns1:titleOfClass>\\n\\t\\t<ns1:cusip>20825C104</ns1:cusip>\\n\\t\\t<ns1:value>526377</ns1:value>\\n\\t\\t<ns1:shrsOrPrnAmt>\\n\\t\\t\\t<ns1:sshPrnamt>4535</ns1:sshPrnamt>\\n\\t\\t\\t<ns1:sshPrnamtType>SH</ns1:sshPrnamtType>\\n\\t\\t</ns1:shrsOrPrnAmt>\\n\\t\\t<ns1:investmentDiscretion>SOLE</ns1:investmentDiscretion>\\n\\t\\t<ns1:votingAuthority>\\n\\t\\t\\t<ns1:Sole>4535</ns1:Sole>\\n\\t\\t\\t<ns1:Shared>0</ns1:Shared>\\n\\t\\t\\t<ns1:None>0</ns1:None>\\n\\t\\t</ns1:votingAuthority>\\n\\t</ns1:infoTable>\\n\\t<ns1:infoTable>\\n\\t\\t<ns1:nameOfIssuer>COPART INC</ns1:nameOfIssuer>\\n\\t\\t<ns1:titleOfClass>COM</ns1:titleOfClass>\\n\\t\\t<ns1:cusip>217204106</ns1:cusip>\\n\\t\\t<ns1:value>363972</ns1:value>\\n\\t\\t<ns1:shrsOrPrnAmt>\\n\\t\\t\\t<ns1:sshPrnamt>7428</ns1:sshPrnamt>\\n\\t\\t\\t<ns1:sshPrnamtType>SH</ns1:sshPrnamtType>\\n\\t\\t</ns1:shrsOrPrnAmt>\\n\\t\\t<ns1:investmentDiscretion>SOLE</ns1:investmentDiscretion>\\n\\t\\t<ns1:votingAuthority>\\n\\t\\t\\t<ns1:Sole>7428</ns1:Sole>\\n\\t\\t\\t<ns1:Shared>0</ns1:Shared>\\n\\t\\t\\t<ns1:None>0</ns1:None>\\n\\t\\t</ns1:votingAuthority>\\n\\t</ns1:infoTable>\\n\\t<ns1:infoTable>\\n\\t\\t<ns1:nameOfIssuer>CORNING INC</ns1:nameOfIssuer>\\n\\t\\t<ns1:titleOfClass>COM</ns1:titleOfClass>\\n\\t\\t<ns1:cusip>219350105</ns1:cusip>\\n\\t\\t<ns1:value>474990</ns1:value>\\n\\t\\t<ns1:shrsOrPrnAmt>\\n\\t\\t\\t<ns1:sshPrnamt>15599</ns1:sshPrnamt>\\n\\t\\t\\t<ns1:sshPrnamtType>SH</ns1:sshPrnamtType>\\n\\t\\t</ns1:shrsOrPrnAmt>\\n\\t\\t<ns1:investmentDiscretion>SOLE</ns1:investmentDiscretion>\\n\\t\\t<ns1:votingAuthority>\\n\\t\\t\\t<ns1:Sole>14614</ns1:Sole>\\n\\t\\t\\t<ns1:Shared>0</ns1:Shared>\\n\\t\\t\\t<ns1:None>985</ns1:None>\\n\\t\\t</ns1:votingAuthority>\\n\\t</ns1:infoTable>\\n\\t<ns1:infoTable>\\n\\t\\t<ns1:nameOfIssuer>COSTCO WHOLESALE CORP</ns1:nameOfIssuer>\\n\\t\\t<ns1:titleOfClass>COM</ns1:titleOfClass>\\n\\t\\t<ns1:cusip>22160K105</ns1:cusip>\\n\\t\\t<ns1:value>65396796</ns1:value>\\n\\t\\t<ns1:shrsOrPrnAmt>\\n\\t\\t\\t<ns1:sshPrnamt>99074</ns1:sshPrnamt>\\n\\t\\t\\t<ns1:sshPrnamtType>SH</ns1:sshPrnamtType>\\n\\t\\t</ns1:shrsOrPrnAmt>\\n\\t\\t<ns1:investmentDiscretion>SOLE</ns1:investmentDiscretion>\\n\\t\\t<ns1:votingAuthority>\\n\\t\\t\\t<ns1:Sole>97706</ns1:Sole>\\n\\t\\t\\t<ns1:Shared>0</ns1:Shared>\\n\\t\\t\\t<ns1:None>1368</ns1:None>\\n\\t\\t</ns1:votingAuthority>\\n\\t</ns1:infoTable>\\n\\t<ns1:infoTable>\\n\\t\\t<ns1:nameOfIssuer>CVS HEALTH CORP</ns1:nameOfIssuer>\\n\\t\\t<ns1:titleOfClass>COM</ns1:titleOfClass>\\n\\t\\t<ns1:cusip>126650100</ns1:cusip>\\n\\t\\t<ns1:value>16365250</ns1:value>\\n\\t\\t<ns1:shrsOrPrnAmt>\\n\\t\\t\\t<ns1:sshPrnamt>207260</ns1:sshPrnamt>\\n\\t\\t\\t<ns1:sshPrnamtType>SH</ns1:sshPrnamtType>\\n\\t\\t</ns1:shrsOrPrnAmt>\\n\\t\\t<ns1:investmentDiscretion>SOLE</ns1:investmentDiscretion>\\n\\t\\t<ns1:votingAuthority>\\n\\t\\t\\t<ns1:Sole>203110</ns1:Sole>\\n\\t\\t\\t<ns1:Shared>0</ns1:Shared>\\n\\t\\t\\t<ns1:None>4150</ns1:None>\\n\\t\\t</ns1:votingAuthority>\\n\\t</ns1:infoTable>\\n\\t<ns1:infoTable>\\n\\t\\t<ns1:nameOfIssuer>DANAHER CORP</ns1:nameOfIssuer>\\n\\t\\t<ns1:titleOfClass>COM</ns1:titleOfClass>\\n\\t\\t<ns1:cusip>235851102</ns1:cusip>\\n\\t\\t<ns1:value>41405696</ns1:value>\\n\\t\\t<ns1:shrsOrPrnAmt>\\n\\t\\t\\t<ns1:sshPrnamt>178982</ns1:sshPrnamt>\\n\\t\\t\\t<ns1:sshPrnamtType>SH</ns1:sshPrnamtType>\\n\\t\\t</ns1:shrsOrPrnAmt>\\n\\t\\t<ns1:investmentDiscretion>SOLE</ns1:investmentDiscretion>\\n\\t\\t<ns1:votingAuthority>\\n\\t\\t\\t<ns1:Sole>175858</ns1:Sole>\\n\\t\\t\\t<ns1:Shared>0</ns1:Shared>\\n\\t\\t\\t<ns1:None>3124</ns1:None>\\n\\t\\t</ns1:votingAuthority>\\n\\t</ns1:infoTable>\\n\\t<ns1:infoTable>\\n\\t\\t<ns1:nameOfIssuer>DEERE &amp; CO</ns1:nameOfIssuer>\\n\\t\\t<ns1:titleOfClass>COM</ns1:titleOfClass>\\n\\t\\t<ns1:cusip>244199105</ns1:cusip>\\n\\t\\t<ns1:value>26874863</ns1:value>\\n\\t\\t<ns1:shrsOrPrnAmt>\\n\\t\\t\\t<ns1:sshPrnamt>67209</ns1:sshPrnamt>\\n\\t\\t\\t<ns1:sshPrnamtType>SH</ns1:sshPrnamtType>\\n\\t\\t</ns1:shrsOrPrnAmt>\\n\\t\\t<ns1:investmentDiscretion>SOLE</ns1:investmentDiscretion>\\n\\t\\t<ns1:votingAuthority>\\n\\t\\t\\t<ns1:Sole>66184</ns1:Sole>\\n\\t\\t\\t<ns1:Shared>0</ns1:Shared>\\n\\t\\t\\t<ns1:None>1025</ns1:None>\\n\\t\\t</ns1:votingAuthority>\\n\\t</ns1:infoTable>\\n\\t<ns1:infoTable>\\n\\t\\t<ns1:nameOfIssuer>DISNEY WALT CO</ns1:nameOfIssuer>\\n\\t\\t<ns1:titleOfClass>COM</ns1:titleOfClass>\\n\\t\\t<ns1:cusip>254687106</ns1:cusip>\\n\\t\\t<ns1:value>20777896</ns1:value>\\n\\t\\t<ns1:shrsOrPrnAmt>\\n\\t\\t\\t<ns1:sshPrnamt>230124</ns1:sshPrnamt>\\n\\t\\t\\t<ns1:sshPrnamtType>SH</ns1:sshPrnamtType>\\n\\t\\t</ns1:shrsOrPrnAmt>\\n\\t\\t<ns1:investmentDiscretion>SOLE</ns1:investmentDiscretion>\\n\\t\\t<ns1:votingAuthority>\\n\\t\\t\\t<ns1:Sole>225909</ns1:Sole>\\n\\t\\t\\t<ns1:Shared>0</ns1:Shared>\\n\\t\\t\\t<ns1:None>4215</ns1:None>\\n\\t\\t</ns1:votingAuthority>\\n\\t</ns1:infoTable>\\n\\t<ns1:infoTable>\\n\\t\\t<ns1:nameOfIssuer>DONALDSON INC</ns1:nameOfIssuer>\\n\\t\\t<ns1:titleOfClass>COM</ns1:titleOfClass>\\n\\t\\t<ns1:cusip>257651109</ns1:cusip>\\n\\t\\t<ns1:value>271006</ns1:value>\\n\\t\\t<ns1:shrsOrPrnAmt>\\n\\t\\t\\t<ns1:sshPrnamt>4147</ns1:sshPrnamt>\\n\\t\\t\\t<ns1:sshPrnamtType>SH</ns1:sshPrnamtType>\\n\\t\\t</ns1:shrsOrPrnAmt>\\n\\t\\t<ns1:investmentDiscretion>SOLE</ns1:investmentDiscretion>\\n\\t\\t<ns1:votingAuthority>\\n\\t\\t\\t<ns1:Sole>4147</ns1:Sole>\\n\\t\\t\\t<ns1:Shared>0</ns1:Shared>\\n\\t\\t\\t<ns1:None>0</ns1:None>\\n\\t\\t</ns1:votingAuthority>\\n\\t</ns1:infoTable>\\n\\t<ns1:infoTable>\\n\\t\\t<ns1:nameOfIssuer>DOW INC</ns1:nameOfIssuer>\\n\\t\\t<ns1:titleOfClass>COM</ns1:titleOfClass>\\n\\t\\t<ns1:cusip>260557103</ns1:cusip>\\n\\t\\t<ns1:value>350866</ns1:value>\\n\\t\\t<ns1:shrsOrPrnAmt>\\n\\t\\t\\t<ns1:sshPrnamt>6398</ns1:sshPrnamt>\\n\\t\\t\\t<ns1:sshPrnamtType>SH</ns1:sshPrnamtType>\\n\\t\\t</ns1:shrsOrPrnAmt>\\n\\t\\t<ns1:investmentDiscretion>SOLE</ns1:investmentDiscretion>\\n\\t\\t<ns1:votingAuthority>\\n\\t\\t\\t<ns1:Sole>6398</ns1:Sole>\\n\\t\\t\\t<ns1:Shared>0</ns1:Shared>\\n\\t\\t\\t<ns1:None>0</ns1:None>\\n\\t\\t</ns1:votingAuthority>\\n\\t</ns1:infoTable>\\n\\t<ns1:infoTable>\\n\\t\\t<ns1:nameOfIssuer>EASTGROUP PROPERTY INC</ns1:nameOfIssuer>\\n\\t\\t<ns1:titleOfClass>COM</ns1:titleOfClass>\\n\\t\\t<ns1:cusip>277276101</ns1:cusip>\\n\\t\\t<ns1:value>238602</ns1:value>\\n\\t\\t<ns1:shrsOrPrnAmt>\\n\\t\\t\\t<ns1:sshPrnamt>1300</ns1:sshPrnamt>\\n\\t\\t\\t<ns1:sshPrnamtType>SH</ns1:sshPrnamtType>\\n\\t\\t</ns1:shrsOrPrnAmt>\\n\\t\\t<ns1:investmentDiscretion>SOLE</ns1:investmentDiscretion>\\n\\t\\t<ns1:votingAuthority>\\n\\t\\t\\t<ns1:Sole>1300</ns1:Sole>\\n\\t\\t\\t<ns1:Shared>0</ns1:Shared>\\n\\t\\t\\t<ns1:None>0</ns1:None>\\n\\t\\t</ns1:votingAuthority>\\n\\t</ns1:infoTable>\\n\\t<ns1:infoTable>\\n\\t\\t<ns1:nameOfIssuer>ECOLAB INC</ns1:nameOfIssuer>\\n\\t\\t<ns1:titleOfClass>COM</ns1:titleOfClass>\\n\\t\\t<ns1:cusip>278865100</ns1:cusip>\\n\\t\\t<ns1:value>1088743</ns1:value>\\n\\t\\t<ns1:shrsOrPrnAmt>\\n\\t\\t\\t<ns1:sshPrnamt>5489</ns1:sshPrnamt>\\n\\t\\t\\t<ns1:sshPrnamtType>SH</ns1:sshPrnamtType>\\n\\t\\t</ns1:shrsOrPrnAmt>\\n\\t\\t<ns1:investmentDiscretion>SOLE</ns1:investmentDiscretion>\\n\\t\\t<ns1:votingAuthority>\\n\\t\\t\\t<ns1:Sole>5374</ns1:Sole>\\n\\t\\t\\t<ns1:Shared>0</ns1:Shared>\\n\\t\\t\\t<ns1:None>115</ns1:None>\\n\\t\\t</ns1:votingAuthority>\\n\\t</ns1:infoTable>\\n\\t<ns1:infoTable>\\n\\t\\t<ns1:nameOfIssuer>EDINBURGH WORLDWIDE GBP</ns1:nameOfIssuer>\\n\\t\\t<ns1:titleOfClass>COM</ns1:titleOfClass>\\n\\t\\t<ns1:cusip>G29361113</ns1:cusip>\\n\\t\\t<ns1:value>280201</ns1:value>\\n\\t\\t<ns1:shrsOrPrnAmt>\\n\\t\\t\\t<ns1:sshPrnamt>140000</ns1:sshPrnamt>\\n\\t\\t\\t<ns1:sshPrnamtType>SH</ns1:sshPrnamtType>\\n\\t\\t</ns1:shrsOrPrnAmt>\\n\\t\\t<ns1:investmentDiscretion>SOLE</ns1:investmentDiscretion>\\n\\t\\t<ns1:votingAuthority>\\n\\t\\t\\t<ns1:Sole>140000</ns1:Sole>\\n\\t\\t\\t<ns1:Shared>0</ns1:Shared>\\n\\t\\t\\t<ns1:None>0</ns1:None>\\n\\t\\t</ns1:votingAuthority>\\n\\t</ns1:infoTable>\\n\\t<ns1:infoTable>\\n\\t\\t<ns1:nameOfIssuer>ELI LILLY &amp; CO</ns1:nameOfIssuer>\\n\\t\\t<ns1:titleOfClass>COM</ns1:titleOfClass>\\n\\t\\t<ns1:cusip>532457108</ns1:cusip>\\n\\t\\t<ns1:value>24081621</ns1:value>\\n\\t\\t<ns1:shrsOrPrnAmt>\\n\\t\\t\\t<ns1:sshPrnamt>41312</ns1:sshPrnamt>\\n\\t\\t\\t<ns1:sshPrnamtType>SH</ns1:sshPrnamtType>\\n\\t\\t</ns1:shrsOrPrnAmt>\\n\\t\\t<ns1:investmentDiscretion>SOLE</ns1:investmentDiscretion>\\n\\t\\t<ns1:votingAuthority>\\n\\t\\t\\t<ns1:Sole>40542</ns1:Sole>\\n\\t\\t\\t<ns1:Shared>0</ns1:Shared>\\n\\t\\t\\t<ns1:None>770</ns1:None>\\n\\t\\t</ns1:votingAuthority>\\n\\t</ns1:infoTable>\\n\\t<ns1:infoTable>\\n\\t\\t<ns1:nameOfIssuer>EMERSON ELECTRIC CO</ns1:nameOfIssuer>\\n\\t\\t<ns1:titleOfClass>COM</ns1:titleOfClass>\\n\\t\\t<ns1:cusip>291011104</ns1:cusip>\\n\\t\\t<ns1:value>1975312</ns1:value>\\n\\t\\t<ns1:shrsOrPrnAmt>\\n\\t\\t\\t<ns1:sshPrnamt>20295</ns1:sshPrnamt>\\n\\t\\t\\t<ns1:sshPrnamtType>SH</ns1:sshPrnamtType>\\n\\t\\t</ns1:shrsOrPrnAmt>\\n\\t\\t<ns1:investmentDiscretion>SOLE</ns1:investmentDiscretion>\\n\\t\\t<ns1:votingAuthority>\\n\\t\\t\\t<ns1:Sole>20295</ns1:Sole>\\n\\t\\t\\t<ns1:Shared>0</ns1:Shared>\\n\\t\\t\\t<ns1:None>0</ns1:None>\\n\\t\\t</ns1:votingAuthority>\\n\\t</ns1:infoTable>\\n\\t<ns1:infoTable>\\n\\t\\t<ns1:nameOfIssuer>EOG RESOURCES INC</ns1:nameOfIssuer>\\n\\t\\t<ns1:titleOfClass>COM</ns1:titleOfClass>\\n\\t\\t<ns1:cusip>26875P101</ns1:cusip>\\n\\t\\t<ns1:value>252785</ns1:value>\\n\\t\\t<ns1:shrsOrPrnAmt>\\n\\t\\t\\t<ns1:sshPrnamt>2090</ns1:sshPrnamt>\\n\\t\\t\\t<ns1:sshPrnamtType>SH</ns1:sshPrnamtType>\\n\\t\\t</ns1:shrsOrPrnAmt>\\n\\t\\t<ns1:investmentDiscretion>SOLE</ns1:investmentDiscretion>\\n\\t\\t<ns1:votingAuthority>\\n\\t\\t\\t<ns1:Sole>2090</ns1:Sole>\\n\\t\\t\\t<ns1:Shared>0</ns1:Shared>\\n\\t\\t\\t<ns1:None>0</ns1:None>\\n\\t\\t</ns1:votingAuthority>\\n\\t</ns1:infoTable>\\n\\t<ns1:infoTable>\\n\\t\\t<ns1:nameOfIssuer>EXXON MOBIL CORP</ns1:nameOfIssuer>\\n\\t\\t<ns1:titleOfClass>COM</ns1:titleOfClass>\\n\\t\\t<ns1:cusip>30231G102</ns1:cusip>\\n\\t\\t<ns1:value>19566086</ns1:value>\\n\\t\\t<ns1:shrsOrPrnAmt>\\n\\t\\t\\t<ns1:sshPrnamt>195700</ns1:sshPrnamt>\\n\\t\\t\\t<ns1:sshPrnamtType>SH</ns1:sshPrnamtType>\\n\\t\\t</ns1:shrsOrPrnAmt>\\n\\t\\t<ns1:investmentDiscretion>SOLE</ns1:investmentDiscretion>\\n\\t\\t<ns1:votingAuthority>\\n\\t\\t\\t<ns1:Sole>192738</ns1:Sole>\\n\\t\\t\\t<ns1:Shared>0</ns1:Shared>\\n\\t\\t\\t<ns1:None>2962</ns1:None>\\n\\t\\t</ns1:votingAuthority>\\n\\t</ns1:infoTable>\\n\\t<ns1:infoTable>\\n\\t\\t<ns1:nameOfIssuer>FASTENAL CO</ns1:nameOfIssuer>\\n\\t\\t<ns1:titleOfClass>COM</ns1:titleOfClass>\\n\\t\\t<ns1:cusip>311900104</ns1:cusip>\\n\\t\\t<ns1:value>1088136</ns1:value>\\n\\t\\t<ns1:shrsOrPrnAmt>\\n\\t\\t\\t<ns1:sshPrnamt>16800</ns1:sshPrnamt>\\n\\t\\t\\t<ns1:sshPrnamtType>SH</ns1:sshPrnamtType>\\n\\t\\t</ns1:shrsOrPrnAmt>\\n\\t\\t<ns1:investmentDiscretion>SOLE</ns1:investmentDiscretion>\\n\\t\\t<ns1:votingAuthority>\\n\\t\\t\\t<ns1:Sole>16800</ns1:Sole>\\n\\t\\t\\t<ns1:Shared>0</ns1:Shared>\\n\\t\\t\\t<ns1:None>0</ns1:None>\\n\\t\\t</ns1:votingAuthority>\\n\\t</ns1:infoTable>\\n\\t<ns1:infoTable>\\n\\t\\t<ns1:nameOfIssuer>GENERAL MILLS INC</ns1:nameOfIssuer>\\n\\t\\t<ns1:titleOfClass>COM</ns1:titleOfClass>\\n\\t\\t<ns1:cusip>370334104</ns1:cusip>\\n\\t\\t<ns1:value>789301</ns1:value>\\n\\t\\t<ns1:shrsOrPrnAmt>\\n\\t\\t\\t<ns1:sshPrnamt>12117</ns1:sshPrnamt>\\n\\t\\t\\t<ns1:sshPrnamtType>SH</ns1:sshPrnamtType>\\n\\t\\t</ns1:shrsOrPrnAmt>\\n\\t\\t<ns1:investmentDiscretion>SOLE</ns1:investmentDiscretion>\\n\\t\\t<ns1:votingAuthority>\\n\\t\\t\\t<ns1:Sole>12117</ns1:Sole>\\n\\t\\t\\t<ns1:Shared>0</ns1:Shared>\\n\\t\\t\\t<ns1:None>0</ns1:None>\\n\\t\\t</ns1:votingAuthority>\\n\\t</ns1:infoTable>\\n\\t<ns1:infoTable>\\n\\t\\t<ns1:nameOfIssuer>GOLDMAN SACHS GROUP INC</ns1:nameOfIssuer>\\n\\t\\t<ns1:titleOfClass>COM</ns1:titleOfClass>\\n\\t\\t<ns1:cusip>38141G104</ns1:cusip>\\n\\t\\t<ns1:value>15863248</ns1:value>\\n\\t\\t<ns1:shrsOrPrnAmt>\\n\\t\\t\\t<ns1:sshPrnamt>41121</ns1:sshPrnamt>\\n\\t\\t\\t<ns1:sshPrnamtType>SH</ns1:sshPrnamtType>\\n\\t\\t</ns1:shrsOrPrnAmt>\\n\\t\\t<ns1:investmentDiscretion>SOLE</ns1:investmentDiscretion>\\n\\t\\t<ns1:votingAuthority>\\n\\t\\t\\t<ns1:Sole>40213</ns1:Sole>\\n\\t\\t\\t<ns1:Shared>0</ns1:Shared>\\n\\t\\t\\t<ns1:None>908</ns1:None>\\n\\t\\t</ns1:votingAuthority>\\n\\t</ns1:infoTable>\\n\\t<ns1:infoTable>\\n\\t\\t<ns1:nameOfIssuer>HERSHEY CO</ns1:nameOfIssuer>\\n\\t\\t<ns1:titleOfClass>COM</ns1:titleOfClass>\\n\\t\\t<ns1:cusip>427866108</ns1:cusip>\\n\\t\\t<ns1:value>427134</ns1:value>\\n\\t\\t<ns1:shrsOrPrnAmt>\\n\\t\\t\\t<ns1:sshPrnamt>2291</ns1:sshPrnamt>\\n\\t\\t\\t<ns1:sshPrnamtType>SH</ns1:sshPrnamtType>\\n\\t\\t</ns1:shrsOrPrnAmt>\\n\\t\\t<ns1:investmentDiscretion>SOLE</ns1:investmentDiscretion>\\n\\t\\t<ns1:votingAuthority>\\n\\t\\t\\t<ns1:Sole>2291</ns1:Sole>\\n\\t\\t\\t<ns1:Shared>0</ns1:Shared>\\n\\t\\t\\t<ns1:None>0</ns1:None>\\n\\t\\t</ns1:votingAuthority>\\n\\t</ns1:infoTable>\\n\\t<ns1:infoTable>\\n\\t\\t<ns1:nameOfIssuer>HILTON WORLDWIDE HOLDINGS INC</ns1:nameOfIssuer>\\n\\t\\t<ns1:titleOfClass>COM</ns1:titleOfClass>\\n\\t\\t<ns1:cusip>43300A203</ns1:cusip>\\n\\t\\t<ns1:value>320114</ns1:value>\\n\\t\\t<ns1:shrsOrPrnAmt>\\n\\t\\t\\t<ns1:sshPrnamt>1758</ns1:sshPrnamt>\\n\\t\\t\\t<ns1:sshPrnamtType>SH</ns1:sshPrnamtType>\\n\\t\\t</ns1:shrsOrPrnAmt>\\n\\t\\t<ns1:investmentDiscretion>SOLE</ns1:investmentDiscretion>\\n\\t\\t<ns1:votingAuthority>\\n\\t\\t\\t<ns1:Sole>1758</ns1:Sole>\\n\\t\\t\\t<ns1:Shared>0</ns1:Shared>\\n\\t\\t\\t<ns1:None>0</ns1:None>\\n\\t\\t</ns1:votingAuthority>\\n\\t</ns1:infoTable>\\n\\t<ns1:infoTable>\\n\\t\\t<ns1:nameOfIssuer>HOME DEPOT INC</ns1:nameOfIssuer>\\n\\t\\t<ns1:titleOfClass>COM</ns1:titleOfClass>\\n\\t\\t<ns1:cusip>437076102</ns1:cusip>\\n\\t\\t<ns1:value>5062402</ns1:value>\\n\\t\\t<ns1:shrsOrPrnAmt>\\n\\t\\t\\t<ns1:sshPrnamt>14608</ns1:sshPrnamt>\\n\\t\\t\\t<ns1:sshPrnamtType>SH</ns1:sshPrnamtType>\\n\\t\\t</ns1:shrsOrPrnAmt>\\n\\t\\t<ns1:investmentDiscretion>SOLE</ns1:investmentDiscretion>\\n\\t\\t<ns1:votingAuthority>\\n\\t\\t\\t<ns1:Sole>13093</ns1:Sole>\\n\\t\\t\\t<ns1:Shared>0</ns1:Shared>\\n\\t\\t\\t<ns1:None>1515</ns1:None>\\n\\t\\t</ns1:votingAuthority>\\n\\t</ns1:infoTable>\\n\\t<ns1:infoTable>\\n\\t\\t<ns1:nameOfIssuer>HONEYWELL INTL INC</ns1:nameOfIssuer>\\n\\t\\t<ns1:titleOfClass>COM</ns1:titleOfClass>\\n\\t\\t<ns1:cusip>438516106</ns1:cusip>\\n\\t\\t<ns1:value>32832617</ns1:value>\\n\\t\\t<ns1:shrsOrPrnAmt>\\n\\t\\t\\t<ns1:sshPrnamt>156562</ns1:sshPrnamt>\\n\\t\\t\\t<ns1:sshPrnamtType>SH</ns1:sshPrnamtType>\\n\\t\\t</ns1:shrsOrPrnAmt>\\n\\t\\t<ns1:investmentDiscretion>SOLE</ns1:investmentDiscretion>\\n\\t\\t<ns1:votingAuthority>\\n\\t\\t\\t<ns1:Sole>153247</ns1:Sole>\\n\\t\\t\\t<ns1:Shared>0</ns1:Shared>\\n\\t\\t\\t<ns1:None>3315</ns1:None>\\n\\t\\t</ns1:votingAuthority>\\n\\t</ns1:infoTable>\\n\\t<ns1:infoTable>\\n\\t\\t<ns1:nameOfIssuer>IDEXX LABORATORIES INC</ns1:nameOfIssuer>\\n\\t\\t<ns1:titleOfClass>COM</ns1:titleOfClass>\\n\\t\\t<ns1:cusip>45168D104</ns1:cusip>\\n\\t\\t<ns1:value>372439</ns1:value>\\n\\t\\t<ns1:shrsOrPrnAmt>\\n\\t\\t\\t<ns1:sshPrnamt>671</ns1:sshPrnamt>\\n\\t\\t\\t<ns1:sshPrnamtType>SH</ns1:sshPrnamtType>\\n\\t\\t</ns1:shrsOrPrnAmt>\\n\\t\\t<ns1:investmentDiscretion>SOLE</ns1:investmentDiscretion>\\n\\t\\t<ns1:votingAuthority>\\n\\t\\t\\t<ns1:Sole>671</ns1:Sole>\\n\\t\\t\\t<ns1:Shared>0</ns1:Shared>\\n\\t\\t\\t<ns1:None>0</ns1:None>\\n\\t\\t</ns1:votingAuthority>\\n\\t</ns1:infoTable>\\n\\t<ns1:infoTable>\\n\\t\\t<ns1:nameOfIssuer>ILLINOIS TOOL WORKS INC</ns1:nameOfIssuer>\\n\\t\\t<ns1:titleOfClass>COM</ns1:titleOfClass>\\n\\t\\t<ns1:cusip>452308109</ns1:cusip>\\n\\t\\t<ns1:value>399458</ns1:value>\\n\\t\\t<ns1:shrsOrPrnAmt>\\n\\t\\t\\t<ns1:sshPrnamt>1525</ns1:sshPrnamt>\\n\\t\\t\\t<ns1:sshPrnamtType>SH</ns1:sshPrnamtType>\\n\\t\\t</ns1:shrsOrPrnAmt>\\n\\t\\t<ns1:investmentDiscretion>SOLE</ns1:investmentDiscretion>\\n\\t\\t<ns1:votingAuthority>\\n\\t\\t\\t<ns1:Sole>1200</ns1:Sole>\\n\\t\\t\\t<ns1:Shared>0</ns1:Shared>\\n\\t\\t\\t<ns1:None>325</ns1:None>\\n\\t\\t</ns1:votingAuthority>\\n\\t</ns1:infoTable>\\n\\t<ns1:infoTable>\\n\\t\\t<ns1:nameOfIssuer>INTEL CORP</ns1:nameOfIssuer>\\n\\t\\t<ns1:titleOfClass>COM</ns1:titleOfClass>\\n\\t\\t<ns1:cusip>458140100</ns1:cusip>\\n\\t\\t<ns1:value>1657747</ns1:value>\\n\\t\\t<ns1:shrsOrPrnAmt>\\n\\t\\t\\t<ns1:sshPrnamt>32990</ns1:sshPrnamt>\\n\\t\\t\\t<ns1:sshPrnamtType>SH</ns1:sshPrnamtType>\\n\\t\\t</ns1:shrsOrPrnAmt>\\n\\t\\t<ns1:investmentDiscretion>SOLE</ns1:investmentDiscretion>\\n\\t\\t<ns1:votingAuthority>\\n\\t\\t\\t<ns1:Sole>32990</ns1:Sole>\\n\\t\\t\\t<ns1:Shared>0</ns1:Shared>\\n\\t\\t\\t<ns1:None>0</ns1:None>\\n\\t\\t</ns1:votingAuthority>\\n\\t</ns1:infoTable>\\n\\t<ns1:infoTable>\\n\\t\\t<ns1:nameOfIssuer>INTERNATIONAL FLAVORS &amp; FRAGRA</ns1:nameOfIssuer>\\n\\t\\t<ns1:titleOfClass>COM</ns1:titleOfClass>\\n\\t\\t<ns1:cusip>459506101</ns1:cusip>\\n\\t\\t<ns1:value>380559</ns1:value>\\n\\t\\t<ns1:shrsOrPrnAmt>\\n\\t\\t\\t<ns1:sshPrnamt>4700</ns1:sshPrnamt>\\n\\t\\t\\t<ns1:sshPrnamtType>SH</ns1:sshPrnamtType>\\n\\t\\t</ns1:shrsOrPrnAmt>\\n\\t\\t<ns1:investmentDiscretion>SOLE</ns1:investmentDiscretion>\\n\\t\\t<ns1:votingAuthority>\\n\\t\\t\\t<ns1:Sole>4700</ns1:Sole>\\n\\t\\t\\t<ns1:Shared>0</ns1:Shared>\\n\\t\\t\\t<ns1:None>0</ns1:None>\\n\\t\\t</ns1:votingAuthority>\\n\\t</ns1:infoTable>\\n\\t<ns1:infoTable>\\n\\t\\t<ns1:nameOfIssuer>INTL BUSINESS MACHINES</ns1:nameOfIssuer>\\n\\t\\t<ns1:titleOfClass>COM</ns1:titleOfClass>\\n\\t\\t<ns1:cusip>459200101</ns1:cusip>\\n\\t\\t<ns1:value>1176350</ns1:value>\\n\\t\\t<ns1:shrsOrPrnAmt>\\n\\t\\t\\t<ns1:sshPrnamt>7193</ns1:sshPrnamt>\\n\\t\\t\\t<ns1:sshPrnamtType>SH</ns1:sshPrnamtType>\\n\\t\\t</ns1:shrsOrPrnAmt>\\n\\t\\t<ns1:investmentDiscretion>SOLE</ns1:investmentDiscretion>\\n\\t\\t<ns1:votingAuthority>\\n\\t\\t\\t<ns1:Sole>7068</ns1:Sole>\\n\\t\\t\\t<ns1:Shared>0</ns1:Shared>\\n\\t\\t\\t<ns1:None>125</ns1:None>\\n\\t\\t</ns1:votingAuthority>\\n\\t</ns1:infoTable>\\n\\t<ns1:infoTable>\\n\\t\\t<ns1:nameOfIssuer>INTUITIVE SURGICAL INC</ns1:nameOfIssuer>\\n\\t\\t<ns1:titleOfClass>COM</ns1:titleOfClass>\\n\\t\\t<ns1:cusip>46120E602</ns1:cusip>\\n\\t\\t<ns1:value>25517910</ns1:value>\\n\\t\\t<ns1:shrsOrPrnAmt>\\n\\t\\t\\t<ns1:sshPrnamt>75640</ns1:sshPrnamt>\\n\\t\\t\\t<ns1:sshPrnamtType>SH</ns1:sshPrnamtType>\\n\\t\\t</ns1:shrsOrPrnAmt>\\n\\t\\t<ns1:investmentDiscretion>SOLE</ns1:investmentDiscretion>\\n\\t\\t<ns1:votingAuthority>\\n\\t\\t\\t<ns1:Sole>74561</ns1:Sole>\\n\\t\\t\\t<ns1:Shared>0</ns1:Shared>\\n\\t\\t\\t<ns1:None>1079</ns1:None>\\n\\t\\t</ns1:votingAuthority>\\n\\t</ns1:infoTable>\\n\\t<ns1:infoTable>\\n\\t\\t<ns1:nameOfIssuer>JOHNSON &amp; JOHNSON</ns1:nameOfIssuer>\\n\\t\\t<ns1:titleOfClass>COM</ns1:titleOfClass>\\n\\t\\t<ns1:cusip>478160104</ns1:cusip>\\n\\t\\t<ns1:value>30864835</ns1:value>\\n\\t\\t<ns1:shrsOrPrnAmt>\\n\\t\\t\\t<ns1:sshPrnamt>196917</ns1:sshPrnamt>\\n\\t\\t\\t<ns1:sshPrnamtType>SH</ns1:sshPrnamtType>\\n\\t\\t</ns1:shrsOrPrnAmt>\\n\\t\\t<ns1:investmentDiscretion>SOLE</ns1:investmentDiscretion>\\n\\t\\t<ns1:votingAuthority>\\n\\t\\t\\t<ns1:Sole>192288</ns1:Sole>\\n\\t\\t\\t<ns1:Shared>0</ns1:Shared>\\n\\t\\t\\t<ns1:None>4629</ns1:None>\\n\\t\\t</ns1:votingAuthority>\\n\\t</ns1:infoTable>\\n\\t<ns1:infoTable>\\n\\t\\t<ns1:nameOfIssuer>JPMORGAN CHASE &amp; CO</ns1:nameOfIssuer>\\n\\t\\t<ns1:titleOfClass>COM</ns1:titleOfClass>\\n\\t\\t<ns1:cusip>46625H100</ns1:cusip>\\n\\t\\t<ns1:value>35058460</ns1:value>\\n\\t\\t<ns1:shrsOrPrnAmt>\\n\\t\\t\\t<ns1:sshPrnamt>206105</ns1:sshPrnamt>\\n\\t\\t\\t<ns1:sshPrnamtType>SH</ns1:sshPrnamtType>\\n\\t\\t</ns1:shrsOrPrnAmt>\\n\\t\\t<ns1:investmentDiscretion>SOLE</ns1:investmentDiscretion>\\n\\t\\t<ns1:votingAuthority>\\n\\t\\t\\t<ns1:Sole>200235</ns1:Sole>\\n\\t\\t\\t<ns1:Shared>0</ns1:Shared>\\n\\t\\t\\t<ns1:None>5870</ns1:None>\\n\\t\\t</ns1:votingAuthority>\\n\\t</ns1:infoTable>\\n\\t<ns1:infoTable>\\n\\t\\t<ns1:nameOfIssuer>KELLANOVA COM</ns1:nameOfIssuer>\\n\\t\\t<ns1:titleOfClass>COM</ns1:titleOfClass>\\n\\t\\t<ns1:cusip>487836108</ns1:cusip>\\n\\t\\t<ns1:value>273400</ns1:value>\\n\\t\\t<ns1:shrsOrPrnAmt>\\n\\t\\t\\t<ns1:sshPrnamt>4890</ns1:sshPrnamt>\\n\\t\\t\\t<ns1:sshPrnamtType>SH</ns1:sshPrnamtType>\\n\\t\\t</ns1:shrsOrPrnAmt>\\n\\t\\t<ns1:investmentDiscretion>SOLE</ns1:investmentDiscretion>\\n\\t\\t<ns1:votingAuthority>\\n\\t\\t\\t<ns1:Sole>4890</ns1:Sole>\\n\\t\\t\\t<ns1:Shared>0</ns1:Shared>\\n\\t\\t\\t<ns1:None>0</ns1:None>\\n\\t\\t</ns1:votingAuthority>\\n\\t</ns1:infoTable>\\n\\t<ns1:infoTable>\\n\\t\\t<ns1:nameOfIssuer>KENVUE INC</ns1:nameOfIssuer>\\n\\t\\t<ns1:titleOfClass>COM</ns1:titleOfClass>\\n\\t\\t<ns1:cusip>49177J102</ns1:cusip>\\n\\t\\t<ns1:value>6029175</ns1:value>\\n\\t\\t<ns1:shrsOrPrnAmt>\\n\\t\\t\\t<ns1:sshPrnamt>280036</ns1:sshPrnamt>\\n\\t\\t\\t<ns1:sshPrnamtType>SH</ns1:sshPrnamtType>\\n\\t\\t</ns1:shrsOrPrnAmt>\\n\\t\\t<ns1:investmentDiscretion>SOLE</ns1:investmentDiscretion>\\n\\t\\t<ns1:votingAuthority>\\n\\t\\t\\t<ns1:Sole>269749</ns1:Sole>\\n\\t\\t\\t<ns1:Shared>0</ns1:Shared>\\n\\t\\t\\t<ns1:None>10287</ns1:None>\\n\\t\\t</ns1:votingAuthority>\\n\\t</ns1:infoTable>\\n\\t<ns1:infoTable>\\n\\t\\t<ns1:nameOfIssuer>KIMBERLY CLARK CORP</ns1:nameOfIssuer>\\n\\t\\t<ns1:titleOfClass>COM</ns1:titleOfClass>\\n\\t\\t<ns1:cusip>494368103</ns1:cusip>\\n\\t\\t<ns1:value>776876</ns1:value>\\n\\t\\t<ns1:shrsOrPrnAmt>\\n\\t\\t\\t<ns1:sshPrnamt>6394</ns1:sshPrnamt>\\n\\t\\t\\t<ns1:sshPrnamtType>SH</ns1:sshPrnamtType>\\n\\t\\t</ns1:shrsOrPrnAmt>\\n\\t\\t<ns1:investmentDiscretion>SOLE</ns1:investmentDiscretion>\\n\\t\\t<ns1:votingAuthority>\\n\\t\\t\\t<ns1:Sole>5630</ns1:Sole>\\n\\t\\t\\t<ns1:Shared>0</ns1:Shared>\\n\\t\\t\\t<ns1:None>764</ns1:None>\\n\\t\\t</ns1:votingAuthority>\\n\\t</ns1:infoTable>\\n\\t<ns1:infoTable>\\n\\t\\t<ns1:nameOfIssuer>KKR &amp; CO INC CL A</ns1:nameOfIssuer>\\n\\t\\t<ns1:titleOfClass>COM</ns1:titleOfClass>\\n\\t\\t<ns1:cusip>48251W104</ns1:cusip>\\n\\t\\t<ns1:value>695940</ns1:value>\\n\\t\\t<ns1:shrsOrPrnAmt>\\n\\t\\t\\t<ns1:sshPrnamt>8400</ns1:sshPrnamt>\\n\\t\\t\\t<ns1:sshPrnamtType>SH</ns1:sshPrnamtType>\\n\\t\\t</ns1:shrsOrPrnAmt>\\n\\t\\t<ns1:investmentDiscretion>SOLE</ns1:investmentDiscretion>\\n\\t\\t<ns1:votingAuthority>\\n\\t\\t\\t<ns1:Sole>8400</ns1:Sole>\\n\\t\\t\\t<ns1:Shared>0</ns1:Shared>\\n\\t\\t\\t<ns1:None>0</ns1:None>\\n\\t\\t</ns1:votingAuthority>\\n\\t</ns1:infoTable>\\n\\t<ns1:infoTable>\\n\\t\\t<ns1:nameOfIssuer>LOCKHEED MARTIN CORP</ns1:nameOfIssuer>\\n\\t\\t<ns1:titleOfClass>COM</ns1:titleOfClass>\\n\\t\\t<ns1:cusip>539830109</ns1:cusip>\\n\\t\\t<ns1:value>5540406</ns1:value>\\n\\t\\t<ns1:shrsOrPrnAmt>\\n\\t\\t\\t<ns1:sshPrnamt>12224</ns1:sshPrnamt>\\n\\t\\t\\t<ns1:sshPrnamtType>SH</ns1:sshPrnamtType>\\n\\t\\t</ns1:shrsOrPrnAmt>\\n\\t\\t<ns1:investmentDiscretion>SOLE</ns1:investmentDiscretion>\\n\\t\\t<ns1:votingAuthority>\\n\\t\\t\\t<ns1:Sole>11328</ns1:Sole>\\n\\t\\t\\t<ns1:Shared>0</ns1:Shared>\\n\\t\\t\\t<ns1:None>896</ns1:None>\\n\\t\\t</ns1:votingAuthority>\\n\\t</ns1:infoTable>\\n\\t<ns1:infoTable>\\n\\t\\t<ns1:nameOfIssuer>LOWES COS INC</ns1:nameOfIssuer>\\n\\t\\t<ns1:titleOfClass>COM</ns1:titleOfClass>\\n\\t\\t<ns1:cusip>548661107</ns1:cusip>\\n\\t\\t<ns1:value>37736246</ns1:value>\\n\\t\\t<ns1:shrsOrPrnAmt>\\n\\t\\t\\t<ns1:sshPrnamt>169563</ns1:sshPrnamt>\\n\\t\\t\\t<ns1:sshPrnamtType>SH</ns1:sshPrnamtType>\\n\\t\\t</ns1:shrsOrPrnAmt>\\n\\t\\t<ns1:investmentDiscretion>SOLE</ns1:investmentDiscretion>\\n\\t\\t<ns1:votingAuthority>\\n\\t\\t\\t<ns1:Sole>167198</ns1:Sole>\\n\\t\\t\\t<ns1:Shared>0</ns1:Shared>\\n\\t\\t\\t<ns1:None>2365</ns1:None>\\n\\t\\t</ns1:votingAuthority>\\n\\t</ns1:infoTable>\\n\\t<ns1:infoTable>\\n\\t\\t<ns1:nameOfIssuer>LULULEMON ATHLETICA INC</ns1:nameOfIssuer>\\n\\t\\t<ns1:titleOfClass>COM</ns1:titleOfClass>\\n\\t\\t<ns1:cusip>550021109</ns1:cusip>\\n\\t\\t<ns1:value>479590</ns1:value>\\n\\t\\t<ns1:shrsOrPrnAmt>\\n\\t\\t\\t<ns1:sshPrnamt>938</ns1:sshPrnamt>\\n\\t\\t\\t<ns1:sshPrnamtType>SH</ns1:sshPrnamtType>\\n\\t\\t</ns1:shrsOrPrnAmt>\\n\\t\\t<ns1:investmentDiscretion>SOLE</ns1:investmentDiscretion>\\n\\t\\t<ns1:votingAuthority>\\n\\t\\t\\t<ns1:Sole>938</ns1:Sole>\\n\\t\\t\\t<ns1:Shared>0</ns1:Shared>\\n\\t\\t\\t<ns1:None>0</ns1:None>\\n\\t\\t</ns1:votingAuthority>\\n\\t</ns1:infoTable>\\n\\t<ns1:infoTable>\\n\\t\\t<ns1:nameOfIssuer>MASTERCARD INCORPORATED CL A</ns1:nameOfIssuer>\\n\\t\\t<ns1:titleOfClass>COM</ns1:titleOfClass>\\n\\t\\t<ns1:cusip>57636Q104</ns1:cusip>\\n\\t\\t<ns1:value>8517405</ns1:value>\\n\\t\\t<ns1:shrsOrPrnAmt>\\n\\t\\t\\t<ns1:sshPrnamt>19970</ns1:sshPrnamt>\\n\\t\\t\\t<ns1:sshPrnamtType>SH</ns1:sshPrnamtType>\\n\\t\\t</ns1:shrsOrPrnAmt>\\n\\t\\t<ns1:investmentDiscretion>SOLE</ns1:investmentDiscretion>\\n\\t\\t<ns1:votingAuthority>\\n\\t\\t\\t<ns1:Sole>19720</ns1:Sole>\\n\\t\\t\\t<ns1:Shared>0</ns1:Shared>\\n\\t\\t\\t<ns1:None>250</ns1:None>\\n\\t\\t</ns1:votingAuthority>\\n\\t</ns1:infoTable>\\n\\t<ns1:infoTable>\\n\\t\\t<ns1:nameOfIssuer>MCDONALDS CORP</ns1:nameOfIssuer>\\n\\t\\t<ns1:titleOfClass>COM</ns1:titleOfClass>\\n\\t\\t<ns1:cusip>580135101</ns1:cusip>\\n\\t\\t<ns1:value>27620500</ns1:value>\\n\\t\\t<ns1:shrsOrPrnAmt>\\n\\t\\t\\t<ns1:sshPrnamt>93152</ns1:sshPrnamt>\\n\\t\\t\\t<ns1:sshPrnamtType>SH</ns1:sshPrnamtType>\\n\\t\\t</ns1:shrsOrPrnAmt>\\n\\t\\t<ns1:investmentDiscretion>SOLE</ns1:investmentDiscretion>\\n\\t\\t<ns1:votingAuthority>\\n\\t\\t\\t<ns1:Sole>90579</ns1:Sole>\\n\\t\\t\\t<ns1:Shared>0</ns1:Shared>\\n\\t\\t\\t<ns1:None>2573</ns1:None>\\n\\t\\t</ns1:votingAuthority>\\n\\t</ns1:infoTable>\\n\\t<ns1:infoTable>\\n\\t\\t<ns1:nameOfIssuer>MERCK &amp; CO INC</ns1:nameOfIssuer>\\n\\t\\t<ns1:titleOfClass>COM</ns1:titleOfClass>\\n\\t\\t<ns1:cusip>58933Y105</ns1:cusip>\\n\\t\\t<ns1:value>6171063</ns1:value>\\n\\t\\t<ns1:shrsOrPrnAmt>\\n\\t\\t\\t<ns1:sshPrnamt>56605</ns1:sshPrnamt>\\n\\t\\t\\t<ns1:sshPrnamtType>SH</ns1:sshPrnamtType>\\n\\t\\t</ns1:shrsOrPrnAmt>\\n\\t\\t<ns1:investmentDiscretion>SOLE</ns1:investmentDiscretion>\\n\\t\\t<ns1:votingAuthority>\\n\\t\\t\\t<ns1:Sole>56179</ns1:Sole>\\n\\t\\t\\t<ns1:Shared>0</ns1:Shared>\\n\\t\\t\\t<ns1:None>426</ns1:None>\\n\\t\\t</ns1:votingAuthority>\\n\\t</ns1:infoTable>\\n\\t<ns1:infoTable>\\n\\t\\t<ns1:nameOfIssuer>METTLER TOLEDO INTERNATIONAL</ns1:nameOfIssuer>\\n\\t\\t<ns1:titleOfClass>COM</ns1:titleOfClass>\\n\\t\\t<ns1:cusip>592688105</ns1:cusip>\\n\\t\\t<ns1:value>445156</ns1:value>\\n\\t\\t<ns1:shrsOrPrnAmt>\\n\\t\\t\\t<ns1:sshPrnamt>367</ns1:sshPrnamt>\\n\\t\\t\\t<ns1:sshPrnamtType>SH</ns1:sshPrnamtType>\\n\\t\\t</ns1:shrsOrPrnAmt>\\n\\t\\t<ns1:investmentDiscretion>SOLE</ns1:investmentDiscretion>\\n\\t\\t<ns1:votingAuthority>\\n\\t\\t\\t<ns1:Sole>192</ns1:Sole>\\n\\t\\t\\t<ns1:Shared>0</ns1:Shared>\\n\\t\\t\\t<ns1:None>175</ns1:None>\\n\\t\\t</ns1:votingAuthority>\\n\\t</ns1:infoTable>\\n\\t<ns1:infoTable>\\n\\t\\t<ns1:nameOfIssuer>MICROSOFT CORP</ns1:nameOfIssuer>\\n\\t\\t<ns1:titleOfClass>COM</ns1:titleOfClass>\\n\\t\\t<ns1:cusip>594918104</ns1:cusip>\\n\\t\\t<ns1:value>96958940</ns1:value>\\n\\t\\t<ns1:shrsOrPrnAmt>\\n\\t\\t\\t<ns1:sshPrnamt>257842</ns1:sshPrnamt>\\n\\t\\t\\t<ns1:sshPrnamtType>SH</ns1:sshPrnamtType>\\n\\t\\t</ns1:shrsOrPrnAmt>\\n\\t\\t<ns1:investmentDiscretion>SOLE</ns1:investmentDiscretion>\\n\\t\\t<ns1:votingAuthority>\\n\\t\\t\\t<ns1:Sole>251585</ns1:Sole>\\n\\t\\t\\t<ns1:Shared>0</ns1:Shared>\\n\\t\\t\\t<ns1:None>6257</ns1:None>\\n\\t\\t</ns1:votingAuthority>\\n\\t</ns1:infoTable>\\n\\t<ns1:infoTable>\\n\\t\\t<ns1:nameOfIssuer>MONDELEZ INTL INC CL A</ns1:nameOfIssuer>\\n\\t\\t<ns1:titleOfClass>COM</ns1:titleOfClass>\\n\\t\\t<ns1:cusip>609207105</ns1:cusip>\\n\\t\\t<ns1:value>4824200</ns1:value>\\n\\t\\t<ns1:shrsOrPrnAmt>\\n\\t\\t\\t<ns1:sshPrnamt>66605</ns1:sshPrnamt>\\n\\t\\t\\t<ns1:sshPrnamtType>SH</ns1:sshPrnamtType>\\n\\t\\t</ns1:shrsOrPrnAmt>\\n\\t\\t<ns1:investmentDiscretion>SOLE</ns1:investmentDiscretion>\\n\\t\\t<ns1:votingAuthority>\\n\\t\\t\\t<ns1:Sole>66605</ns1:Sole>\\n\\t\\t\\t<ns1:Shared>0</ns1:Shared>\\n\\t\\t\\t<ns1:None>0</ns1:None>\\n\\t\\t</ns1:votingAuthority>\\n\\t</ns1:infoTable>\\n\\t<ns1:infoTable>\\n\\t\\t<ns1:nameOfIssuer>NETFLIX INC</ns1:nameOfIssuer>\\n\\t\\t<ns1:titleOfClass>COM</ns1:titleOfClass>\\n\\t\\t<ns1:cusip>64110L106</ns1:cusip>\\n\\t\\t<ns1:value>467405</ns1:value>\\n\\t\\t<ns1:shrsOrPrnAmt>\\n\\t\\t\\t<ns1:sshPrnamt>960</ns1:sshPrnamt>\\n\\t\\t\\t<ns1:sshPrnamtType>SH</ns1:sshPrnamtType>\\n\\t\\t</ns1:shrsOrPrnAmt>\\n\\t\\t<ns1:investmentDiscretion>SOLE</ns1:investmentDiscretion>\\n\\t\\t<ns1:votingAuthority>\\n\\t\\t\\t<ns1:Sole>947</ns1:Sole>\\n\\t\\t\\t<ns1:Shared>0</ns1:Shared>\\n\\t\\t\\t<ns1:None>13</ns1:None>\\n\\t\\t</ns1:votingAuthority>\\n\\t</ns1:infoTable>\\n\\t<ns1:infoTable>\\n\\t\\t<ns1:nameOfIssuer>NEXTERA ENERGY INC</ns1:nameOfIssuer>\\n\\t\\t<ns1:titleOfClass>COM</ns1:titleOfClass>\\n\\t\\t<ns1:cusip>65339F101</ns1:cusip>\\n\\t\\t<ns1:value>26500580</ns1:value>\\n\\t\\t<ns1:shrsOrPrnAmt>\\n\\t\\t\\t<ns1:sshPrnamt>436295</ns1:sshPrnamt>\\n\\t\\t\\t<ns1:sshPrnamtType>SH</ns1:sshPrnamtType>\\n\\t\\t</ns1:shrsOrPrnAmt>\\n\\t\\t<ns1:investmentDiscretion>SOLE</ns1:investmentDiscretion>\\n\\t\\t<ns1:votingAuthority>\\n\\t\\t\\t<ns1:Sole>427660</ns1:Sole>\\n\\t\\t\\t<ns1:Shared>0</ns1:Shared>\\n\\t\\t\\t<ns1:None>8635</ns1:None>\\n\\t\\t</ns1:votingAuthority>\\n\\t</ns1:infoTable>\\n\\t<ns1:infoTable>\\n\\t\\t<ns1:nameOfIssuer>NIKE INC CL B</ns1:nameOfIssuer>\\n\\t\\t<ns1:titleOfClass>COM</ns1:titleOfClass>\\n\\t\\t<ns1:cusip>654106103</ns1:cusip>\\n\\t\\t<ns1:value>22718164</ns1:value>\\n\\t\\t<ns1:shrsOrPrnAmt>\\n\\t\\t\\t<ns1:sshPrnamt>209249</ns1:sshPrnamt>\\n\\t\\t\\t<ns1:sshPrnamtType>SH</ns1:sshPrnamtType>\\n\\t\\t</ns1:shrsOrPrnAmt>\\n\\t\\t<ns1:investmentDiscretion>SOLE</ns1:investmentDiscretion>\\n\\t\\t<ns1:votingAuthority>\\n\\t\\t\\t<ns1:Sole>206419</ns1:Sole>\\n\\t\\t\\t<ns1:Shared>0</ns1:Shared>\\n\\t\\t\\t<ns1:None>2830</ns1:None>\\n\\t\\t</ns1:votingAuthority>\\n\\t</ns1:infoTable>\\n\\t<ns1:infoTable>\\n\\t\\t<ns1:nameOfIssuer>NUCOR CORP</ns1:nameOfIssuer>\\n\\t\\t<ns1:titleOfClass>COM</ns1:titleOfClass>\\n\\t\\t<ns1:cusip>670346105</ns1:cusip>\\n\\t\\t<ns1:value>1670784</ns1:value>\\n\\t\\t<ns1:shrsOrPrnAmt>\\n\\t\\t\\t<ns1:sshPrnamt>9600</ns1:sshPrnamt>\\n\\t\\t\\t<ns1:sshPrnamtType>SH</ns1:sshPrnamtType>\\n\\t\\t</ns1:shrsOrPrnAmt>\\n\\t\\t<ns1:investmentDiscretion>SOLE</ns1:investmentDiscretion>\\n\\t\\t<ns1:votingAuthority>\\n\\t\\t\\t<ns1:Sole>7600</ns1:Sole>\\n\\t\\t\\t<ns1:Shared>0</ns1:Shared>\\n\\t\\t\\t<ns1:None>2000</ns1:None>\\n\\t\\t</ns1:votingAuthority>\\n\\t</ns1:infoTable>\\n\\t<ns1:infoTable>\\n\\t\\t<ns1:nameOfIssuer>NVIDIA CORP</ns1:nameOfIssuer>\\n\\t\\t<ns1:titleOfClass>COM</ns1:titleOfClass>\\n\\t\\t<ns1:cusip>67066G104</ns1:cusip>\\n\\t\\t<ns1:value>75555718</ns1:value>\\n\\t\\t<ns1:shrsOrPrnAmt>\\n\\t\\t\\t<ns1:sshPrnamt>152570</ns1:sshPrnamt>\\n\\t\\t\\t<ns1:sshPrnamtType>SH</ns1:sshPrnamtType>\\n\\t\\t</ns1:shrsOrPrnAmt>\\n\\t\\t<ns1:investmentDiscretion>SOLE</ns1:investmentDiscretion>\\n\\t\\t<ns1:votingAuthority>\\n\\t\\t\\t<ns1:Sole>148786</ns1:Sole>\\n\\t\\t\\t<ns1:Shared>0</ns1:Shared>\\n\\t\\t\\t<ns1:None>3784</ns1:None>\\n\\t\\t</ns1:votingAuthority>\\n\\t</ns1:infoTable>\\n\\t<ns1:infoTable>\\n\\t\\t<ns1:nameOfIssuer>OCCIDENTAL PETROLEUM CORP</ns1:nameOfIssuer>\\n\\t\\t<ns1:titleOfClass>COM</ns1:titleOfClass>\\n\\t\\t<ns1:cusip>674599105</ns1:cusip>\\n\\t\\t<ns1:value>388115</ns1:value>\\n\\t\\t<ns1:shrsOrPrnAmt>\\n\\t\\t\\t<ns1:sshPrnamt>6500</ns1:sshPrnamt>\\n\\t\\t\\t<ns1:sshPrnamtType>SH</ns1:sshPrnamtType>\\n\\t\\t</ns1:shrsOrPrnAmt>\\n\\t\\t<ns1:investmentDiscretion>SOLE</ns1:investmentDiscretion>\\n\\t\\t<ns1:votingAuthority>\\n\\t\\t\\t<ns1:Sole>6500</ns1:Sole>\\n\\t\\t\\t<ns1:Shared>0</ns1:Shared>\\n\\t\\t\\t<ns1:None>0</ns1:None>\\n\\t\\t</ns1:votingAuthority>\\n\\t</ns1:infoTable>\\n\\t<ns1:infoTable>\\n\\t\\t<ns1:nameOfIssuer>ORACLE CORP</ns1:nameOfIssuer>\\n\\t\\t<ns1:titleOfClass>COM</ns1:titleOfClass>\\n\\t\\t<ns1:cusip>68389X105</ns1:cusip>\\n\\t\\t<ns1:value>789144</ns1:value>\\n\\t\\t<ns1:shrsOrPrnAmt>\\n\\t\\t\\t<ns1:sshPrnamt>7485</ns1:sshPrnamt>\\n\\t\\t\\t<ns1:sshPrnamtType>SH</ns1:sshPrnamtType>\\n\\t\\t</ns1:shrsOrPrnAmt>\\n\\t\\t<ns1:investmentDiscretion>SOLE</ns1:investmentDiscretion>\\n\\t\\t<ns1:votingAuthority>\\n\\t\\t\\t<ns1:Sole>7485</ns1:Sole>\\n\\t\\t\\t<ns1:Shared>0</ns1:Shared>\\n\\t\\t\\t<ns1:None>0</ns1:None>\\n\\t\\t</ns1:votingAuthority>\\n\\t</ns1:infoTable>\\n\\t<ns1:infoTable>\\n\\t\\t<ns1:nameOfIssuer>OTIS WORLDWIDE CORP</ns1:nameOfIssuer>\\n\\t\\t<ns1:titleOfClass>COM</ns1:titleOfClass>\\n\\t\\t<ns1:cusip>68902V107</ns1:cusip>\\n\\t\\t<ns1:value>223228</ns1:value>\\n\\t\\t<ns1:shrsOrPrnAmt>\\n\\t\\t\\t<ns1:sshPrnamt>2495</ns1:sshPrnamt>\\n\\t\\t\\t<ns1:sshPrnamtType>SH</ns1:sshPrnamtType>\\n\\t\\t</ns1:shrsOrPrnAmt>\\n\\t\\t<ns1:investmentDiscretion>SOLE</ns1:investmentDiscretion>\\n\\t\\t<ns1:votingAuthority>\\n\\t\\t\\t<ns1:Sole>2495</ns1:Sole>\\n\\t\\t\\t<ns1:Shared>0</ns1:Shared>\\n\\t\\t\\t<ns1:None>0</ns1:None>\\n\\t\\t</ns1:votingAuthority>\\n\\t</ns1:infoTable>\\n\\t<ns1:infoTable>\\n\\t\\t<ns1:nameOfIssuer>PEPSICO INC</ns1:nameOfIssuer>\\n\\t\\t<ns1:titleOfClass>COM</ns1:titleOfClass>\\n\\t\\t<ns1:cusip>713448108</ns1:cusip>\\n\\t\\t<ns1:value>17276974</ns1:value>\\n\\t\\t<ns1:shrsOrPrnAmt>\\n\\t\\t\\t<ns1:sshPrnamt>101725</ns1:sshPrnamt>\\n\\t\\t\\t<ns1:sshPrnamtType>SH</ns1:sshPrnamtType>\\n\\t\\t</ns1:shrsOrPrnAmt>\\n\\t\\t<ns1:investmentDiscretion>SOLE</ns1:investmentDiscretion>\\n\\t\\t<ns1:votingAuthority>\\n\\t\\t\\t<ns1:Sole>100062</ns1:Sole>\\n\\t\\t\\t<ns1:Shared>0</ns1:Shared>\\n\\t\\t\\t<ns1:None>1663</ns1:None>\\n\\t\\t</ns1:votingAuthority>\\n\\t</ns1:infoTable>\\n\\t<ns1:infoTable>\\n\\t\\t<ns1:nameOfIssuer>PFIZER INC</ns1:nameOfIssuer>\\n\\t\\t<ns1:titleOfClass>COM</ns1:titleOfClass>\\n\\t\\t<ns1:cusip>717081103</ns1:cusip>\\n\\t\\t<ns1:value>4908253</ns1:value>\\n\\t\\t<ns1:shrsOrPrnAmt>\\n\\t\\t\\t<ns1:sshPrnamt>170485</ns1:sshPrnamt>\\n\\t\\t\\t<ns1:sshPrnamtType>SH</ns1:sshPrnamtType>\\n\\t\\t</ns1:shrsOrPrnAmt>\\n\\t\\t<ns1:investmentDiscretion>SOLE</ns1:investmentDiscretion>\\n\\t\\t<ns1:votingAuthority>\\n\\t\\t\\t<ns1:Sole>167230</ns1:Sole>\\n\\t\\t\\t<ns1:Shared>0</ns1:Shared>\\n\\t\\t\\t<ns1:None>3255</ns1:None>\\n\\t\\t</ns1:votingAuthority>\\n\\t</ns1:infoTable>\\n\\t<ns1:infoTable>\\n\\t\\t<ns1:nameOfIssuer>PHILIP MORRIS INTL INC</ns1:nameOfIssuer>\\n\\t\\t<ns1:titleOfClass>COM</ns1:titleOfClass>\\n\\t\\t<ns1:cusip>718172109</ns1:cusip>\\n\\t\\t<ns1:value>576052</ns1:value>\\n\\t\\t<ns1:shrsOrPrnAmt>\\n\\t\\t\\t<ns1:sshPrnamt>6123</ns1:sshPrnamt>\\n\\t\\t\\t<ns1:sshPrnamtType>SH</ns1:sshPrnamtType>\\n\\t\\t</ns1:shrsOrPrnAmt>\\n\\t\\t<ns1:investmentDiscretion>SOLE</ns1:investmentDiscretion>\\n\\t\\t<ns1:votingAuthority>\\n\\t\\t\\t<ns1:Sole>6123</ns1:Sole>\\n\\t\\t\\t<ns1:Shared>0</ns1:Shared>\\n\\t\\t\\t<ns1:None>0</ns1:None>\\n\\t\\t</ns1:votingAuthority>\\n\\t</ns1:infoTable>\\n\\t<ns1:infoTable>\\n\\t\\t<ns1:nameOfIssuer>PROCTER AND GAMBLE CO</ns1:nameOfIssuer>\\n\\t\\t<ns1:titleOfClass>COM</ns1:titleOfClass>\\n\\t\\t<ns1:cusip>742718109</ns1:cusip>\\n\\t\\t<ns1:value>16157617</ns1:value>\\n\\t\\t<ns1:shrsOrPrnAmt>\\n\\t\\t\\t<ns1:sshPrnamt>110261</ns1:sshPrnamt>\\n\\t\\t\\t<ns1:sshPrnamtType>SH</ns1:sshPrnamtType>\\n\\t\\t</ns1:shrsOrPrnAmt>\\n\\t\\t<ns1:investmentDiscretion>SOLE</ns1:investmentDiscretion>\\n\\t\\t<ns1:votingAuthority>\\n\\t\\t\\t<ns1:Sole>108701</ns1:Sole>\\n\\t\\t\\t<ns1:Shared>0</ns1:Shared>\\n\\t\\t\\t<ns1:None>1560</ns1:None>\\n\\t\\t</ns1:votingAuthority>\\n\\t</ns1:infoTable>\\n\\t<ns1:infoTable>\\n\\t\\t<ns1:nameOfIssuer>QUALCOMM INC</ns1:nameOfIssuer>\\n\\t\\t<ns1:titleOfClass>COM</ns1:titleOfClass>\\n\\t\\t<ns1:cusip>747525103</ns1:cusip>\\n\\t\\t<ns1:value>1331107</ns1:value>\\n\\t\\t<ns1:shrsOrPrnAmt>\\n\\t\\t\\t<ns1:sshPrnamt>9204</ns1:sshPrnamt>\\n\\t\\t\\t<ns1:sshPrnamtType>SH</ns1:sshPrnamtType>\\n\\t\\t</ns1:shrsOrPrnAmt>\\n\\t\\t<ns1:investmentDiscretion>SOLE</ns1:investmentDiscretion>\\n\\t\\t<ns1:votingAuthority>\\n\\t\\t\\t<ns1:Sole>9204</ns1:Sole>\\n\\t\\t\\t<ns1:Shared>0</ns1:Shared>\\n\\t\\t\\t<ns1:None>0</ns1:None>\\n\\t\\t</ns1:votingAuthority>\\n\\t</ns1:infoTable>\\n\\t<ns1:infoTable>\\n\\t\\t<ns1:nameOfIssuer>RTX CORPORATION</ns1:nameOfIssuer>\\n\\t\\t<ns1:titleOfClass>COM</ns1:titleOfClass>\\n\\t\\t<ns1:cusip>75513E101</ns1:cusip>\\n\\t\\t<ns1:value>1923020</ns1:value>\\n\\t\\t<ns1:shrsOrPrnAmt>\\n\\t\\t\\t<ns1:sshPrnamt>22855</ns1:sshPrnamt>\\n\\t\\t\\t<ns1:sshPrnamtType>SH</ns1:sshPrnamtType>\\n\\t\\t</ns1:shrsOrPrnAmt>\\n\\t\\t<ns1:investmentDiscretion>SOLE</ns1:investmentDiscretion>\\n\\t\\t<ns1:votingAuthority>\\n\\t\\t\\t<ns1:Sole>22655</ns1:Sole>\\n\\t\\t\\t<ns1:Shared>0</ns1:Shared>\\n\\t\\t\\t<ns1:None>200</ns1:None>\\n\\t\\t</ns1:votingAuthority>\\n\\t</ns1:infoTable>\\n\\t<ns1:infoTable>\\n\\t\\t<ns1:nameOfIssuer>SALESFORCE INC</ns1:nameOfIssuer>\\n\\t\\t<ns1:titleOfClass>COM</ns1:titleOfClass>\\n\\t\\t<ns1:cusip>79466L302</ns1:cusip>\\n\\t\\t<ns1:value>279718</ns1:value>\\n\\t\\t<ns1:shrsOrPrnAmt>\\n\\t\\t\\t<ns1:sshPrnamt>1063</ns1:sshPrnamt>\\n\\t\\t\\t<ns1:sshPrnamtType>SH</ns1:sshPrnamtType>\\n\\t\\t</ns1:shrsOrPrnAmt>\\n\\t\\t<ns1:investmentDiscretion>SOLE</ns1:investmentDiscretion>\\n\\t\\t<ns1:votingAuthority>\\n\\t\\t\\t<ns1:Sole>1063</ns1:Sole>\\n\\t\\t\\t<ns1:Shared>0</ns1:Shared>\\n\\t\\t\\t<ns1:None>0</ns1:None>\\n\\t\\t</ns1:votingAuthority>\\n\\t</ns1:infoTable>\\n\\t<ns1:infoTable>\\n\\t\\t<ns1:nameOfIssuer>SERVICENOW INC</ns1:nameOfIssuer>\\n\\t\\t<ns1:titleOfClass>COM</ns1:titleOfClass>\\n\\t\\t<ns1:cusip>81762P102</ns1:cusip>\\n\\t\\t<ns1:value>7072671</ns1:value>\\n\\t\\t<ns1:shrsOrPrnAmt>\\n\\t\\t\\t<ns1:sshPrnamt>10011</ns1:sshPrnamt>\\n\\t\\t\\t<ns1:sshPrnamtType>SH</ns1:sshPrnamtType>\\n\\t\\t</ns1:shrsOrPrnAmt>\\n\\t\\t<ns1:investmentDiscretion>SOLE</ns1:investmentDiscretion>\\n\\t\\t<ns1:votingAuthority>\\n\\t\\t\\t<ns1:Sole>9651</ns1:Sole>\\n\\t\\t\\t<ns1:Shared>0</ns1:Shared>\\n\\t\\t\\t<ns1:None>360</ns1:None>\\n\\t\\t</ns1:votingAuthority>\\n\\t</ns1:infoTable>\\n\\t<ns1:infoTable>\\n\\t\\t<ns1:nameOfIssuer>SHERWIN WILLIAMS CO</ns1:nameOfIssuer>\\n\\t\\t<ns1:titleOfClass>COM</ns1:titleOfClass>\\n\\t\\t<ns1:cusip>824348106</ns1:cusip>\\n\\t\\t<ns1:value>11472930</ns1:value>\\n\\t\\t<ns1:shrsOrPrnAmt>\\n\\t\\t\\t<ns1:sshPrnamt>36784</ns1:sshPrnamt>\\n\\t\\t\\t<ns1:sshPrnamtType>SH</ns1:sshPrnamtType>\\n\\t\\t</ns1:shrsOrPrnAmt>\\n\\t\\t<ns1:investmentDiscretion>SOLE</ns1:investmentDiscretion>\\n\\t\\t<ns1:votingAuthority>\\n\\t\\t\\t<ns1:Sole>36149</ns1:Sole>\\n\\t\\t\\t<ns1:Shared>0</ns1:Shared>\\n\\t\\t\\t<ns1:None>635</ns1:None>\\n\\t\\t</ns1:votingAuthority>\\n\\t</ns1:infoTable>\\n\\t<ns1:infoTable>\\n\\t\\t<ns1:nameOfIssuer>STARBUCKS CORP</ns1:nameOfIssuer>\\n\\t\\t<ns1:titleOfClass>COM</ns1:titleOfClass>\\n\\t\\t<ns1:cusip>855244109</ns1:cusip>\\n\\t\\t<ns1:value>927265</ns1:value>\\n\\t\\t<ns1:shrsOrPrnAmt>\\n\\t\\t\\t<ns1:sshPrnamt>9658</ns1:sshPrnamt>\\n\\t\\t\\t<ns1:sshPrnamtType>SH</ns1:sshPrnamtType>\\n\\t\\t</ns1:shrsOrPrnAmt>\\n\\t\\t<ns1:investmentDiscretion>SOLE</ns1:investmentDiscretion>\\n\\t\\t<ns1:votingAuthority>\\n\\t\\t\\t<ns1:Sole>8998</ns1:Sole>\\n\\t\\t\\t<ns1:Shared>0</ns1:Shared>\\n\\t\\t\\t<ns1:None>660</ns1:None>\\n\\t\\t</ns1:votingAuthority>\\n\\t</ns1:infoTable>\\n\\t<ns1:infoTable>\\n\\t\\t<ns1:nameOfIssuer>STATE STREET CORP</ns1:nameOfIssuer>\\n\\t\\t<ns1:titleOfClass>COM</ns1:titleOfClass>\\n\\t\\t<ns1:cusip>857477103</ns1:cusip>\\n\\t\\t<ns1:value>703569</ns1:value>\\n\\t\\t<ns1:shrsOrPrnAmt>\\n\\t\\t\\t<ns1:sshPrnamt>9083</ns1:sshPrnamt>\\n\\t\\t\\t<ns1:sshPrnamtType>SH</ns1:sshPrnamtType>\\n\\t\\t</ns1:shrsOrPrnAmt>\\n\\t\\t<ns1:investmentDiscretion>SOLE</ns1:investmentDiscretion>\\n\\t\\t<ns1:votingAuthority>\\n\\t\\t\\t<ns1:Sole>9083</ns1:Sole>\\n\\t\\t\\t<ns1:Shared>0</ns1:Shared>\\n\\t\\t\\t<ns1:None>0</ns1:None>\\n\\t\\t</ns1:votingAuthority>\\n\\t</ns1:infoTable>\\n\\t<ns1:infoTable>\\n\\t\\t<ns1:nameOfIssuer>SYSCO CORP</ns1:nameOfIssuer>\\n\\t\\t<ns1:titleOfClass>COM</ns1:titleOfClass>\\n\\t\\t<ns1:cusip>871829107</ns1:cusip>\\n\\t\\t<ns1:value>703437</ns1:value>\\n\\t\\t<ns1:shrsOrPrnAmt>\\n\\t\\t\\t<ns1:sshPrnamt>9619</ns1:sshPrnamt>\\n\\t\\t\\t<ns1:sshPrnamtType>SH</ns1:sshPrnamtType>\\n\\t\\t</ns1:shrsOrPrnAmt>\\n\\t\\t<ns1:investmentDiscretion>SOLE</ns1:investmentDiscretion>\\n\\t\\t<ns1:votingAuthority>\\n\\t\\t\\t<ns1:Sole>9619</ns1:Sole>\\n\\t\\t\\t<ns1:Shared>0</ns1:Shared>\\n\\t\\t\\t<ns1:None>0</ns1:None>\\n\\t\\t</ns1:votingAuthority>\\n\\t</ns1:infoTable>\\n\\t<ns1:infoTable>\\n\\t\\t<ns1:nameOfIssuer>T ROWE PRICE GROUP INC</ns1:nameOfIssuer>\\n\\t\\t<ns1:titleOfClass>COM</ns1:titleOfClass>\\n\\t\\t<ns1:cusip>74144T108</ns1:cusip>\\n\\t\\t<ns1:value>9137712</ns1:value>\\n\\t\\t<ns1:shrsOrPrnAmt>\\n\\t\\t\\t<ns1:sshPrnamt>84852</ns1:sshPrnamt>\\n\\t\\t\\t<ns1:sshPrnamtType>SH</ns1:sshPrnamtType>\\n\\t\\t</ns1:shrsOrPrnAmt>\\n\\t\\t<ns1:investmentDiscretion>SOLE</ns1:investmentDiscretion>\\n\\t\\t<ns1:votingAuthority>\\n\\t\\t\\t<ns1:Sole>84372</ns1:Sole>\\n\\t\\t\\t<ns1:Shared>0</ns1:Shared>\\n\\t\\t\\t<ns1:None>480</ns1:None>\\n\\t\\t</ns1:votingAuthority>\\n\\t</ns1:infoTable>\\n\\t<ns1:infoTable>\\n\\t\\t<ns1:nameOfIssuer>TARGET CORP</ns1:nameOfIssuer>\\n\\t\\t<ns1:titleOfClass>COM</ns1:titleOfClass>\\n\\t\\t<ns1:cusip>87612E106</ns1:cusip>\\n\\t\\t<ns1:value>864489</ns1:value>\\n\\t\\t<ns1:shrsOrPrnAmt>\\n\\t\\t\\t<ns1:sshPrnamt>6070</ns1:sshPrnamt>\\n\\t\\t\\t<ns1:sshPrnamtType>SH</ns1:sshPrnamtType>\\n\\t\\t</ns1:shrsOrPrnAmt>\\n\\t\\t<ns1:investmentDiscretion>SOLE</ns1:investmentDiscretion>\\n\\t\\t<ns1:votingAuthority>\\n\\t\\t\\t<ns1:Sole>6070</ns1:Sole>\\n\\t\\t\\t<ns1:Shared>0</ns1:Shared>\\n\\t\\t\\t<ns1:None>0</ns1:None>\\n\\t\\t</ns1:votingAuthority>\\n\\t</ns1:infoTable>\\n\\t<ns1:infoTable>\\n\\t\\t<ns1:nameOfIssuer>TESLA INC</ns1:nameOfIssuer>\\n\\t\\t<ns1:titleOfClass>COM</ns1:titleOfClass>\\n\\t\\t<ns1:cusip>88160R101</ns1:cusip>\\n\\t\\t<ns1:value>7221574</ns1:value>\\n\\t\\t<ns1:shrsOrPrnAmt>\\n\\t\\t\\t<ns1:sshPrnamt>29063</ns1:sshPrnamt>\\n\\t\\t\\t<ns1:sshPrnamtType>SH</ns1:sshPrnamtType>\\n\\t\\t</ns1:shrsOrPrnAmt>\\n\\t\\t<ns1:investmentDiscretion>SOLE</ns1:investmentDiscretion>\\n\\t\\t<ns1:votingAuthority>\\n\\t\\t\\t<ns1:Sole>28856</ns1:Sole>\\n\\t\\t\\t<ns1:Shared>0</ns1:Shared>\\n\\t\\t\\t<ns1:None>207</ns1:None>\\n\\t\\t</ns1:votingAuthority>\\n\\t</ns1:infoTable>\\n\\t<ns1:infoTable>\\n\\t\\t<ns1:nameOfIssuer>THERMO FISHER SCIENTIFIC INC</ns1:nameOfIssuer>\\n\\t\\t<ns1:titleOfClass>COM</ns1:titleOfClass>\\n\\t\\t<ns1:cusip>883556102</ns1:cusip>\\n\\t\\t<ns1:value>46886804</ns1:value>\\n\\t\\t<ns1:shrsOrPrnAmt>\\n\\t\\t\\t<ns1:sshPrnamt>88334</ns1:sshPrnamt>\\n\\t\\t\\t<ns1:sshPrnamtType>SH</ns1:sshPrnamtType>\\n\\t\\t</ns1:shrsOrPrnAmt>\\n\\t\\t<ns1:investmentDiscretion>SOLE</ns1:investmentDiscretion>\\n\\t\\t<ns1:votingAuthority>\\n\\t\\t\\t<ns1:Sole>85509</ns1:Sole>\\n\\t\\t\\t<ns1:Shared>0</ns1:Shared>\\n\\t\\t\\t<ns1:None>2825</ns1:None>\\n\\t\\t</ns1:votingAuthority>\\n\\t</ns1:infoTable>\\n\\t<ns1:infoTable>\\n\\t\\t<ns1:nameOfIssuer>TJX COS INC</ns1:nameOfIssuer>\\n\\t\\t<ns1:titleOfClass>COM</ns1:titleOfClass>\\n\\t\\t<ns1:cusip>872540109</ns1:cusip>\\n\\t\\t<ns1:value>6064254</ns1:value>\\n\\t\\t<ns1:shrsOrPrnAmt>\\n\\t\\t\\t<ns1:sshPrnamt>64644</ns1:sshPrnamt>\\n\\t\\t\\t<ns1:sshPrnamtType>SH</ns1:sshPrnamtType>\\n\\t\\t</ns1:shrsOrPrnAmt>\\n\\t\\t<ns1:investmentDiscretion>SOLE</ns1:investmentDiscretion>\\n\\t\\t<ns1:votingAuthority>\\n\\t\\t\\t<ns1:Sole>64644</ns1:Sole>\\n\\t\\t\\t<ns1:Shared>0</ns1:Shared>\\n\\t\\t\\t<ns1:None>0</ns1:None>\\n\\t\\t</ns1:votingAuthority>\\n\\t</ns1:infoTable>\\n\\t<ns1:infoTable>\\n\\t\\t<ns1:nameOfIssuer>TRAVELERS COMPANIES INC</ns1:nameOfIssuer>\\n\\t\\t<ns1:titleOfClass>COM</ns1:titleOfClass>\\n\\t\\t<ns1:cusip>89417E109</ns1:cusip>\\n\\t\\t<ns1:value>369932</ns1:value>\\n\\t\\t<ns1:shrsOrPrnAmt>\\n\\t\\t\\t<ns1:sshPrnamt>1942</ns1:sshPrnamt>\\n\\t\\t\\t<ns1:sshPrnamtType>SH</ns1:sshPrnamtType>\\n\\t\\t</ns1:shrsOrPrnAmt>\\n\\t\\t<ns1:investmentDiscretion>SOLE</ns1:investmentDiscretion>\\n\\t\\t<ns1:votingAuthority>\\n\\t\\t\\t<ns1:Sole>1942</ns1:Sole>\\n\\t\\t\\t<ns1:Shared>0</ns1:Shared>\\n\\t\\t\\t<ns1:None>0</ns1:None>\\n\\t\\t</ns1:votingAuthority>\\n\\t</ns1:infoTable>\\n\\t<ns1:infoTable>\\n\\t\\t<ns1:nameOfIssuer>TYLER TECHNOLOGIES INC</ns1:nameOfIssuer>\\n\\t\\t<ns1:titleOfClass>COM</ns1:titleOfClass>\\n\\t\\t<ns1:cusip>902252105</ns1:cusip>\\n\\t\\t<ns1:value>365855</ns1:value>\\n\\t\\t<ns1:shrsOrPrnAmt>\\n\\t\\t\\t<ns1:sshPrnamt>875</ns1:sshPrnamt>\\n\\t\\t\\t<ns1:sshPrnamtType>SH</ns1:sshPrnamtType>\\n\\t\\t</ns1:shrsOrPrnAmt>\\n\\t\\t<ns1:investmentDiscretion>SOLE</ns1:investmentDiscretion>\\n\\t\\t<ns1:votingAuthority>\\n\\t\\t\\t<ns1:Sole>175</ns1:Sole>\\n\\t\\t\\t<ns1:Shared>0</ns1:Shared>\\n\\t\\t\\t<ns1:None>700</ns1:None>\\n\\t\\t</ns1:votingAuthority>\\n\\t</ns1:infoTable>\\n\\t<ns1:infoTable>\\n\\t\\t<ns1:nameOfIssuer>UBER TECHNOLOGIES INC</ns1:nameOfIssuer>\\n\\t\\t<ns1:titleOfClass>COM</ns1:titleOfClass>\\n\\t\\t<ns1:cusip>90353T100</ns1:cusip>\\n\\t\\t<ns1:value>811185</ns1:value>\\n\\t\\t<ns1:shrsOrPrnAmt>\\n\\t\\t\\t<ns1:sshPrnamt>13175</ns1:sshPrnamt>\\n\\t\\t\\t<ns1:sshPrnamtType>SH</ns1:sshPrnamtType>\\n\\t\\t</ns1:shrsOrPrnAmt>\\n\\t\\t<ns1:investmentDiscretion>SOLE</ns1:investmentDiscretion>\\n\\t\\t<ns1:votingAuthority>\\n\\t\\t\\t<ns1:Sole>13175</ns1:Sole>\\n\\t\\t\\t<ns1:Shared>0</ns1:Shared>\\n\\t\\t\\t<ns1:None>0</ns1:None>\\n\\t\\t</ns1:votingAuthority>\\n\\t</ns1:infoTable>\\n\\t<ns1:infoTable>\\n\\t\\t<ns1:nameOfIssuer>UNION PACIFIC CORP</ns1:nameOfIssuer>\\n\\t\\t<ns1:titleOfClass>COM</ns1:titleOfClass>\\n\\t\\t<ns1:cusip>907818108</ns1:cusip>\\n\\t\\t<ns1:value>50020513</ns1:value>\\n\\t\\t<ns1:shrsOrPrnAmt>\\n\\t\\t\\t<ns1:sshPrnamt>203650</ns1:sshPrnamt>\\n\\t\\t\\t<ns1:sshPrnamtType>SH</ns1:sshPrnamtType>\\n\\t\\t</ns1:shrsOrPrnAmt>\\n\\t\\t<ns1:investmentDiscretion>SOLE</ns1:investmentDiscretion>\\n\\t\\t<ns1:votingAuthority>\\n\\t\\t\\t<ns1:Sole>201098</ns1:Sole>\\n\\t\\t\\t<ns1:Shared>0</ns1:Shared>\\n\\t\\t\\t<ns1:None>2552</ns1:None>\\n\\t\\t</ns1:votingAuthority>\\n\\t</ns1:infoTable>\\n\\t<ns1:infoTable>\\n\\t\\t<ns1:nameOfIssuer>UNITED PARCEL SERVICE INC CL B</ns1:nameOfIssuer>\\n\\t\\t<ns1:titleOfClass>COM</ns1:titleOfClass>\\n\\t\\t<ns1:cusip>911312106</ns1:cusip>\\n\\t\\t<ns1:value>7117645</ns1:value>\\n\\t\\t<ns1:shrsOrPrnAmt>\\n\\t\\t\\t<ns1:sshPrnamt>45269</ns1:sshPrnamt>\\n\\t\\t\\t<ns1:sshPrnamtType>SH</ns1:sshPrnamtType>\\n\\t\\t</ns1:shrsOrPrnAmt>\\n\\t\\t<ns1:investmentDiscretion>SOLE</ns1:investmentDiscretion>\\n\\t\\t<ns1:votingAuthority>\\n\\t\\t\\t<ns1:Sole>45089</ns1:Sole>\\n\\t\\t\\t<ns1:Shared>0</ns1:Shared>\\n\\t\\t\\t<ns1:None>180</ns1:None>\\n\\t\\t</ns1:votingAuthority>\\n\\t</ns1:infoTable>\\n\\t<ns1:infoTable>\\n\\t\\t<ns1:nameOfIssuer>UNITED RENTALS INC</ns1:nameOfIssuer>\\n\\t\\t<ns1:titleOfClass>COM</ns1:titleOfClass>\\n\\t\\t<ns1:cusip>911363109</ns1:cusip>\\n\\t\\t<ns1:value>3149796</ns1:value>\\n\\t\\t<ns1:shrsOrPrnAmt>\\n\\t\\t\\t<ns1:sshPrnamt>5493</ns1:sshPrnamt>\\n\\t\\t\\t<ns1:sshPrnamtType>SH</ns1:sshPrnamtType>\\n\\t\\t</ns1:shrsOrPrnAmt>\\n\\t\\t<ns1:investmentDiscretion>SOLE</ns1:investmentDiscretion>\\n\\t\\t<ns1:votingAuthority>\\n\\t\\t\\t<ns1:Sole>5352</ns1:Sole>\\n\\t\\t\\t<ns1:Shared>0</ns1:Shared>\\n\\t\\t\\t<ns1:None>141</ns1:None>\\n\\t\\t</ns1:votingAuthority>\\n\\t</ns1:infoTable>\\n\\t<ns1:infoTable>\\n\\t\\t<ns1:nameOfIssuer>UNITEDHEALTH GROUP INC</ns1:nameOfIssuer>\\n\\t\\t<ns1:titleOfClass>COM</ns1:titleOfClass>\\n\\t\\t<ns1:cusip>91324P102</ns1:cusip>\\n\\t\\t<ns1:value>1384616</ns1:value>\\n\\t\\t<ns1:shrsOrPrnAmt>\\n\\t\\t\\t<ns1:sshPrnamt>2630</ns1:sshPrnamt>\\n\\t\\t\\t<ns1:sshPrnamtType>SH</ns1:sshPrnamtType>\\n\\t\\t</ns1:shrsOrPrnAmt>\\n\\t\\t<ns1:investmentDiscretion>SOLE</ns1:investmentDiscretion>\\n\\t\\t<ns1:votingAuthority>\\n\\t\\t\\t<ns1:Sole>2555</ns1:Sole>\\n\\t\\t\\t<ns1:Shared>0</ns1:Shared>\\n\\t\\t\\t<ns1:None>75</ns1:None>\\n\\t\\t</ns1:votingAuthority>\\n\\t</ns1:infoTable>\\n\\t<ns1:infoTable>\\n\\t\\t<ns1:nameOfIssuer>US BANCORP DEL</ns1:nameOfIssuer>\\n\\t\\t<ns1:titleOfClass>COM</ns1:titleOfClass>\\n\\t\\t<ns1:cusip>902973304</ns1:cusip>\\n\\t\\t<ns1:value>929784</ns1:value>\\n\\t\\t<ns1:shrsOrPrnAmt>\\n\\t\\t\\t<ns1:sshPrnamt>21483</ns1:sshPrnamt>\\n\\t\\t\\t<ns1:sshPrnamtType>SH</ns1:sshPrnamtType>\\n\\t\\t</ns1:shrsOrPrnAmt>\\n\\t\\t<ns1:investmentDiscretion>SOLE</ns1:investmentDiscretion>\\n\\t\\t<ns1:votingAuthority>\\n\\t\\t\\t<ns1:Sole>20733</ns1:Sole>\\n\\t\\t\\t<ns1:Shared>0</ns1:Shared>\\n\\t\\t\\t<ns1:None>750</ns1:None>\\n\\t\\t</ns1:votingAuthority>\\n\\t</ns1:infoTable>\\n\\t<ns1:infoTable>\\n\\t\\t<ns1:nameOfIssuer>VERIZON COMMUNICATIONS INC</ns1:nameOfIssuer>\\n\\t\\t<ns1:titleOfClass>COM</ns1:titleOfClass>\\n\\t\\t<ns1:cusip>92343V104</ns1:cusip>\\n\\t\\t<ns1:value>892891</ns1:value>\\n\\t\\t<ns1:shrsOrPrnAmt>\\n\\t\\t\\t<ns1:sshPrnamt>23684</ns1:sshPrnamt>\\n\\t\\t\\t<ns1:sshPrnamtType>SH</ns1:sshPrnamtType>\\n\\t\\t</ns1:shrsOrPrnAmt>\\n\\t\\t<ns1:investmentDiscretion>SOLE</ns1:investmentDiscretion>\\n\\t\\t<ns1:votingAuthority>\\n\\t\\t\\t<ns1:Sole>21629</ns1:Sole>\\n\\t\\t\\t<ns1:Shared>0</ns1:Shared>\\n\\t\\t\\t<ns1:None>2055</ns1:None>\\n\\t\\t</ns1:votingAuthority>\\n\\t</ns1:infoTable>\\n\\t<ns1:infoTable>\\n\\t\\t<ns1:nameOfIssuer>VISA INC CL A</ns1:nameOfIssuer>\\n\\t\\t<ns1:titleOfClass>COM</ns1:titleOfClass>\\n\\t\\t<ns1:cusip>92826C839</ns1:cusip>\\n\\t\\t<ns1:value>69889656</ns1:value>\\n\\t\\t<ns1:shrsOrPrnAmt>\\n\\t\\t\\t<ns1:sshPrnamt>268445</ns1:sshPrnamt>\\n\\t\\t\\t<ns1:sshPrnamtType>SH</ns1:sshPrnamtType>\\n\\t\\t</ns1:shrsOrPrnAmt>\\n\\t\\t<ns1:investmentDiscretion>SOLE</ns1:investmentDiscretion>\\n\\t\\t<ns1:votingAuthority>\\n\\t\\t\\t<ns1:Sole>263707</ns1:Sole>\\n\\t\\t\\t<ns1:Shared>0</ns1:Shared>\\n\\t\\t\\t<ns1:None>4738</ns1:None>\\n\\t\\t</ns1:votingAuthority>\\n\\t</ns1:infoTable>\\n\\t<ns1:infoTable>\\n\\t\\t<ns1:nameOfIssuer>WABTEC CORP</ns1:nameOfIssuer>\\n\\t\\t<ns1:titleOfClass>COM</ns1:titleOfClass>\\n\\t\\t<ns1:cusip>929740108</ns1:cusip>\\n\\t\\t<ns1:value>275627</ns1:value>\\n\\t\\t<ns1:shrsOrPrnAmt>\\n\\t\\t\\t<ns1:sshPrnamt>2172</ns1:sshPrnamt>\\n\\t\\t\\t<ns1:sshPrnamtType>SH</ns1:sshPrnamtType>\\n\\t\\t</ns1:shrsOrPrnAmt>\\n\\t\\t<ns1:investmentDiscretion>SOLE</ns1:investmentDiscretion>\\n\\t\\t<ns1:votingAuthority>\\n\\t\\t\\t<ns1:Sole>2172</ns1:Sole>\\n\\t\\t\\t<ns1:Shared>0</ns1:Shared>\\n\\t\\t\\t<ns1:None>0</ns1:None>\\n\\t\\t</ns1:votingAuthority>\\n\\t</ns1:infoTable>\\n\\t<ns1:infoTable>\\n\\t\\t<ns1:nameOfIssuer>WALMART INC</ns1:nameOfIssuer>\\n\\t\\t<ns1:titleOfClass>COM</ns1:titleOfClass>\\n\\t\\t<ns1:cusip>931142103</ns1:cusip>\\n\\t\\t<ns1:value>17262517</ns1:value>\\n\\t\\t<ns1:shrsOrPrnAmt>\\n\\t\\t\\t<ns1:sshPrnamt>109499</ns1:sshPrnamt>\\n\\t\\t\\t<ns1:sshPrnamtType>SH</ns1:sshPrnamtType>\\n\\t\\t</ns1:shrsOrPrnAmt>\\n\\t\\t<ns1:investmentDiscretion>SOLE</ns1:investmentDiscretion>\\n\\t\\t<ns1:votingAuthority>\\n\\t\\t\\t<ns1:Sole>104891</ns1:Sole>\\n\\t\\t\\t<ns1:Shared>0</ns1:Shared>\\n\\t\\t\\t<ns1:None>4608</ns1:None>\\n\\t\\t</ns1:votingAuthority>\\n\\t</ns1:infoTable>\\n\\t<ns1:infoTable>\\n\\t\\t<ns1:nameOfIssuer>WASTE MANAGEMENT INC</ns1:nameOfIssuer>\\n\\t\\t<ns1:titleOfClass>COM</ns1:titleOfClass>\\n\\t\\t<ns1:cusip>94106L109</ns1:cusip>\\n\\t\\t<ns1:value>17701763</ns1:value>\\n\\t\\t<ns1:shrsOrPrnAmt>\\n\\t\\t\\t<ns1:sshPrnamt>98837</ns1:sshPrnamt>\\n\\t\\t\\t<ns1:sshPrnamtType>SH</ns1:sshPrnamtType>\\n\\t\\t</ns1:shrsOrPrnAmt>\\n\\t\\t<ns1:investmentDiscretion>SOLE</ns1:investmentDiscretion>\\n\\t\\t<ns1:votingAuthority>\\n\\t\\t\\t<ns1:Sole>97827</ns1:Sole>\\n\\t\\t\\t<ns1:Shared>0</ns1:Shared>\\n\\t\\t\\t<ns1:None>1010</ns1:None>\\n\\t\\t</ns1:votingAuthority>\\n\\t</ns1:infoTable>\\n\\t<ns1:infoTable>\\n\\t\\t<ns1:nameOfIssuer>WELLS FARGO CO</ns1:nameOfIssuer>\\n\\t\\t<ns1:titleOfClass>COM</ns1:titleOfClass>\\n\\t\\t<ns1:cusip>949746101</ns1:cusip>\\n\\t\\t<ns1:value>429937</ns1:value>\\n\\t\\t<ns1:shrsOrPrnAmt>\\n\\t\\t\\t<ns1:sshPrnamt>8735</ns1:sshPrnamt>\\n\\t\\t\\t<ns1:sshPrnamtType>SH</ns1:sshPrnamtType>\\n\\t\\t</ns1:shrsOrPrnAmt>\\n\\t\\t<ns1:investmentDiscretion>SOLE</ns1:investmentDiscretion>\\n\\t\\t<ns1:votingAuthority>\\n\\t\\t\\t<ns1:Sole>8335</ns1:Sole>\\n\\t\\t\\t<ns1:Shared>0</ns1:Shared>\\n\\t\\t\\t<ns1:None>400</ns1:None>\\n\\t\\t</ns1:votingAuthority>\\n\\t</ns1:infoTable>\\n\\t<ns1:infoTable>\\n\\t\\t<ns1:nameOfIssuer>WEYERHAEUSER CO</ns1:nameOfIssuer>\\n\\t\\t<ns1:titleOfClass>COM</ns1:titleOfClass>\\n\\t\\t<ns1:cusip>962166104</ns1:cusip>\\n\\t\\t<ns1:value>1058746</ns1:value>\\n\\t\\t<ns1:shrsOrPrnAmt>\\n\\t\\t\\t<ns1:sshPrnamt>30450</ns1:sshPrnamt>\\n\\t\\t\\t<ns1:sshPrnamtType>SH</ns1:sshPrnamtType>\\n\\t\\t</ns1:shrsOrPrnAmt>\\n\\t\\t<ns1:investmentDiscretion>SOLE</ns1:investmentDiscretion>\\n\\t\\t<ns1:votingAuthority>\\n\\t\\t\\t<ns1:Sole>30450</ns1:Sole>\\n\\t\\t\\t<ns1:Shared>0</ns1:Shared>\\n\\t\\t\\t<ns1:None>0</ns1:None>\\n\\t\\t</ns1:votingAuthority>\\n\\t</ns1:infoTable>\\n\\t<ns1:infoTable>\\n\\t\\t<ns1:nameOfIssuer>WILLIAMS COS INC</ns1:nameOfIssuer>\\n\\t\\t<ns1:titleOfClass>COM</ns1:titleOfClass>\\n\\t\\t<ns1:cusip>969457100</ns1:cusip>\\n\\t\\t<ns1:value>855333</ns1:value>\\n\\t\\t<ns1:shrsOrPrnAmt>\\n\\t\\t\\t<ns1:sshPrnamt>24557</ns1:sshPrnamt>\\n\\t\\t\\t<ns1:sshPrnamtType>SH</ns1:sshPrnamtType>\\n\\t\\t</ns1:shrsOrPrnAmt>\\n\\t\\t<ns1:investmentDiscretion>SOLE</ns1:investmentDiscretion>\\n\\t\\t<ns1:votingAuthority>\\n\\t\\t\\t<ns1:Sole>24557</ns1:Sole>\\n\\t\\t\\t<ns1:Shared>0</ns1:Shared>\\n\\t\\t\\t<ns1:None>0</ns1:None>\\n\\t\\t</ns1:votingAuthority>\\n\\t</ns1:infoTable>\\n\\t<ns1:infoTable>\\n\\t\\t<ns1:nameOfIssuer>ACCENTURE PLC IRELAND CLASS A</ns1:nameOfIssuer>\\n\\t\\t<ns1:titleOfClass>COM GLOBAL</ns1:titleOfClass>\\n\\t\\t<ns1:cusip>G1151C101</ns1:cusip>\\n\\t\\t<ns1:value>45189488</ns1:value>\\n\\t\\t<ns1:shrsOrPrnAmt>\\n\\t\\t\\t<ns1:sshPrnamt>128778</ns1:sshPrnamt>\\n\\t\\t\\t<ns1:sshPrnamtType>SH</ns1:sshPrnamtType>\\n\\t\\t</ns1:shrsOrPrnAmt>\\n\\t\\t<ns1:investmentDiscretion>SOLE</ns1:investmentDiscretion>\\n\\t\\t<ns1:votingAuthority>\\n\\t\\t\\t<ns1:Sole>127573</ns1:Sole>\\n\\t\\t\\t<ns1:Shared>0</ns1:Shared>\\n\\t\\t\\t<ns1:None>1205</ns1:None>\\n\\t\\t</ns1:votingAuthority>\\n\\t</ns1:infoTable>\\n\\t<ns1:infoTable>\\n\\t\\t<ns1:nameOfIssuer>CANADIAN NATIONAL RAILWAY CO</ns1:nameOfIssuer>\\n\\t\\t<ns1:titleOfClass>COM GLOBAL</ns1:titleOfClass>\\n\\t\\t<ns1:cusip>136375102</ns1:cusip>\\n\\t\\t<ns1:value>372870</ns1:value>\\n\\t\\t<ns1:shrsOrPrnAmt>\\n\\t\\t\\t<ns1:sshPrnamt>2968</ns1:sshPrnamt>\\n\\t\\t\\t<ns1:sshPrnamtType>SH</ns1:sshPrnamtType>\\n\\t\\t</ns1:shrsOrPrnAmt>\\n\\t\\t<ns1:investmentDiscretion>SOLE</ns1:investmentDiscretion>\\n\\t\\t<ns1:votingAuthority>\\n\\t\\t\\t<ns1:Sole>1968</ns1:Sole>\\n\\t\\t\\t<ns1:Shared>0</ns1:Shared>\\n\\t\\t\\t<ns1:None>1000</ns1:None>\\n\\t\\t</ns1:votingAuthority>\\n\\t</ns1:infoTable>\\n\\t<ns1:infoTable>\\n\\t\\t<ns1:nameOfIssuer>SCHLUMBERGER LTD</ns1:nameOfIssuer>\\n\\t\\t<ns1:titleOfClass>COM GLOBAL</ns1:titleOfClass>\\n\\t\\t<ns1:cusip>806857108</ns1:cusip>\\n\\t\\t<ns1:value>4989231</ns1:value>\\n\\t\\t<ns1:shrsOrPrnAmt>\\n\\t\\t\\t<ns1:sshPrnamt>95873</ns1:sshPrnamt>\\n\\t\\t\\t<ns1:sshPrnamtType>SH</ns1:sshPrnamtType>\\n\\t\\t</ns1:shrsOrPrnAmt>\\n\\t\\t<ns1:investmentDiscretion>SOLE</ns1:investmentDiscretion>\\n\\t\\t<ns1:votingAuthority>\\n\\t\\t\\t<ns1:Sole>93743</ns1:Sole>\\n\\t\\t\\t<ns1:Shared>0</ns1:Shared>\\n\\t\\t\\t<ns1:None>2130</ns1:None>\\n\\t\\t</ns1:votingAuthority>\\n\\t</ns1:infoTable>\\n\\t<ns1:infoTable>\\n\\t\\t<ns1:nameOfIssuer>MORGAN STANLEY</ns1:nameOfIssuer>\\n\\t\\t<ns1:titleOfClass>COM NEW</ns1:titleOfClass>\\n\\t\\t<ns1:cusip>617446448</ns1:cusip>\\n\\t\\t<ns1:value>2352604</ns1:value>\\n\\t\\t<ns1:shrsOrPrnAmt>\\n\\t\\t\\t<ns1:sshPrnamt>25229</ns1:sshPrnamt>\\n\\t\\t\\t<ns1:sshPrnamtType>SH</ns1:sshPrnamtType>\\n\\t\\t</ns1:shrsOrPrnAmt>\\n\\t\\t<ns1:investmentDiscretion>SOLE</ns1:investmentDiscretion>\\n\\t\\t<ns1:votingAuthority>\\n\\t\\t\\t<ns1:Sole>25229</ns1:Sole>\\n\\t\\t\\t<ns1:Shared>0</ns1:Shared>\\n\\t\\t\\t<ns1:None>0</ns1:None>\\n\\t\\t</ns1:votingAuthority>\\n\\t</ns1:infoTable>\\n\\t<ns1:infoTable>\\n\\t\\t<ns1:nameOfIssuer>MOTOROLA SOLUTIONS INC</ns1:nameOfIssuer>\\n\\t\\t<ns1:titleOfClass>COM NEW</ns1:titleOfClass>\\n\\t\\t<ns1:cusip>620076307</ns1:cusip>\\n\\t\\t<ns1:value>455546</ns1:value>\\n\\t\\t<ns1:shrsOrPrnAmt>\\n\\t\\t\\t<ns1:sshPrnamt>1455</ns1:sshPrnamt>\\n\\t\\t\\t<ns1:sshPrnamtType>SH</ns1:sshPrnamtType>\\n\\t\\t</ns1:shrsOrPrnAmt>\\n\\t\\t<ns1:investmentDiscretion>SOLE</ns1:investmentDiscretion>\\n\\t\\t<ns1:votingAuthority>\\n\\t\\t\\t<ns1:Sole>1455</ns1:Sole>\\n\\t\\t\\t<ns1:Shared>0</ns1:Shared>\\n\\t\\t\\t<ns1:None>0</ns1:None>\\n\\t\\t</ns1:votingAuthority>\\n\\t</ns1:infoTable>\\n\\t<ns1:infoTable>\\n\\t\\t<ns1:nameOfIssuer>VERALTO CORP</ns1:nameOfIssuer>\\n\\t\\t<ns1:titleOfClass>COM SHS</ns1:titleOfClass>\\n\\t\\t<ns1:cusip>92338C103</ns1:cusip>\\n\\t\\t<ns1:value>2809316</ns1:value>\\n\\t\\t<ns1:shrsOrPrnAmt>\\n\\t\\t\\t<ns1:sshPrnamt>34152</ns1:sshPrnamt>\\n\\t\\t\\t<ns1:sshPrnamtType>SH</ns1:sshPrnamtType>\\n\\t\\t</ns1:shrsOrPrnAmt>\\n\\t\\t<ns1:investmentDiscretion>SOLE</ns1:investmentDiscretion>\\n\\t\\t<ns1:votingAuthority>\\n\\t\\t\\t<ns1:Sole>33487</ns1:Sole>\\n\\t\\t\\t<ns1:Shared>0</ns1:Shared>\\n\\t\\t\\t<ns1:None>665</ns1:None>\\n\\t\\t</ns1:votingAuthority>\\n\\t</ns1:infoTable>\\n\\t<ns1:infoTable>\\n\\t\\t<ns1:nameOfIssuer>GENERAL ELECTRIC CO COM NEW</ns1:nameOfIssuer>\\n\\t\\t<ns1:titleOfClass>COM-NEW</ns1:titleOfClass>\\n\\t\\t<ns1:cusip>369604301</ns1:cusip>\\n\\t\\t<ns1:value>316905</ns1:value>\\n\\t\\t<ns1:shrsOrPrnAmt>\\n\\t\\t\\t<ns1:sshPrnamt>2483</ns1:sshPrnamt>\\n\\t\\t\\t<ns1:sshPrnamtType>SH</ns1:sshPrnamtType>\\n\\t\\t</ns1:shrsOrPrnAmt>\\n\\t\\t<ns1:investmentDiscretion>SOLE</ns1:investmentDiscretion>\\n\\t\\t<ns1:votingAuthority>\\n\\t\\t\\t<ns1:Sole>2483</ns1:Sole>\\n\\t\\t\\t<ns1:Shared>0</ns1:Shared>\\n\\t\\t\\t<ns1:None>0</ns1:None>\\n\\t\\t</ns1:votingAuthority>\\n\\t</ns1:infoTable>\\n\\t<ns1:infoTable>\\n\\t\\t<ns1:nameOfIssuer>ISHARES CORE S&amp;P 500 ETF</ns1:nameOfIssuer>\\n\\t\\t<ns1:titleOfClass>CORE S&amp;P 500ETF</ns1:titleOfClass>\\n\\t\\t<ns1:cusip>464287200</ns1:cusip>\\n\\t\\t<ns1:value>3702110</ns1:value>\\n\\t\\t<ns1:shrsOrPrnAmt>\\n\\t\\t\\t<ns1:sshPrnamt>7751</ns1:sshPrnamt>\\n\\t\\t\\t<ns1:sshPrnamtType>SH</ns1:sshPrnamtType>\\n\\t\\t</ns1:shrsOrPrnAmt>\\n\\t\\t<ns1:investmentDiscretion>SOLE</ns1:investmentDiscretion>\\n\\t\\t<ns1:votingAuthority>\\n\\t\\t\\t<ns1:Sole>4857</ns1:Sole>\\n\\t\\t\\t<ns1:Shared>0</ns1:Shared>\\n\\t\\t\\t<ns1:None>2894</ns1:None>\\n\\t\\t</ns1:votingAuthority>\\n\\t</ns1:infoTable>\\n\\t<ns1:infoTable>\\n\\t\\t<ns1:nameOfIssuer>ISHARES CORE S&amp;P MCP ETF</ns1:nameOfIssuer>\\n\\t\\t<ns1:titleOfClass>CORE S&amp;P MCP ETF</ns1:titleOfClass>\\n\\t\\t<ns1:cusip>464287507</ns1:cusip>\\n\\t\\t<ns1:value>253592</ns1:value>\\n\\t\\t<ns1:shrsOrPrnAmt>\\n\\t\\t\\t<ns1:sshPrnamt>915</ns1:sshPrnamt>\\n\\t\\t\\t<ns1:sshPrnamtType>SH</ns1:sshPrnamtType>\\n\\t\\t</ns1:shrsOrPrnAmt>\\n\\t\\t<ns1:investmentDiscretion>SOLE</ns1:investmentDiscretion>\\n\\t\\t<ns1:votingAuthority>\\n\\t\\t\\t<ns1:Sole>591</ns1:Sole>\\n\\t\\t\\t<ns1:Shared>0</ns1:Shared>\\n\\t\\t\\t<ns1:None>324</ns1:None>\\n\\t\\t</ns1:votingAuthority>\\n\\t</ns1:infoTable>\\n\\t<ns1:infoTable>\\n\\t\\t<ns1:nameOfIssuer>VANGUARD DIV APPREC ETF</ns1:nameOfIssuer>\\n\\t\\t<ns1:titleOfClass>DIV APP ETF</ns1:titleOfClass>\\n\\t\\t<ns1:cusip>921908844</ns1:cusip>\\n\\t\\t<ns1:value>19684778</ns1:value>\\n\\t\\t<ns1:shrsOrPrnAmt>\\n\\t\\t\\t<ns1:sshPrnamt>115521</ns1:sshPrnamt>\\n\\t\\t\\t<ns1:sshPrnamtType>SH</ns1:sshPrnamtType>\\n\\t\\t</ns1:shrsOrPrnAmt>\\n\\t\\t<ns1:investmentDiscretion>SOLE</ns1:investmentDiscretion>\\n\\t\\t<ns1:votingAuthority>\\n\\t\\t\\t<ns1:Sole>114536</ns1:Sole>\\n\\t\\t\\t<ns1:Shared>0</ns1:Shared>\\n\\t\\t\\t<ns1:None>985</ns1:None>\\n\\t\\t</ns1:votingAuthority>\\n\\t</ns1:infoTable>\\n\\t<ns1:infoTable>\\n\\t\\t<ns1:nameOfIssuer>VANGUARD ENERGY</ns1:nameOfIssuer>\\n\\t\\t<ns1:titleOfClass>ENERGY ETF</ns1:titleOfClass>\\n\\t\\t<ns1:cusip>92204A306</ns1:cusip>\\n\\t\\t<ns1:value>577369</ns1:value>\\n\\t\\t<ns1:shrsOrPrnAmt>\\n\\t\\t\\t<ns1:sshPrnamt>4923</ns1:sshPrnamt>\\n\\t\\t\\t<ns1:sshPrnamtType>SH</ns1:sshPrnamtType>\\n\\t\\t</ns1:shrsOrPrnAmt>\\n\\t\\t<ns1:investmentDiscretion>SOLE</ns1:investmentDiscretion>\\n\\t\\t<ns1:votingAuthority>\\n\\t\\t\\t<ns1:Sole>4923</ns1:Sole>\\n\\t\\t\\t<ns1:Shared>0</ns1:Shared>\\n\\t\\t\\t<ns1:None>0</ns1:None>\\n\\t\\t</ns1:votingAuthority>\\n\\t</ns1:infoTable>\\n\\t<ns1:infoTable>\\n\\t\\t<ns1:nameOfIssuer>VANGUARD ESG US STOCK ETF</ns1:nameOfIssuer>\\n\\t\\t<ns1:titleOfClass>ESG US STF ETF</ns1:titleOfClass>\\n\\t\\t<ns1:cusip>921910733</ns1:cusip>\\n\\t\\t<ns1:value>747592</ns1:value>\\n\\t\\t<ns1:shrsOrPrnAmt>\\n\\t\\t\\t<ns1:sshPrnamt>8789</ns1:sshPrnamt>\\n\\t\\t\\t<ns1:sshPrnamtType>SH</ns1:sshPrnamtType>\\n\\t\\t</ns1:shrsOrPrnAmt>\\n\\t\\t<ns1:investmentDiscretion>SOLE</ns1:investmentDiscretion>\\n\\t\\t<ns1:votingAuthority>\\n\\t\\t\\t<ns1:Sole>8789</ns1:Sole>\\n\\t\\t\\t<ns1:Shared>0</ns1:Shared>\\n\\t\\t\\t<ns1:None>0</ns1:None>\\n\\t\\t</ns1:votingAuthority>\\n\\t</ns1:infoTable>\\n\\t<ns1:infoTable>\\n\\t\\t<ns1:nameOfIssuer>VANGUARD FTSE DEV MKT ETF</ns1:nameOfIssuer>\\n\\t\\t<ns1:titleOfClass>FTSE DEV MKT ETF</ns1:titleOfClass>\\n\\t\\t<ns1:cusip>921943858</ns1:cusip>\\n\\t\\t<ns1:value>7799030</ns1:value>\\n\\t\\t<ns1:shrsOrPrnAmt>\\n\\t\\t\\t<ns1:sshPrnamt>162819</ns1:sshPrnamt>\\n\\t\\t\\t<ns1:sshPrnamtType>SH</ns1:sshPrnamtType>\\n\\t\\t</ns1:shrsOrPrnAmt>\\n\\t\\t<ns1:investmentDiscretion>SOLE</ns1:investmentDiscretion>\\n\\t\\t<ns1:votingAuthority>\\n\\t\\t\\t<ns1:Sole>162089</ns1:Sole>\\n\\t\\t\\t<ns1:Shared>0</ns1:Shared>\\n\\t\\t\\t<ns1:None>730</ns1:None>\\n\\t\\t</ns1:votingAuthority>\\n\\t</ns1:infoTable>\\n\\t<ns1:infoTable>\\n\\t\\t<ns1:nameOfIssuer>VANGUARD FTSE EMERG MKT ETF</ns1:nameOfIssuer>\\n\\t\\t<ns1:titleOfClass>FTSE EMR MKT ETF</ns1:titleOfClass>\\n\\t\\t<ns1:cusip>922042858</ns1:cusip>\\n\\t\\t<ns1:value>7478145</ns1:value>\\n\\t\\t<ns1:shrsOrPrnAmt>\\n\\t\\t\\t<ns1:sshPrnamt>181950</ns1:sshPrnamt>\\n\\t\\t\\t<ns1:sshPrnamtType>SH</ns1:sshPrnamtType>\\n\\t\\t</ns1:shrsOrPrnAmt>\\n\\t\\t<ns1:investmentDiscretion>SOLE</ns1:investmentDiscretion>\\n\\t\\t<ns1:votingAuthority>\\n\\t\\t\\t<ns1:Sole>181950</ns1:Sole>\\n\\t\\t\\t<ns1:Shared>0</ns1:Shared>\\n\\t\\t\\t<ns1:None>0</ns1:None>\\n\\t\\t</ns1:votingAuthority>\\n\\t</ns1:infoTable>\\n\\t<ns1:infoTable>\\n\\t\\t<ns1:nameOfIssuer>VANGUARD HIGH DIV YIELD</ns1:nameOfIssuer>\\n\\t\\t<ns1:titleOfClass>HIGH DIV YLD</ns1:titleOfClass>\\n\\t\\t<ns1:cusip>921946406</ns1:cusip>\\n\\t\\t<ns1:value>447021</ns1:value>\\n\\t\\t<ns1:shrsOrPrnAmt>\\n\\t\\t\\t<ns1:sshPrnamt>4004</ns1:sshPrnamt>\\n\\t\\t\\t<ns1:sshPrnamtType>SH</ns1:sshPrnamtType>\\n\\t\\t</ns1:shrsOrPrnAmt>\\n\\t\\t<ns1:investmentDiscretion>SOLE</ns1:investmentDiscretion>\\n\\t\\t<ns1:votingAuthority>\\n\\t\\t\\t<ns1:Sole>540</ns1:Sole>\\n\\t\\t\\t<ns1:Shared>0</ns1:Shared>\\n\\t\\t\\t<ns1:None>3464</ns1:None>\\n\\t\\t</ns1:votingAuthority>\\n\\t</ns1:infoTable>\\n\\t<ns1:infoTable>\\n\\t\\t<ns1:nameOfIssuer>VANGUARD LARGE CAP ETF</ns1:nameOfIssuer>\\n\\t\\t<ns1:titleOfClass>LARGE CAP ETF</ns1:titleOfClass>\\n\\t\\t<ns1:cusip>922908637</ns1:cusip>\\n\\t\\t<ns1:value>7606454</ns1:value>\\n\\t\\t<ns1:shrsOrPrnAmt>\\n\\t\\t\\t<ns1:sshPrnamt>34868</ns1:sshPrnamt>\\n\\t\\t\\t<ns1:sshPrnamtType>SH</ns1:sshPrnamtType>\\n\\t\\t</ns1:shrsOrPrnAmt>\\n\\t\\t<ns1:investmentDiscretion>SOLE</ns1:investmentDiscretion>\\n\\t\\t<ns1:votingAuthority>\\n\\t\\t\\t<ns1:Sole>34868</ns1:Sole>\\n\\t\\t\\t<ns1:Shared>0</ns1:Shared>\\n\\t\\t\\t<ns1:None>0</ns1:None>\\n\\t\\t</ns1:votingAuthority>\\n\\t</ns1:infoTable>\\n\\t<ns1:infoTable>\\n\\t\\t<ns1:nameOfIssuer>VANGUARD MID CAP ETF</ns1:nameOfIssuer>\\n\\t\\t<ns1:titleOfClass>MED CAP ETF</ns1:titleOfClass>\\n\\t\\t<ns1:cusip>922908629</ns1:cusip>\\n\\t\\t<ns1:value>15789742</ns1:value>\\n\\t\\t<ns1:shrsOrPrnAmt>\\n\\t\\t\\t<ns1:sshPrnamt>67872</ns1:sshPrnamt>\\n\\t\\t\\t<ns1:sshPrnamtType>SH</ns1:sshPrnamtType>\\n\\t\\t</ns1:shrsOrPrnAmt>\\n\\t\\t<ns1:investmentDiscretion>SOLE</ns1:investmentDiscretion>\\n\\t\\t<ns1:votingAuthority>\\n\\t\\t\\t<ns1:Sole>65546</ns1:Sole>\\n\\t\\t\\t<ns1:Shared>0</ns1:Shared>\\n\\t\\t\\t<ns1:None>2326</ns1:None>\\n\\t\\t</ns1:votingAuthority>\\n\\t</ns1:infoTable>\\n\\t<ns1:infoTable>\\n\\t\\t<ns1:nameOfIssuer>VANGUARD MEGA GROWTH IND</ns1:nameOfIssuer>\\n\\t\\t<ns1:titleOfClass>MEGA GRWTH IND</ns1:titleOfClass>\\n\\t\\t<ns1:cusip>921910816</ns1:cusip>\\n\\t\\t<ns1:value>4621873</ns1:value>\\n\\t\\t<ns1:shrsOrPrnAmt>\\n\\t\\t\\t<ns1:sshPrnamt>17810</ns1:sshPrnamt>\\n\\t\\t\\t<ns1:sshPrnamtType>SH</ns1:sshPrnamtType>\\n\\t\\t</ns1:shrsOrPrnAmt>\\n\\t\\t<ns1:investmentDiscretion>SOLE</ns1:investmentDiscretion>\\n\\t\\t<ns1:votingAuthority>\\n\\t\\t\\t<ns1:Sole>17810</ns1:Sole>\\n\\t\\t\\t<ns1:Shared>0</ns1:Shared>\\n\\t\\t\\t<ns1:None>0</ns1:None>\\n\\t\\t</ns1:votingAuthority>\\n\\t</ns1:infoTable>\\n\\t<ns1:infoTable>\\n\\t\\t<ns1:nameOfIssuer>ISHARES MSCI EAFE ETF</ns1:nameOfIssuer>\\n\\t\\t<ns1:titleOfClass>MSCI EAFE ETF</ns1:titleOfClass>\\n\\t\\t<ns1:cusip>464287465</ns1:cusip>\\n\\t\\t<ns1:value>950013</ns1:value>\\n\\t\\t<ns1:shrsOrPrnAmt>\\n\\t\\t\\t<ns1:sshPrnamt>12608</ns1:sshPrnamt>\\n\\t\\t\\t<ns1:sshPrnamtType>SH</ns1:sshPrnamtType>\\n\\t\\t</ns1:shrsOrPrnAmt>\\n\\t\\t<ns1:investmentDiscretion>SOLE</ns1:investmentDiscretion>\\n\\t\\t<ns1:votingAuthority>\\n\\t\\t\\t<ns1:Sole>12608</ns1:Sole>\\n\\t\\t\\t<ns1:Shared>0</ns1:Shared>\\n\\t\\t\\t<ns1:None>0</ns1:None>\\n\\t\\t</ns1:votingAuthority>\\n\\t</ns1:infoTable>\\n\\t<ns1:infoTable>\\n\\t\\t<ns1:nameOfIssuer>ISHARES MSCI EMERG MKT ETF</ns1:nameOfIssuer>\\n\\t\\t<ns1:titleOfClass>MSCI EMG MKT ETF</ns1:titleOfClass>\\n\\t\\t<ns1:cusip>464287234</ns1:cusip>\\n\\t\\t<ns1:value>1589662</ns1:value>\\n\\t\\t<ns1:shrsOrPrnAmt>\\n\\t\\t\\t<ns1:sshPrnamt>39534</ns1:sshPrnamt>\\n\\t\\t\\t<ns1:sshPrnamtType>SH</ns1:sshPrnamtType>\\n\\t\\t</ns1:shrsOrPrnAmt>\\n\\t\\t<ns1:investmentDiscretion>SOLE</ns1:investmentDiscretion>\\n\\t\\t<ns1:votingAuthority>\\n\\t\\t\\t<ns1:Sole>39534</ns1:Sole>\\n\\t\\t\\t<ns1:Shared>0</ns1:Shared>\\n\\t\\t\\t<ns1:None>0</ns1:None>\\n\\t\\t</ns1:votingAuthority>\\n\\t</ns1:infoTable>\\n\\t<ns1:infoTable>\\n\\t\\t<ns1:nameOfIssuer>SPDR PRTFLO S&amp;P 500 VL</ns1:nameOfIssuer>\\n\\t\\t<ns1:titleOfClass>PRTFLO S&amp;P500 VL</ns1:titleOfClass>\\n\\t\\t<ns1:cusip>78464A508</ns1:cusip>\\n\\t\\t<ns1:value>351217</ns1:value>\\n\\t\\t<ns1:shrsOrPrnAmt>\\n\\t\\t\\t<ns1:sshPrnamt>7532</ns1:sshPrnamt>\\n\\t\\t\\t<ns1:sshPrnamtType>SH</ns1:sshPrnamtType>\\n\\t\\t</ns1:shrsOrPrnAmt>\\n\\t\\t<ns1:investmentDiscretion>SOLE</ns1:investmentDiscretion>\\n\\t\\t<ns1:votingAuthority>\\n\\t\\t\\t<ns1:Sole>7532</ns1:Sole>\\n\\t\\t\\t<ns1:Shared>0</ns1:Shared>\\n\\t\\t\\t<ns1:None>0</ns1:None>\\n\\t\\t</ns1:votingAuthority>\\n\\t</ns1:infoTable>\\n\\t<ns1:infoTable>\\n\\t\\t<ns1:nameOfIssuer>VANGUARD REAL ESTATE ETF</ns1:nameOfIssuer>\\n\\t\\t<ns1:titleOfClass>REAL ESTATE ETF</ns1:titleOfClass>\\n\\t\\t<ns1:cusip>922908553</ns1:cusip>\\n\\t\\t<ns1:value>1726378</ns1:value>\\n\\t\\t<ns1:shrsOrPrnAmt>\\n\\t\\t\\t<ns1:sshPrnamt>19538</ns1:sshPrnamt>\\n\\t\\t\\t<ns1:sshPrnamtType>SH</ns1:sshPrnamtType>\\n\\t\\t</ns1:shrsOrPrnAmt>\\n\\t\\t<ns1:investmentDiscretion>SOLE</ns1:investmentDiscretion>\\n\\t\\t<ns1:votingAuthority>\\n\\t\\t\\t<ns1:Sole>16863</ns1:Sole>\\n\\t\\t\\t<ns1:Shared>0</ns1:Shared>\\n\\t\\t\\t<ns1:None>2675</ns1:None>\\n\\t\\t</ns1:votingAuthority>\\n\\t</ns1:infoTable>\\n\\t<ns1:infoTable>\\n\\t\\t<ns1:nameOfIssuer>ISHARES RUS MID CAP ETF</ns1:nameOfIssuer>\\n\\t\\t<ns1:titleOfClass>RUS MID CAP ETF</ns1:titleOfClass>\\n\\t\\t<ns1:cusip>464287499</ns1:cusip>\\n\\t\\t<ns1:value>345588</ns1:value>\\n\\t\\t<ns1:shrsOrPrnAmt>\\n\\t\\t\\t<ns1:sshPrnamt>4446</ns1:sshPrnamt>\\n\\t\\t\\t<ns1:sshPrnamtType>SH</ns1:sshPrnamtType>\\n\\t\\t</ns1:shrsOrPrnAmt>\\n\\t\\t<ns1:investmentDiscretion>SOLE</ns1:investmentDiscretion>\\n\\t\\t<ns1:votingAuthority>\\n\\t\\t\\t<ns1:Sole>4446</ns1:Sole>\\n\\t\\t\\t<ns1:Shared>0</ns1:Shared>\\n\\t\\t\\t<ns1:None>0</ns1:None>\\n\\t\\t</ns1:votingAuthority>\\n\\t</ns1:infoTable>\\n\\t<ns1:infoTable>\\n\\t\\t<ns1:nameOfIssuer>ISHARES RUSSELL 1000 GROWTH ET</ns1:nameOfIssuer>\\n\\t\\t<ns1:titleOfClass>RUSS 1000 GRW ETF</ns1:titleOfClass>\\n\\t\\t<ns1:cusip>464287614</ns1:cusip>\\n\\t\\t<ns1:value>1381546</ns1:value>\\n\\t\\t<ns1:shrsOrPrnAmt>\\n\\t\\t\\t<ns1:sshPrnamt>4557</ns1:sshPrnamt>\\n\\t\\t\\t<ns1:sshPrnamtType>SH</ns1:sshPrnamtType>\\n\\t\\t</ns1:shrsOrPrnAmt>\\n\\t\\t<ns1:investmentDiscretion>SOLE</ns1:investmentDiscretion>\\n\\t\\t<ns1:votingAuthority>\\n\\t\\t\\t<ns1:Sole>4557</ns1:Sole>\\n\\t\\t\\t<ns1:Shared>0</ns1:Shared>\\n\\t\\t\\t<ns1:None>0</ns1:None>\\n\\t\\t</ns1:votingAuthority>\\n\\t</ns1:infoTable>\\n\\t<ns1:infoTable>\\n\\t\\t<ns1:nameOfIssuer>ISHARES RUSSELL 1000 VAL ETF</ns1:nameOfIssuer>\\n\\t\\t<ns1:titleOfClass>Russ 1000 Val ETF</ns1:titleOfClass>\\n\\t\\t<ns1:cusip>464287598</ns1:cusip>\\n\\t\\t<ns1:value>1123700</ns1:value>\\n\\t\\t<ns1:shrsOrPrnAmt>\\n\\t\\t\\t<ns1:sshPrnamt>6800</ns1:sshPrnamt>\\n\\t\\t\\t<ns1:sshPrnamtType>SH</ns1:sshPrnamtType>\\n\\t\\t</ns1:shrsOrPrnAmt>\\n\\t\\t<ns1:investmentDiscretion>SOLE</ns1:investmentDiscretion>\\n\\t\\t<ns1:votingAuthority>\\n\\t\\t\\t<ns1:Sole>6800</ns1:Sole>\\n\\t\\t\\t<ns1:Shared>0</ns1:Shared>\\n\\t\\t\\t<ns1:None>0</ns1:None>\\n\\t\\t</ns1:votingAuthority>\\n\\t</ns1:infoTable>\\n\\t<ns1:infoTable>\\n\\t\\t<ns1:nameOfIssuer>ISHARES RUSSELL 2000 ETF</ns1:nameOfIssuer>\\n\\t\\t<ns1:titleOfClass>RUSSELL 2000 ETF</ns1:titleOfClass>\\n\\t\\t<ns1:cusip>464287655</ns1:cusip>\\n\\t\\t<ns1:value>338999</ns1:value>\\n\\t\\t<ns1:shrsOrPrnAmt>\\n\\t\\t\\t<ns1:sshPrnamt>1689</ns1:sshPrnamt>\\n\\t\\t\\t<ns1:sshPrnamtType>SH</ns1:sshPrnamtType>\\n\\t\\t</ns1:shrsOrPrnAmt>\\n\\t\\t<ns1:investmentDiscretion>SOLE</ns1:investmentDiscretion>\\n\\t\\t<ns1:votingAuthority>\\n\\t\\t\\t<ns1:Sole>1689</ns1:Sole>\\n\\t\\t\\t<ns1:Shared>0</ns1:Shared>\\n\\t\\t\\t<ns1:None>0</ns1:None>\\n\\t\\t</ns1:votingAuthority>\\n\\t</ns1:infoTable>\\n\\t<ns1:infoTable>\\n\\t\\t<ns1:nameOfIssuer>VANGUARD S&amp;P 500 ETF</ns1:nameOfIssuer>\\n\\t\\t<ns1:titleOfClass>S&amp;P 500 ETF SHS</ns1:titleOfClass>\\n\\t\\t<ns1:cusip>922908363</ns1:cusip>\\n\\t\\t<ns1:value>38416123</ns1:value>\\n\\t\\t<ns1:shrsOrPrnAmt>\\n\\t\\t\\t<ns1:sshPrnamt>87949</ns1:sshPrnamt>\\n\\t\\t\\t<ns1:sshPrnamtType>SH</ns1:sshPrnamtType>\\n\\t\\t</ns1:shrsOrPrnAmt>\\n\\t\\t<ns1:investmentDiscretion>SOLE</ns1:investmentDiscretion>\\n\\t\\t<ns1:votingAuthority>\\n\\t\\t\\t<ns1:Sole>87884</ns1:Sole>\\n\\t\\t\\t<ns1:Shared>0</ns1:Shared>\\n\\t\\t\\t<ns1:None>65</ns1:None>\\n\\t\\t</ns1:votingAuthority>\\n\\t</ns1:infoTable>\\n\\t<ns1:infoTable>\\n\\t\\t<ns1:nameOfIssuer>ISHARES S&amp;P MC 400GR ETF</ns1:nameOfIssuer>\\n\\t\\t<ns1:titleOfClass>S&amp;P MC 400GR ETF</ns1:titleOfClass>\\n\\t\\t<ns1:cusip>464287606</ns1:cusip>\\n\\t\\t<ns1:value>269506</ns1:value>\\n\\t\\t<ns1:shrsOrPrnAmt>\\n\\t\\t\\t<ns1:sshPrnamt>3402</ns1:sshPrnamt>\\n\\t\\t\\t<ns1:sshPrnamtType>SH</ns1:sshPrnamtType>\\n\\t\\t</ns1:shrsOrPrnAmt>\\n\\t\\t<ns1:investmentDiscretion>SOLE</ns1:investmentDiscretion>\\n\\t\\t<ns1:votingAuthority>\\n\\t\\t\\t<ns1:Sole>462</ns1:Sole>\\n\\t\\t\\t<ns1:Shared>0</ns1:Shared>\\n\\t\\t\\t<ns1:None>2940</ns1:None>\\n\\t\\t</ns1:votingAuthority>\\n\\t</ns1:infoTable>\\n\\t<ns1:infoTable>\\n\\t\\t<ns1:nameOfIssuer>ISHARES SELECT DIV ETF</ns1:nameOfIssuer>\\n\\t\\t<ns1:titleOfClass>SELECT DIVID ETF</ns1:titleOfClass>\\n\\t\\t<ns1:cusip>464287168</ns1:cusip>\\n\\t\\t<ns1:value>239949</ns1:value>\\n\\t\\t<ns1:shrsOrPrnAmt>\\n\\t\\t\\t<ns1:sshPrnamt>2047</ns1:sshPrnamt>\\n\\t\\t\\t<ns1:sshPrnamtType>SH</ns1:sshPrnamtType>\\n\\t\\t</ns1:shrsOrPrnAmt>\\n\\t\\t<ns1:investmentDiscretion>SOLE</ns1:investmentDiscretion>\\n\\t\\t<ns1:votingAuthority>\\n\\t\\t\\t<ns1:Sole>2047</ns1:Sole>\\n\\t\\t\\t<ns1:Shared>0</ns1:Shared>\\n\\t\\t\\t<ns1:None>0</ns1:None>\\n\\t\\t</ns1:votingAuthority>\\n\\t</ns1:infoTable>\\n\\t<ns1:infoTable>\\n\\t\\t<ns1:nameOfIssuer>VANGUARD SMALL CAP ETF</ns1:nameOfIssuer>\\n\\t\\t<ns1:titleOfClass>SMALL CP ETF</ns1:titleOfClass>\\n\\t\\t<ns1:cusip>922908751</ns1:cusip>\\n\\t\\t<ns1:value>15226002</ns1:value>\\n\\t\\t<ns1:shrsOrPrnAmt>\\n\\t\\t\\t<ns1:sshPrnamt>71373</ns1:sshPrnamt>\\n\\t\\t\\t<ns1:sshPrnamtType>SH</ns1:sshPrnamtType>\\n\\t\\t</ns1:shrsOrPrnAmt>\\n\\t\\t<ns1:investmentDiscretion>SOLE</ns1:investmentDiscretion>\\n\\t\\t<ns1:votingAuthority>\\n\\t\\t\\t<ns1:Sole>68523</ns1:Sole>\\n\\t\\t\\t<ns1:Shared>0</ns1:Shared>\\n\\t\\t\\t<ns1:None>2850</ns1:None>\\n\\t\\t</ns1:votingAuthority>\\n\\t</ns1:infoTable>\\n\\t<ns1:infoTable>\\n\\t\\t<ns1:nameOfIssuer>VANGUARD SMALL CAP GROWTH ETF</ns1:nameOfIssuer>\\n\\t\\t<ns1:titleOfClass>SML CP GRW ETF</ns1:titleOfClass>\\n\\t\\t<ns1:cusip>922908595</ns1:cusip>\\n\\t\\t<ns1:value>511344</ns1:value>\\n\\t\\t<ns1:shrsOrPrnAmt>\\n\\t\\t\\t<ns1:sshPrnamt>2115</ns1:sshPrnamt>\\n\\t\\t\\t<ns1:sshPrnamtType>SH</ns1:sshPrnamtType>\\n\\t\\t</ns1:shrsOrPrnAmt>\\n\\t\\t<ns1:investmentDiscretion>SOLE</ns1:investmentDiscretion>\\n\\t\\t<ns1:votingAuthority>\\n\\t\\t\\t<ns1:Sole>2115</ns1:Sole>\\n\\t\\t\\t<ns1:Shared>0</ns1:Shared>\\n\\t\\t\\t<ns1:None>0</ns1:None>\\n\\t\\t</ns1:votingAuthority>\\n\\t</ns1:infoTable>\\n\\t<ns1:infoTable>\\n\\t\\t<ns1:nameOfIssuer>UNILEVER PLC SP ADR</ns1:nameOfIssuer>\\n\\t\\t<ns1:titleOfClass>SPON ADR NEW</ns1:titleOfClass>\\n\\t\\t<ns1:cusip>904767704</ns1:cusip>\\n\\t\\t<ns1:value>879912</ns1:value>\\n\\t\\t<ns1:shrsOrPrnAmt>\\n\\t\\t\\t<ns1:sshPrnamt>18150</ns1:sshPrnamt>\\n\\t\\t\\t<ns1:sshPrnamtType>SH</ns1:sshPrnamtType>\\n\\t\\t</ns1:shrsOrPrnAmt>\\n\\t\\t<ns1:investmentDiscretion>SOLE</ns1:investmentDiscretion>\\n\\t\\t<ns1:votingAuthority>\\n\\t\\t\\t<ns1:Sole>18150</ns1:Sole>\\n\\t\\t\\t<ns1:Shared>0</ns1:Shared>\\n\\t\\t\\t<ns1:None>0</ns1:None>\\n\\t\\t</ns1:votingAuthority>\\n\\t</ns1:infoTable>\\n\\t<ns1:infoTable>\\n\\t\\t<ns1:nameOfIssuer>SHELL PLC SPON ADS</ns1:nameOfIssuer>\\n\\t\\t<ns1:titleOfClass>SPON ADS</ns1:titleOfClass>\\n\\t\\t<ns1:cusip>780259305</ns1:cusip>\\n\\t\\t<ns1:value>1012070</ns1:value>\\n\\t\\t<ns1:shrsOrPrnAmt>\\n\\t\\t\\t<ns1:sshPrnamt>15381</ns1:sshPrnamt>\\n\\t\\t\\t<ns1:sshPrnamtType>SH</ns1:sshPrnamtType>\\n\\t\\t</ns1:shrsOrPrnAmt>\\n\\t\\t<ns1:investmentDiscretion>SOLE</ns1:investmentDiscretion>\\n\\t\\t<ns1:votingAuthority>\\n\\t\\t\\t<ns1:Sole>14981</ns1:Sole>\\n\\t\\t\\t<ns1:Shared>0</ns1:Shared>\\n\\t\\t\\t<ns1:None>400</ns1:None>\\n\\t\\t</ns1:votingAuthority>\\n\\t</ns1:infoTable>\\n\\t<ns1:infoTable>\\n\\t\\t<ns1:nameOfIssuer>TAIWAN SEMICONDUCTOR MFG LTD S</ns1:nameOfIssuer>\\n\\t\\t<ns1:titleOfClass>SPONSORED ADS</ns1:titleOfClass>\\n\\t\\t<ns1:cusip>874039100</ns1:cusip>\\n\\t\\t<ns1:value>453128</ns1:value>\\n\\t\\t<ns1:shrsOrPrnAmt>\\n\\t\\t\\t<ns1:sshPrnamt>4357</ns1:sshPrnamt>\\n\\t\\t\\t<ns1:sshPrnamtType>SH</ns1:sshPrnamtType>\\n\\t\\t</ns1:shrsOrPrnAmt>\\n\\t\\t<ns1:investmentDiscretion>SOLE</ns1:investmentDiscretion>\\n\\t\\t<ns1:votingAuthority>\\n\\t\\t\\t<ns1:Sole>4197</ns1:Sole>\\n\\t\\t\\t<ns1:Shared>0</ns1:Shared>\\n\\t\\t\\t<ns1:None>160</ns1:None>\\n\\t\\t</ns1:votingAuthority>\\n\\t</ns1:infoTable>\\n\\t<ns1:infoTable>\\n\\t\\t<ns1:nameOfIssuer>VANGUARD SHORT TERM INFL PROT</ns1:nameOfIssuer>\\n\\t\\t<ns1:titleOfClass>STRM INFPROIDX</ns1:titleOfClass>\\n\\t\\t<ns1:cusip>922020805</ns1:cusip>\\n\\t\\t<ns1:value>928429</ns1:value>\\n\\t\\t<ns1:shrsOrPrnAmt>\\n\\t\\t\\t<ns1:sshPrnamt>19550</ns1:sshPrnamt>\\n\\t\\t\\t<ns1:sshPrnamtType>SH</ns1:sshPrnamtType>\\n\\t\\t</ns1:shrsOrPrnAmt>\\n\\t\\t<ns1:investmentDiscretion>SOLE</ns1:investmentDiscretion>\\n\\t\\t<ns1:votingAuthority>\\n\\t\\t\\t<ns1:Sole>19550</ns1:Sole>\\n\\t\\t\\t<ns1:Shared>0</ns1:Shared>\\n\\t\\t\\t<ns1:None>0</ns1:None>\\n\\t\\t</ns1:votingAuthority>\\n\\t</ns1:infoTable>\\n\\t<ns1:infoTable>\\n\\t\\t<ns1:nameOfIssuer>SELECT SECTOR SPDR TR TECHNOLO</ns1:nameOfIssuer>\\n\\t\\t<ns1:titleOfClass>TECHNOLOGY</ns1:titleOfClass>\\n\\t\\t<ns1:cusip>81369Y803</ns1:cusip>\\n\\t\\t<ns1:value>471576</ns1:value>\\n\\t\\t<ns1:shrsOrPrnAmt>\\n\\t\\t\\t<ns1:sshPrnamt>2450</ns1:sshPrnamt>\\n\\t\\t\\t<ns1:sshPrnamtType>SH</ns1:sshPrnamtType>\\n\\t\\t</ns1:shrsOrPrnAmt>\\n\\t\\t<ns1:investmentDiscretion>SOLE</ns1:investmentDiscretion>\\n\\t\\t<ns1:votingAuthority>\\n\\t\\t\\t<ns1:Sole>225</ns1:Sole>\\n\\t\\t\\t<ns1:Shared>0</ns1:Shared>\\n\\t\\t\\t<ns1:None>2225</ns1:None>\\n\\t\\t</ns1:votingAuthority>\\n\\t</ns1:infoTable>\\n\\t<ns1:infoTable>\\n\\t\\t<ns1:nameOfIssuer>VANGUARD TOTAL STOCK MKT</ns1:nameOfIssuer>\\n\\t\\t<ns1:titleOfClass>TOTAL STK MKT</ns1:titleOfClass>\\n\\t\\t<ns1:cusip>922908769</ns1:cusip>\\n\\t\\t<ns1:value>1587476</ns1:value>\\n\\t\\t<ns1:shrsOrPrnAmt>\\n\\t\\t\\t<ns1:sshPrnamt>6692</ns1:sshPrnamt>\\n\\t\\t\\t<ns1:sshPrnamtType>SH</ns1:sshPrnamtType>\\n\\t\\t</ns1:shrsOrPrnAmt>\\n\\t\\t<ns1:investmentDiscretion>SOLE</ns1:investmentDiscretion>\\n\\t\\t<ns1:votingAuthority>\\n\\t\\t\\t<ns1:Sole>6692</ns1:Sole>\\n\\t\\t\\t<ns1:Shared>0</ns1:Shared>\\n\\t\\t\\t<ns1:None>0</ns1:None>\\n\\t\\t</ns1:votingAuthority>\\n\\t</ns1:infoTable>\\n\\t<ns1:infoTable>\\n\\t\\t<ns1:nameOfIssuer>SPDR S&amp;P 500 ETF TR</ns1:nameOfIssuer>\\n\\t\\t<ns1:titleOfClass>TR UNIT</ns1:titleOfClass>\\n\\t\\t<ns1:cusip>78462F103</ns1:cusip>\\n\\t\\t<ns1:value>1889357</ns1:value>\\n\\t\\t<ns1:shrsOrPrnAmt>\\n\\t\\t\\t<ns1:sshPrnamt>3975</ns1:sshPrnamt>\\n\\t\\t\\t<ns1:sshPrnamtType>SH</ns1:sshPrnamtType>\\n\\t\\t</ns1:shrsOrPrnAmt>\\n\\t\\t<ns1:investmentDiscretion>SOLE</ns1:investmentDiscretion>\\n\\t\\t<ns1:votingAuthority>\\n\\t\\t\\t<ns1:Sole>3975</ns1:Sole>\\n\\t\\t\\t<ns1:Shared>0</ns1:Shared>\\n\\t\\t\\t<ns1:None>0</ns1:None>\\n\\t\\t</ns1:votingAuthority>\\n\\t</ns1:infoTable>\\n\\t<ns1:infoTable>\\n\\t\\t<ns1:nameOfIssuer>INVESCO QQQ TR UNIT SER 1</ns1:nameOfIssuer>\\n\\t\\t<ns1:titleOfClass>UNIT SER 1</ns1:titleOfClass>\\n\\t\\t<ns1:cusip>46090E103</ns1:cusip>\\n\\t\\t<ns1:value>1163037</ns1:value>\\n\\t\\t<ns1:shrsOrPrnAmt>\\n\\t\\t\\t<ns1:sshPrnamt>2840</ns1:sshPrnamt>\\n\\t\\t\\t<ns1:sshPrnamtType>SH</ns1:sshPrnamtType>\\n\\t\\t</ns1:shrsOrPrnAmt>\\n\\t\\t<ns1:investmentDiscretion>SOLE</ns1:investmentDiscretion>\\n\\t\\t<ns1:votingAuthority>\\n\\t\\t\\t<ns1:Sole>2840</ns1:Sole>\\n\\t\\t\\t<ns1:Shared>0</ns1:Shared>\\n\\t\\t\\t<ns1:None>0</ns1:None>\\n\\t\\t</ns1:votingAuthority>\\n\\t</ns1:infoTable>\\n\\t<ns1:infoTable>\\n\\t\\t<ns1:nameOfIssuer>VANGUARD UTILITIES ETF</ns1:nameOfIssuer>\\n\\t\\t<ns1:titleOfClass>UTILITIES ETF</ns1:titleOfClass>\\n\\t\\t<ns1:cusip>92204A876</ns1:cusip>\\n\\t\\t<ns1:value>342335</ns1:value>\\n\\t\\t<ns1:shrsOrPrnAmt>\\n\\t\\t\\t<ns1:sshPrnamt>2498</ns1:sshPrnamt>\\n\\t\\t\\t<ns1:sshPrnamtType>SH</ns1:sshPrnamtType>\\n\\t\\t</ns1:shrsOrPrnAmt>\\n\\t\\t<ns1:investmentDiscretion>SOLE</ns1:investmentDiscretion>\\n\\t\\t<ns1:votingAuthority>\\n\\t\\t\\t<ns1:Sole>180</ns1:Sole>\\n\\t\\t\\t<ns1:Shared>0</ns1:Shared>\\n\\t\\t\\t<ns1:None>2318</ns1:None>\\n\\t\\t</ns1:votingAuthority>\\n\\t</ns1:infoTable>\\n\\t<ns1:infoTable>\\n\\t\\t<ns1:nameOfIssuer>VANGUARD VALUE ETF</ns1:nameOfIssuer>\\n\\t\\t<ns1:titleOfClass>VALUE ETF</ns1:titleOfClass>\\n\\t\\t<ns1:cusip>922908744</ns1:cusip>\\n\\t\\t<ns1:value>1664981</ns1:value>\\n\\t\\t<ns1:shrsOrPrnAmt>\\n\\t\\t\\t<ns1:sshPrnamt>11137</ns1:sshPrnamt>\\n\\t\\t\\t<ns1:sshPrnamtType>SH</ns1:sshPrnamtType>\\n\\t\\t</ns1:shrsOrPrnAmt>\\n\\t\\t<ns1:investmentDiscretion>SOLE</ns1:investmentDiscretion>\\n\\t\\t<ns1:votingAuthority>\\n\\t\\t\\t<ns1:Sole>11137</ns1:Sole>\\n\\t\\t\\t<ns1:Shared>0</ns1:Shared>\\n\\t\\t\\t<ns1:None>0</ns1:None>\\n\\t\\t</ns1:votingAuthority>\\n\\t</ns1:infoTable>\\n</ns1:informationTable>'"
      ]
     },
     "execution_count": 25,
     "metadata": {},
     "output_type": "execute_result"
    }
   ],
   "execution_count": 25
  },
  {
   "metadata": {
    "ExecuteTime": {
     "end_time": "2025-05-02T09:28:05.094556Z",
     "start_time": "2025-05-02T09:28:05.082402Z"
    }
   },
   "cell_type": "code",
   "source": [
    "import xml.etree.ElementTree as ET\n",
    "\n",
    "# 注册命名空间（SEC 13F XML 文件有默认命名空间）\n",
    "ns = {'ns': 'http://www.sec.gov/edgar/document/thirteenf/informationtable'}\n",
    "\n",
    "# 读取并解析 XML 文件\n",
    "root = ET.fromstring(ret[9])\n",
    "\n",
    "\n",
    "# 遍历每个 infoTable 节点\n",
    "for info in root.findall(\"ns:infoTable\", ns):\n",
    "    name = info.find(\"ns:nameOfIssuer\", ns).text.strip()\n",
    "    if name == \"APPLE INC\":\n",
    "        value = info.find(\"ns:value\", ns).text\n",
    "        print(f\"Found APPLE INC. Value: {value}\")"
   ],
   "id": "9294542c2d535f7e",
   "outputs": [
    {
     "name": "stdout",
     "output_type": "stream",
     "text": [
      "Found APPLE INC. Value: 133867817\n"
     ]
    }
   ],
   "execution_count": 27
  },
  {
   "metadata": {
    "ExecuteTime": {
     "end_time": "2025-05-02T09:15:41.320416Z",
     "start_time": "2025-05-02T09:15:19.768900Z"
    }
   },
   "cell_type": "code",
   "source": [
    "def callback_function(document):\n",
    "    # if document.contains_string(\"APPLE INC\"):\n",
    "    #     text = document.content\n",
    "    #     print(text)\n",
    "        # if isinstance(text, bytes):\n",
    "        #     text = text.decode(\"utf-8\", errors=\"ignore\")  # 防止解码失败\n",
    "        #\n",
    "        #     return text\n",
    "        # print()\n",
    "        # print(\"================\" * 5)\n",
    "\n",
    "    # return document.path\n",
    "\n",
    "# Process submissions - note that filters are applied here\n",
    "ret = portfolio.process_documents(callback=callback_function)"
   ],
   "id": "82d5130eea927ab4",
   "outputs": [
    {
     "name": "stderr",
     "output_type": "stream",
     "text": [
      "IOPub data rate exceeded.\n",
      "The Jupyter server will temporarily stop sending output\n",
      "to the client in order to avoid crashing it.\n",
      "To change this limit, set the config variable\n",
      "`--ServerApp.iopub_data_rate_limit`.\n",
      "\n",
      "Current values:\n",
      "ServerApp.iopub_data_rate_limit=1000000.0 (bytes/sec)\n",
      "ServerApp.rate_limit_window=3.0 (secs)\n",
      "\n",
      "Processing documents:   1%|          | 151/15182 [00:00<00:01, 7603.67it/s]\n"
     ]
    },
    {
     "ename": "TypeError",
     "evalue": "cannot use a string pattern on a bytes-like object",
     "output_type": "error",
     "traceback": [
      "\u001B[0;31m---------------------------------------------------------------------------\u001B[0m",
      "\u001B[0;31mTypeError\u001B[0m                                 Traceback (most recent call last)",
      "Cell \u001B[0;32mIn[15], line 15\u001B[0m\n\u001B[1;32m      4\u001B[0m         \u001B[38;5;28mprint\u001B[39m(text)\n\u001B[1;32m      5\u001B[0m         \u001B[38;5;66;03m# if isinstance(text, bytes):\u001B[39;00m\n\u001B[1;32m      6\u001B[0m         \u001B[38;5;66;03m#     text = text.decode(\"utf-8\", errors=\"ignore\")  # 防止解码失败\u001B[39;00m\n\u001B[1;32m      7\u001B[0m         \u001B[38;5;66;03m#\u001B[39;00m\n\u001B[0;32m   (...)\u001B[0m\n\u001B[1;32m     13\u001B[0m \n\u001B[1;32m     14\u001B[0m \u001B[38;5;66;03m# Process submissions - note that filters are applied here\u001B[39;00m\n\u001B[0;32m---> 15\u001B[0m ret \u001B[38;5;241m=\u001B[39m \u001B[43mportfolio\u001B[49m\u001B[38;5;241;43m.\u001B[39;49m\u001B[43mprocess_documents\u001B[49m\u001B[43m(\u001B[49m\u001B[43mcallback\u001B[49m\u001B[38;5;241;43m=\u001B[39;49m\u001B[43mcallback_function\u001B[49m\u001B[43m)\u001B[49m\n",
      "File \u001B[0;32m~/.conda/envs/datamule38/lib/python3.10/site-packages/datamule/portfolio.py:71\u001B[0m, in \u001B[0;36mPortfolio.process_documents\u001B[0;34m(self, callback)\u001B[0m\n\u001B[1;32m     68\u001B[0m documents \u001B[38;5;241m=\u001B[39m [doc \u001B[38;5;28;01mfor\u001B[39;00m sub \u001B[38;5;129;01min\u001B[39;00m \u001B[38;5;28mself\u001B[39m\u001B[38;5;241m.\u001B[39msubmissions \u001B[38;5;28;01mfor\u001B[39;00m doc \u001B[38;5;129;01min\u001B[39;00m sub]\n\u001B[1;32m     70\u001B[0m \u001B[38;5;28;01mwith\u001B[39;00m ThreadPoolExecutor(max_workers\u001B[38;5;241m=\u001B[39m\u001B[38;5;28mself\u001B[39m\u001B[38;5;241m.\u001B[39mMAX_WORKERS) \u001B[38;5;28;01mas\u001B[39;00m executor:\n\u001B[0;32m---> 71\u001B[0m     results \u001B[38;5;241m=\u001B[39m \u001B[38;5;28;43mlist\u001B[39;49m\u001B[43m(\u001B[49m\u001B[43mtqdm\u001B[49m\u001B[43m(\u001B[49m\n\u001B[1;32m     72\u001B[0m \u001B[43m        \u001B[49m\u001B[43mexecutor\u001B[49m\u001B[38;5;241;43m.\u001B[39;49m\u001B[43mmap\u001B[49m\u001B[43m(\u001B[49m\u001B[43mcallback\u001B[49m\u001B[43m,\u001B[49m\u001B[43m \u001B[49m\u001B[43mdocuments\u001B[49m\u001B[43m)\u001B[49m\u001B[43m,\u001B[49m\n\u001B[1;32m     73\u001B[0m \u001B[43m        \u001B[49m\u001B[43mtotal\u001B[49m\u001B[38;5;241;43m=\u001B[39;49m\u001B[38;5;28;43mlen\u001B[39;49m\u001B[43m(\u001B[49m\u001B[43mdocuments\u001B[49m\u001B[43m)\u001B[49m\u001B[43m,\u001B[49m\n\u001B[1;32m     74\u001B[0m \u001B[43m        \u001B[49m\u001B[43mdesc\u001B[49m\u001B[38;5;241;43m=\u001B[39;49m\u001B[38;5;124;43m\"\u001B[39;49m\u001B[38;5;124;43mProcessing documents\u001B[39;49m\u001B[38;5;124;43m\"\u001B[39;49m\n\u001B[1;32m     75\u001B[0m \u001B[43m    \u001B[49m\u001B[43m)\u001B[49m\u001B[43m)\u001B[49m\n\u001B[1;32m     76\u001B[0m     \u001B[38;5;28;01mreturn\u001B[39;00m results\n",
      "File \u001B[0;32m~/.conda/envs/datamule38/lib/python3.10/site-packages/tqdm/std.py:1181\u001B[0m, in \u001B[0;36mtqdm.__iter__\u001B[0;34m(self)\u001B[0m\n\u001B[1;32m   1178\u001B[0m time \u001B[38;5;241m=\u001B[39m \u001B[38;5;28mself\u001B[39m\u001B[38;5;241m.\u001B[39m_time\n\u001B[1;32m   1180\u001B[0m \u001B[38;5;28;01mtry\u001B[39;00m:\n\u001B[0;32m-> 1181\u001B[0m     \u001B[38;5;28;01mfor\u001B[39;00m obj \u001B[38;5;129;01min\u001B[39;00m iterable:\n\u001B[1;32m   1182\u001B[0m         \u001B[38;5;28;01myield\u001B[39;00m obj\n\u001B[1;32m   1183\u001B[0m         \u001B[38;5;66;03m# Update and possibly print the progressbar.\u001B[39;00m\n\u001B[1;32m   1184\u001B[0m         \u001B[38;5;66;03m# Note: does not call self.update(1) for speed optimisation.\u001B[39;00m\n",
      "File \u001B[0;32m~/.conda/envs/datamule38/lib/python3.10/concurrent/futures/_base.py:621\u001B[0m, in \u001B[0;36mExecutor.map.<locals>.result_iterator\u001B[0;34m()\u001B[0m\n\u001B[1;32m    618\u001B[0m \u001B[38;5;28;01mwhile\u001B[39;00m fs:\n\u001B[1;32m    619\u001B[0m     \u001B[38;5;66;03m# Careful not to keep a reference to the popped future\u001B[39;00m\n\u001B[1;32m    620\u001B[0m     \u001B[38;5;28;01mif\u001B[39;00m timeout \u001B[38;5;129;01mis\u001B[39;00m \u001B[38;5;28;01mNone\u001B[39;00m:\n\u001B[0;32m--> 621\u001B[0m         \u001B[38;5;28;01myield\u001B[39;00m \u001B[43m_result_or_cancel\u001B[49m\u001B[43m(\u001B[49m\u001B[43mfs\u001B[49m\u001B[38;5;241;43m.\u001B[39;49m\u001B[43mpop\u001B[49m\u001B[43m(\u001B[49m\u001B[43m)\u001B[49m\u001B[43m)\u001B[49m\n\u001B[1;32m    622\u001B[0m     \u001B[38;5;28;01melse\u001B[39;00m:\n\u001B[1;32m    623\u001B[0m         \u001B[38;5;28;01myield\u001B[39;00m _result_or_cancel(fs\u001B[38;5;241m.\u001B[39mpop(), end_time \u001B[38;5;241m-\u001B[39m time\u001B[38;5;241m.\u001B[39mmonotonic())\n",
      "File \u001B[0;32m~/.conda/envs/datamule38/lib/python3.10/concurrent/futures/_base.py:319\u001B[0m, in \u001B[0;36m_result_or_cancel\u001B[0;34m(***failed resolving arguments***)\u001B[0m\n\u001B[1;32m    317\u001B[0m \u001B[38;5;28;01mtry\u001B[39;00m:\n\u001B[1;32m    318\u001B[0m     \u001B[38;5;28;01mtry\u001B[39;00m:\n\u001B[0;32m--> 319\u001B[0m         \u001B[38;5;28;01mreturn\u001B[39;00m \u001B[43mfut\u001B[49m\u001B[38;5;241;43m.\u001B[39;49m\u001B[43mresult\u001B[49m\u001B[43m(\u001B[49m\u001B[43mtimeout\u001B[49m\u001B[43m)\u001B[49m\n\u001B[1;32m    320\u001B[0m     \u001B[38;5;28;01mfinally\u001B[39;00m:\n\u001B[1;32m    321\u001B[0m         fut\u001B[38;5;241m.\u001B[39mcancel()\n",
      "File \u001B[0;32m~/.conda/envs/datamule38/lib/python3.10/concurrent/futures/_base.py:451\u001B[0m, in \u001B[0;36mFuture.result\u001B[0;34m(self, timeout)\u001B[0m\n\u001B[1;32m    449\u001B[0m     \u001B[38;5;28;01mraise\u001B[39;00m CancelledError()\n\u001B[1;32m    450\u001B[0m \u001B[38;5;28;01melif\u001B[39;00m \u001B[38;5;28mself\u001B[39m\u001B[38;5;241m.\u001B[39m_state \u001B[38;5;241m==\u001B[39m FINISHED:\n\u001B[0;32m--> 451\u001B[0m     \u001B[38;5;28;01mreturn\u001B[39;00m \u001B[38;5;28;43mself\u001B[39;49m\u001B[38;5;241;43m.\u001B[39;49m\u001B[43m__get_result\u001B[49m\u001B[43m(\u001B[49m\u001B[43m)\u001B[49m\n\u001B[1;32m    453\u001B[0m \u001B[38;5;28mself\u001B[39m\u001B[38;5;241m.\u001B[39m_condition\u001B[38;5;241m.\u001B[39mwait(timeout)\n\u001B[1;32m    455\u001B[0m \u001B[38;5;28;01mif\u001B[39;00m \u001B[38;5;28mself\u001B[39m\u001B[38;5;241m.\u001B[39m_state \u001B[38;5;129;01min\u001B[39;00m [CANCELLED, CANCELLED_AND_NOTIFIED]:\n",
      "File \u001B[0;32m~/.conda/envs/datamule38/lib/python3.10/concurrent/futures/_base.py:403\u001B[0m, in \u001B[0;36mFuture.__get_result\u001B[0;34m(self)\u001B[0m\n\u001B[1;32m    401\u001B[0m \u001B[38;5;28;01mif\u001B[39;00m \u001B[38;5;28mself\u001B[39m\u001B[38;5;241m.\u001B[39m_exception:\n\u001B[1;32m    402\u001B[0m     \u001B[38;5;28;01mtry\u001B[39;00m:\n\u001B[0;32m--> 403\u001B[0m         \u001B[38;5;28;01mraise\u001B[39;00m \u001B[38;5;28mself\u001B[39m\u001B[38;5;241m.\u001B[39m_exception\n\u001B[1;32m    404\u001B[0m     \u001B[38;5;28;01mfinally\u001B[39;00m:\n\u001B[1;32m    405\u001B[0m         \u001B[38;5;66;03m# Break a reference cycle with the exception in self._exception\u001B[39;00m\n\u001B[1;32m    406\u001B[0m         \u001B[38;5;28mself\u001B[39m \u001B[38;5;241m=\u001B[39m \u001B[38;5;28;01mNone\u001B[39;00m\n",
      "File \u001B[0;32m~/.conda/envs/datamule38/lib/python3.10/concurrent/futures/thread.py:58\u001B[0m, in \u001B[0;36m_WorkItem.run\u001B[0;34m(self)\u001B[0m\n\u001B[1;32m     55\u001B[0m     \u001B[38;5;28;01mreturn\u001B[39;00m\n\u001B[1;32m     57\u001B[0m \u001B[38;5;28;01mtry\u001B[39;00m:\n\u001B[0;32m---> 58\u001B[0m     result \u001B[38;5;241m=\u001B[39m \u001B[38;5;28;43mself\u001B[39;49m\u001B[38;5;241;43m.\u001B[39;49m\u001B[43mfn\u001B[49m\u001B[43m(\u001B[49m\u001B[38;5;241;43m*\u001B[39;49m\u001B[38;5;28;43mself\u001B[39;49m\u001B[38;5;241;43m.\u001B[39;49m\u001B[43margs\u001B[49m\u001B[43m,\u001B[49m\u001B[43m \u001B[49m\u001B[38;5;241;43m*\u001B[39;49m\u001B[38;5;241;43m*\u001B[39;49m\u001B[38;5;28;43mself\u001B[39;49m\u001B[38;5;241;43m.\u001B[39;49m\u001B[43mkwargs\u001B[49m\u001B[43m)\u001B[49m\n\u001B[1;32m     59\u001B[0m \u001B[38;5;28;01mexcept\u001B[39;00m \u001B[38;5;167;01mBaseException\u001B[39;00m \u001B[38;5;28;01mas\u001B[39;00m exc:\n\u001B[1;32m     60\u001B[0m     \u001B[38;5;28mself\u001B[39m\u001B[38;5;241m.\u001B[39mfuture\u001B[38;5;241m.\u001B[39mset_exception(exc)\n",
      "Cell \u001B[0;32mIn[15], line 2\u001B[0m, in \u001B[0;36mcallback_function\u001B[0;34m(document)\u001B[0m\n\u001B[1;32m      1\u001B[0m \u001B[38;5;28;01mdef\u001B[39;00m\u001B[38;5;250m \u001B[39m\u001B[38;5;21mcallback_function\u001B[39m(document):\n\u001B[0;32m----> 2\u001B[0m     \u001B[38;5;28;01mif\u001B[39;00m \u001B[43mdocument\u001B[49m\u001B[38;5;241;43m.\u001B[39;49m\u001B[43mcontains_string\u001B[49m\u001B[43m(\u001B[49m\u001B[38;5;124;43m\"\u001B[39;49m\u001B[38;5;124;43mAPPLE INC\u001B[39;49m\u001B[38;5;124;43m\"\u001B[39;49m\u001B[43m)\u001B[49m:\n\u001B[1;32m      3\u001B[0m         text \u001B[38;5;241m=\u001B[39m document\u001B[38;5;241m.\u001B[39mcontent\n\u001B[1;32m      4\u001B[0m         \u001B[38;5;28mprint\u001B[39m(text)\n",
      "File \u001B[0;32m~/.conda/envs/datamule38/lib/python3.10/site-packages/datamule/document/document.py:93\u001B[0m, in \u001B[0;36mDocument.contains_string\u001B[0;34m(self, pattern)\u001B[0m\n\u001B[1;32m     91\u001B[0m \u001B[38;5;250m\u001B[39m\u001B[38;5;124;03m\"\"\"Works for select files\"\"\"\u001B[39;00m\n\u001B[1;32m     92\u001B[0m \u001B[38;5;28;01mif\u001B[39;00m \u001B[38;5;28mself\u001B[39m\u001B[38;5;241m.\u001B[39mextension \u001B[38;5;129;01min\u001B[39;00m [\u001B[38;5;124m'\u001B[39m\u001B[38;5;124m.htm\u001B[39m\u001B[38;5;124m'\u001B[39m, \u001B[38;5;124m'\u001B[39m\u001B[38;5;124m.html\u001B[39m\u001B[38;5;124m'\u001B[39m, \u001B[38;5;124m'\u001B[39m\u001B[38;5;124m.txt\u001B[39m\u001B[38;5;124m'\u001B[39m,\u001B[38;5;124m'\u001B[39m\u001B[38;5;124m.xml\u001B[39m\u001B[38;5;124m'\u001B[39m]:\n\u001B[0;32m---> 93\u001B[0m     \u001B[38;5;28;01mreturn\u001B[39;00m \u001B[38;5;28mbool\u001B[39m(\u001B[43mre\u001B[49m\u001B[38;5;241;43m.\u001B[39;49m\u001B[43msearch\u001B[49m\u001B[43m(\u001B[49m\u001B[43mpattern\u001B[49m\u001B[43m,\u001B[49m\u001B[43m \u001B[49m\u001B[38;5;28;43mself\u001B[39;49m\u001B[38;5;241;43m.\u001B[39;49m\u001B[43mcontent\u001B[49m\u001B[43m)\u001B[49m)\n\u001B[1;32m     94\u001B[0m \u001B[38;5;28;01mreturn\u001B[39;00m \u001B[38;5;28;01mFalse\u001B[39;00m\n",
      "File \u001B[0;32m~/.conda/envs/datamule38/lib/python3.10/re.py:200\u001B[0m, in \u001B[0;36msearch\u001B[0;34m(pattern, string, flags)\u001B[0m\n\u001B[1;32m    197\u001B[0m \u001B[38;5;28;01mdef\u001B[39;00m\u001B[38;5;250m \u001B[39m\u001B[38;5;21msearch\u001B[39m(pattern, string, flags\u001B[38;5;241m=\u001B[39m\u001B[38;5;241m0\u001B[39m):\n\u001B[1;32m    198\u001B[0m \u001B[38;5;250m    \u001B[39m\u001B[38;5;124;03m\"\"\"Scan through string looking for a match to the pattern, returning\u001B[39;00m\n\u001B[1;32m    199\u001B[0m \u001B[38;5;124;03m    a Match object, or None if no match was found.\"\"\"\u001B[39;00m\n\u001B[0;32m--> 200\u001B[0m     \u001B[38;5;28;01mreturn\u001B[39;00m \u001B[43m_compile\u001B[49m\u001B[43m(\u001B[49m\u001B[43mpattern\u001B[49m\u001B[43m,\u001B[49m\u001B[43m \u001B[49m\u001B[43mflags\u001B[49m\u001B[43m)\u001B[49m\u001B[38;5;241;43m.\u001B[39;49m\u001B[43msearch\u001B[49m\u001B[43m(\u001B[49m\u001B[43mstring\u001B[49m\u001B[43m)\u001B[49m\n",
      "\u001B[0;31mTypeError\u001B[0m: cannot use a string pattern on a bytes-like object"
     ]
    }
   ],
   "execution_count": 15
  },
  {
   "metadata": {
    "ExecuteTime": {
     "end_time": "2025-05-02T09:13:09.678693Z",
     "start_time": "2025-05-02T09:13:09.674888Z"
    }
   },
   "cell_type": "code",
   "source": "# print(ret[0])",
   "id": "f9983671cf94d680",
   "outputs": [],
   "execution_count": 12
  },
  {
   "metadata": {},
   "cell_type": "code",
   "outputs": [],
   "execution_count": null,
   "source": "",
   "id": "5e1f51f9a997e052"
  }
 ],
 "metadata": {
  "kernelspec": {
   "display_name": "Python 3",
   "language": "python",
   "name": "python3"
  },
  "language_info": {
   "codemirror_mode": {
    "name": "ipython",
    "version": 2
   },
   "file_extension": ".py",
   "mimetype": "text/x-python",
   "name": "python",
   "nbconvert_exporter": "python",
   "pygments_lexer": "ipython2",
   "version": "2.7.6"
  }
 },
 "nbformat": 4,
 "nbformat_minor": 5
}
