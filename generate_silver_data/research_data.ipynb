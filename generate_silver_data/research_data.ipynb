{
 "cells": [
  {
   "metadata": {
    "ExecuteTime": {
     "end_time": "2025-05-02T04:49:49.543524Z",
     "start_time": "2025-05-02T04:49:42.906922Z"
    }
   },
   "cell_type": "code",
   "source": [
    "import pandas as pd\n",
    "\n",
    "# 1. Load the TSV file into a DataFrame\n",
    "df = pd.read_csv(\"/Users/zealot/Downloads/2020q1_form13f/INFOTABLE.tsv\", sep=\"\\t\")\n",
    "\n",
    "# 2. Count the total number of unique companies\n",
    "total_companies = df[\"NAMEOFISSUER\"].nunique()\n",
    "\n",
    "# 3. Count how many records (rows) each company has\n",
    "company_record_counts = df[\"NAMEOFISSUER\"].value_counts()\n",
    "\n",
    "# 4. Get the top 10 companies with the most records\n",
    "top_10_companies = company_record_counts.head(10)\n",
    "\n",
    "# 5. Count the total number of unique investment institutions\n",
    "total_institutions = df[\"ACCESSION_NUMBER\"].nunique()\n",
    "\n",
    "# 6. For each institution, count how many unique companies they invested in\n",
    "institution_company_counts = df.groupby(\"ACCESSION_NUMBER\")[\"NAMEOFISSUER\"].nunique()\n",
    "\n",
    "# 7. Get the top 10 institutions that invested in the most companies\n",
    "top_10_institutions = institution_company_counts.sort_values(ascending=False).head(10)\n",
    "\n",
    "# 8. Print the results\n",
    "print(\"✅ Total number of companies:\", total_companies)\n",
    "print(\"✅ Total number of investment institutions:\", total_institutions)\n",
    "\n",
    "print(\"\\n📊 Top 10 companies by number of records:\")\n",
    "print(top_10_companies)\n",
    "\n",
    "print(\"\\n🏦 Top 10 institutions by number of companies invested in:\")\n",
    "print(top_10_institutions)\n"
   ],
   "id": "efa0d5e582516be3",
   "outputs": [
    {
     "name": "stdout",
     "output_type": "stream",
     "text": [
      "✅ Total number of companies: 152346\n",
      "✅ Total number of investment institutions: 5712\n",
      "\n",
      "📊 Top 10 companies by number of records:\n",
      "NAMEOFISSUER\n",
      "ISHARES TR                      59963\n",
      "SPDR SERIES TRUST               13362\n",
      "VANGUARD INDEX FDS               9777\n",
      "SELECT SECTOR SPDR TR            8353\n",
      "SCHWAB STRATEGIC TR              7550\n",
      "ISHARES INC                      6803\n",
      "INVESCO EXCHANGE TRADED FD T     6441\n",
      "ALPHABET INC                     6278\n",
      "INVESCO EXCHNG TRADED FD TR      6060\n",
      "APPLE INC                        5097\n",
      "Name: count, dtype: int64\n",
      "\n",
      "🏦 Top 10 institutions by number of companies invested in:\n",
      "ACCESSION_NUMBER\n",
      "0000752798-20-000002    6301\n",
      "0000950123-20-002037    5298\n",
      "0000895421-20-000215    5227\n",
      "0000950123-20-000620    4932\n",
      "0001567619-20-003877    4872\n",
      "0001567619-20-003889    4824\n",
      "0000072971-20-000209    4818\n",
      "0000019617-20-000205    4532\n",
      "0000950123-20-001059    4374\n",
      "0001086364-20-000006    4325\n",
      "Name: NAMEOFISSUER, dtype: int64\n"
     ]
    }
   ],
   "execution_count": 9
  },
  {
   "metadata": {
    "ExecuteTime": {
     "end_time": "2025-05-02T04:38:34.085625Z",
     "start_time": "2025-05-02T04:38:34.079217Z"
    }
   },
   "cell_type": "code",
   "source": "df.columns",
   "id": "dfc6e76e435473fe",
   "outputs": [
    {
     "data": {
      "text/plain": [
       "Index(['ACCESSION_NUMBER', 'INFOTABLE_SK', 'NAMEOFISSUER', 'TITLEOFCLASS',\n",
       "       'CUSIP', 'FIGI', 'VALUE', 'SSHPRNAMT', 'SSHPRNAMTTYPE', 'PUTCALL',\n",
       "       'INVESTMENTDISCRETION', 'OTHERMANAGER', 'VOTING_AUTH_SOLE',\n",
       "       'VOTING_AUTH_SHARED', 'VOTING_AUTH_NONE'],\n",
       "      dtype='object')"
      ]
     },
     "execution_count": 6,
     "metadata": {},
     "output_type": "execute_result"
    }
   ],
   "execution_count": 6
  },
  {
   "metadata": {},
   "cell_type": "code",
   "outputs": [],
   "execution_count": null,
   "source": "",
   "id": "3a2c53c206fd0039"
  }
 ],
 "metadata": {
  "kernelspec": {
   "display_name": "Python 3",
   "language": "python",
   "name": "python3"
  },
  "language_info": {
   "codemirror_mode": {
    "name": "ipython",
    "version": 2
   },
   "file_extension": ".py",
   "mimetype": "text/x-python",
   "name": "python",
   "nbconvert_exporter": "python",
   "pygments_lexer": "ipython2",
   "version": "2.7.6"
  }
 },
 "nbformat": 4,
 "nbformat_minor": 5
}
